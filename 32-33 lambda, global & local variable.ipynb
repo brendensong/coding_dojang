{
 "cells": [
  {
   "cell_type": "markdown",
   "id": "0f770cb1",
   "metadata": {},
   "source": [
    "## lambda expression"
   ]
  },
  {
   "cell_type": "code",
   "execution_count": 7,
   "id": "c5e2110c",
   "metadata": {},
   "outputs": [
    {
     "data": {
      "text/plain": [
       "15"
      ]
     },
     "execution_count": 7,
     "metadata": {},
     "output_type": "execute_result"
    }
   ],
   "source": [
    "# regular expression\n",
    "def plus_ten(x):\n",
    "    return x + 10\n",
    "plus_ten(5)"
   ]
  },
  {
   "cell_type": "code",
   "execution_count": 8,
   "id": "c7a69f33",
   "metadata": {},
   "outputs": [
    {
     "data": {
      "text/plain": [
       "14"
      ]
     },
     "execution_count": 8,
     "metadata": {},
     "output_type": "execute_result"
    }
   ],
   "source": [
    "# lambda\n",
    "plus_ten = lambda x: x + 10\n",
    "plus_ten(4)"
   ]
  },
  {
   "cell_type": "markdown",
   "id": "fd9efa3c",
   "metadata": {},
   "source": [
    "![](https://dojang.io/pluginfile.php/13854/mod_page/content/3/032001.png)"
   ]
  },
  {
   "cell_type": "code",
   "execution_count": 9,
   "id": "b0f48112",
   "metadata": {},
   "outputs": [
    {
     "data": {
      "text/plain": [
       "12"
      ]
     },
     "execution_count": 9,
     "metadata": {},
     "output_type": "execute_result"
    }
   ],
   "source": [
    "(lambda x: x + 10)(2)"
   ]
  },
  {
   "cell_type": "code",
   "execution_count": 10,
   "id": "ce247216",
   "metadata": {},
   "outputs": [
    {
     "data": {
      "text/plain": [
       "13"
      ]
     },
     "execution_count": 10,
     "metadata": {},
     "output_type": "execute_result"
    }
   ],
   "source": [
    "y = 10\n",
    "(lambda x : x + y)(3)"
   ]
  },
  {
   "cell_type": "code",
   "execution_count": 11,
   "id": "df987197",
   "metadata": {},
   "outputs": [
    {
     "data": {
      "text/plain": [
       "[11, 12, 13]"
      ]
     },
     "execution_count": 11,
     "metadata": {},
     "output_type": "execute_result"
    }
   ],
   "source": [
    "# regular expression\n",
    "def plus_ten(x):\n",
    "    return x + 10\n",
    "list(map(plus_ten, [1, 2, 3]))"
   ]
  },
  {
   "cell_type": "code",
   "execution_count": 12,
   "id": "6221a461",
   "metadata": {},
   "outputs": [
    {
     "data": {
      "text/plain": [
       "[11, 12, 13]"
      ]
     },
     "execution_count": 12,
     "metadata": {},
     "output_type": "execute_result"
    }
   ],
   "source": [
    "# lambda\n",
    "list(map(lambda x: x + 10, [1,2,3]))"
   ]
  },
  {
   "cell_type": "code",
   "execution_count": 13,
   "id": "4e229fa9",
   "metadata": {},
   "outputs": [
    {
     "data": {
      "text/plain": [
       "10"
      ]
     },
     "execution_count": 13,
     "metadata": {},
     "output_type": "execute_result"
    }
   ],
   "source": [
    "# without val\n",
    "x = 10\n",
    "(lambda : x)()\n"
   ]
  },
  {
   "cell_type": "markdown",
   "id": "04f748f2",
   "metadata": {},
   "source": [
    "## `map()`"
   ]
  },
  {
   "cell_type": "code",
   "execution_count": 14,
   "id": "1eaeea8b",
   "metadata": {},
   "outputs": [
    {
     "data": {
      "text/plain": [
       "[1, 2, '3', 4, 5, '6', 7, 8, '9', 10]"
      ]
     },
     "execution_count": 14,
     "metadata": {},
     "output_type": "execute_result"
    }
   ],
   "source": [
    "a = [1, 2, 3, 4, 5, 6, 7, 8, 9, 10]\n",
    "list(map(lambda x: str(x) if x % 3 == 0 else x, a))"
   ]
  },
  {
   "cell_type": "code",
   "execution_count": 15,
   "id": "865fdfb0",
   "metadata": {},
   "outputs": [
    {
     "data": {
      "text/plain": [
       "[2, 8, 18, 32, 50]"
      ]
     },
     "execution_count": 15,
     "metadata": {},
     "output_type": "execute_result"
    }
   ],
   "source": [
    "a = [1, 2, 3, 4, 5]\n",
    "b = [2, 4, 6, 8, 10]\n",
    "list(map(lambda x, y: x * y, a, b))\n"
   ]
  },
  {
   "cell_type": "markdown",
   "id": "6b656337",
   "metadata": {},
   "source": [
    "## `filter()`"
   ]
  },
  {
   "cell_type": "code",
   "execution_count": 16,
   "id": "b0689b1c",
   "metadata": {},
   "outputs": [
    {
     "data": {
      "text/plain": [
       "[8, 7, 9]"
      ]
     },
     "execution_count": 16,
     "metadata": {},
     "output_type": "execute_result"
    }
   ],
   "source": [
    "def f(x):\n",
    "    return x > 5 and x < 10\n",
    "\n",
    "a = [8, 3, 2, 10, 15, 7, 1, 9, 0, 11]\n",
    "list(filter(f, a))"
   ]
  },
  {
   "cell_type": "code",
   "execution_count": 17,
   "id": "79758c69",
   "metadata": {},
   "outputs": [
    {
     "data": {
      "text/plain": [
       "[8, 7, 9]"
      ]
     },
     "execution_count": 17,
     "metadata": {},
     "output_type": "execute_result"
    }
   ],
   "source": [
    "# lambda\n",
    "a = [8, 3, 2, 10, 15, 7, 1, 9, 0, 11]\n",
    "list(filter(lambda x: x > 5 and x < 10, a))"
   ]
  },
  {
   "cell_type": "code",
   "execution_count": 21,
   "id": "1938078b",
   "metadata": {},
   "outputs": [
    {
     "data": {
      "text/plain": [
       "[8, 7, 9]"
      ]
     },
     "execution_count": 21,
     "metadata": {},
     "output_type": "execute_result"
    }
   ],
   "source": [
    "# list expression\n",
    "a = [8, 3, 2, 10, 15, 7, 1, 9, 0, 11]\n",
    "[i for i in a if i > 5 and i < 10]"
   ]
  },
  {
   "cell_type": "markdown",
   "id": "9e8aa789",
   "metadata": {},
   "source": [
    "## `reduce()`"
   ]
  },
  {
   "cell_type": "code",
   "execution_count": 18,
   "id": "b7521293",
   "metadata": {},
   "outputs": [
    {
     "data": {
      "text/plain": [
       "15"
      ]
     },
     "execution_count": 18,
     "metadata": {},
     "output_type": "execute_result"
    }
   ],
   "source": [
    "def f(x, y):\n",
    "    return x + y\n",
    "\n",
    "a = [1, 2, 3, 4, 5]\n",
    "from functools import reduce\n",
    "reduce(f, a)"
   ]
  },
  {
   "cell_type": "code",
   "execution_count": 19,
   "id": "dcf61c61",
   "metadata": {},
   "outputs": [
    {
     "data": {
      "text/plain": [
       "15"
      ]
     },
     "execution_count": 19,
     "metadata": {},
     "output_type": "execute_result"
    }
   ],
   "source": [
    "# lambda\n",
    "a = [1, 2, 3, 4, 5]\n",
    "from functools import reduce\n",
    "reduce(lambda x, y: x + y, a)"
   ]
  },
  {
   "cell_type": "code",
   "execution_count": 22,
   "id": "bb170cc2",
   "metadata": {},
   "outputs": [
    {
     "data": {
      "text/plain": [
       "15"
      ]
     },
     "execution_count": 22,
     "metadata": {},
     "output_type": "execute_result"
    }
   ],
   "source": [
    "# for expression\n",
    "a = [1, 2, 3, 4, 5]\n",
    "x = a[0]\n",
    "for i in range(len(a) - 1):\n",
    "    x = x + a[i + 1]\n",
    "\n",
    "x"
   ]
  },
  {
   "cell_type": "markdown",
   "id": "92e59309",
   "metadata": {},
   "source": [
    "## 32.4 Exercise: Find only image files\n",
    "\n",
    "Find only image files with extentions '.jpg' and '.png', and print them as a list file.\n",
    "\n",
    "소스 코드를 완성하여 확장자가 .jpg, .png인 이미지 파일만 출력되게 만드세요. 여기서는 람다 표현식을 사용해야 하며 출력 결과는 리스트 형태라야 합니다. 람다 표현식에서 확장자를 검사할 때는 문자열 메서드를 활용하세요."
   ]
  },
  {
   "cell_type": "code",
   "execution_count": 23,
   "id": "618f1bbd",
   "metadata": {},
   "outputs": [
    {
     "name": "stdout",
     "output_type": "stream",
     "text": [
      "['1.png', '10.jpg', '2.jpg', '3.png']\n"
     ]
    }
   ],
   "source": [
    "files = ['font', '1.png', '10.jpg', '11.gif', '2.jpg', '3.png', 'table.xslx', 'spec.docx']\n",
    "\n",
    "print(list(filter(lambda x: '.jpg' in x or '.png' in x, files)))"
   ]
  },
  {
   "cell_type": "code",
   "execution_count": 24,
   "id": "2704156b",
   "metadata": {},
   "outputs": [
    {
     "data": {
      "text/plain": [
       "['1.png', '10.jpg', '2.jpg', '3.png']"
      ]
     },
     "execution_count": 24,
     "metadata": {},
     "output_type": "execute_result"
    }
   ],
   "source": [
    "# or\n",
    "list(filter(lambda x: x.find('.jpg') != -1 or x.find('.png') != -1, files))"
   ]
  },
  {
   "cell_type": "markdown",
   "id": "1e1da309",
   "metadata": {},
   "source": [
    "## 32.5 Problem: Rename files all at once\n",
    "\n",
    "표준 입력으로 `숫자.확장자` 형식으로 된 파일 이름 여러 개가 입력됩니다. 다음 소스 코드를 완성하여 파일 이름이 숫자 3개이면서 앞에 0이 들어가는 형식으로 출력되게 만드세요. 예를 들어 `1.png`는 `001.png`, `99.docx`는 `099.docx`, `100.xlsx`는 `100.xlsx`처럼 출력되어야 합니다. 그리고 람다 표현식을 사용해야 하며 출력 결과는 리스트 형태라야 합니다. 람다 표현식에서 파일명을 처리할 때는 문자열 포매팅과 문자열 메서드를 활용하세요."
   ]
  },
  {
   "cell_type": "code",
   "execution_count": 7,
   "id": "167b4095",
   "metadata": {},
   "outputs": [
    {
     "name": "stdout",
     "output_type": "stream",
     "text": [
      "97.xlsx 98.docx 99.docx 100.xlsx 101.docx 102.docx\n",
      "['097.xlsx', '098.docx', '099.docx', '100.xlsx', '101.docx', '102.docx']\n"
     ]
    }
   ],
   "source": [
    "files = input().split()\n",
    "\n",
    "print(list(map(lambda x : '00' + x if x.find('.') == 1 else \n",
    "               '0' + x if x.find('.') == 2 else x, files)))"
   ]
  },
  {
   "cell_type": "code",
   "execution_count": 9,
   "id": "6604fa77",
   "metadata": {},
   "outputs": [
    {
     "name": "stdout",
     "output_type": "stream",
     "text": [
      "['001.jpg', '010.png', '011.png', '002.jpg', '003.png']\n"
     ]
    }
   ],
   "source": [
    "files = ['1.jpg', '10.png', '11.png', '2.jpg', '3.png' ]\n",
    "\n",
    "print(list(map(lambda x : '{0:03d}.{1}'.format(int(x.split('.')[0]), \n",
    "                                               x.split('.')[1]), files)))"
   ]
  },
  {
   "cell_type": "markdown",
   "id": "c11f82d8",
   "metadata": {},
   "source": [
    "## global & local variable"
   ]
  },
  {
   "cell_type": "code",
   "execution_count": 10,
   "id": "887c5d11",
   "metadata": {},
   "outputs": [
    {
     "name": "stdout",
     "output_type": "stream",
     "text": [
      "10\n",
      "10\n"
     ]
    }
   ],
   "source": [
    "# global variable\n",
    "x = 10\n",
    "def foo():\n",
    "    print(x)\n",
    "    \n",
    "foo()\n",
    "print(x)"
   ]
  },
  {
   "cell_type": "code",
   "execution_count": 12,
   "id": "fcc12a20",
   "metadata": {},
   "outputs": [
    {
     "name": "stdout",
     "output_type": "stream",
     "text": [
      "10\n"
     ]
    },
    {
     "ename": "NameError",
     "evalue": "name 'y' is not defined",
     "output_type": "error",
     "traceback": [
      "\u001b[1;31m---------------------------------------------------------------------------\u001b[0m",
      "\u001b[1;31mNameError\u001b[0m                                 Traceback (most recent call last)",
      "\u001b[1;32m<ipython-input-12-f905cee1600f>\u001b[0m in \u001b[0;36m<module>\u001b[1;34m\u001b[0m\n\u001b[0;32m      5\u001b[0m \u001b[1;33m\u001b[0m\u001b[0m\n\u001b[0;32m      6\u001b[0m \u001b[0mfoo\u001b[0m\u001b[1;33m(\u001b[0m\u001b[1;33m)\u001b[0m\u001b[1;33m\u001b[0m\u001b[1;33m\u001b[0m\u001b[0m\n\u001b[1;32m----> 7\u001b[1;33m \u001b[0mprint\u001b[0m\u001b[1;33m(\u001b[0m\u001b[0my\u001b[0m\u001b[1;33m)\u001b[0m\u001b[1;33m\u001b[0m\u001b[1;33m\u001b[0m\u001b[0m\n\u001b[0m",
      "\u001b[1;31mNameError\u001b[0m: name 'y' is not defined"
     ]
    }
   ],
   "source": [
    "# local variable\n",
    "def foo():\n",
    "    y = 10\n",
    "    print(y)\n",
    "    \n",
    "foo()\n",
    "print(y)"
   ]
  },
  {
   "cell_type": "code",
   "execution_count": 13,
   "id": "fab1bf15",
   "metadata": {},
   "outputs": [
    {
     "name": "stdout",
     "output_type": "stream",
     "text": [
      "20\n",
      "10\n"
     ]
    }
   ],
   "source": [
    "# global & local variable\n",
    "z = 10        # global val\n",
    "def foo():\n",
    "    z = 20    #local val\n",
    "    print(z)  # print local val\n",
    "\n",
    "foo()\n",
    "print(z)      # print global val"
   ]
  },
  {
   "cell_type": "code",
   "execution_count": 14,
   "id": "2d50541d",
   "metadata": {},
   "outputs": [
    {
     "name": "stdout",
     "output_type": "stream",
     "text": [
      "20\n",
      "20\n"
     ]
    }
   ],
   "source": [
    "def foo():\n",
    "    global a\n",
    "    a = 20\n",
    "    print(a)\n",
    "\n",
    "foo()\n",
    "print(a)"
   ]
  },
  {
   "cell_type": "code",
   "execution_count": 15,
   "id": "50b4b519",
   "metadata": {},
   "outputs": [
    {
     "name": "stdout",
     "output_type": "stream",
     "text": [
      "{'b': 10}\n"
     ]
    }
   ],
   "source": [
    "def foo():\n",
    "    b = 10\n",
    "    print(locals())\n",
    "foo()"
   ]
  },
  {
   "cell_type": "markdown",
   "id": "7afde6bd",
   "metadata": {},
   "source": [
    "## function in function"
   ]
  },
  {
   "cell_type": "code",
   "execution_count": 16,
   "id": "16e4200d",
   "metadata": {},
   "outputs": [
    {
     "name": "stdout",
     "output_type": "stream",
     "text": [
      "Hello, world!\n"
     ]
    }
   ],
   "source": [
    "def print_hello():\n",
    "    hello = 'Hello, world!'\n",
    "    def print_message():\n",
    "        print(hello)\n",
    "    print_message()\n",
    "\n",
    "print_hello()"
   ]
  },
  {
   "cell_type": "code",
   "execution_count": 17,
   "id": "5a758e3b",
   "metadata": {},
   "outputs": [
    {
     "name": "stdout",
     "output_type": "stream",
     "text": [
      "10\n"
     ]
    }
   ],
   "source": [
    "def A():\n",
    "    c = 10\n",
    "    def B():\n",
    "        c = 20\n",
    "    B()\n",
    "    print(c)\n",
    "A()"
   ]
  },
  {
   "cell_type": "code",
   "execution_count": 18,
   "id": "c19aa7b3",
   "metadata": {},
   "outputs": [
    {
     "name": "stdout",
     "output_type": "stream",
     "text": [
      "20\n"
     ]
    }
   ],
   "source": [
    "def A():\n",
    "    c = 10\n",
    "    def B():\n",
    "        nonlocal c\n",
    "        c = 20\n",
    "    B()\n",
    "    print(c)\n",
    "A()"
   ]
  },
  {
   "cell_type": "code",
   "execution_count": 19,
   "id": "6c0ca2b0",
   "metadata": {},
   "outputs": [
    {
     "name": "stdout",
     "output_type": "stream",
     "text": [
      "50\n",
      "400\n"
     ]
    }
   ],
   "source": [
    "# function in function_nonlocal keyword\n",
    "def A():\n",
    "    x = 10\n",
    "    y = 100\n",
    "    def B():\n",
    "        x = 20\n",
    "        def C():\n",
    "            nonlocal x\n",
    "            nonlocal y\n",
    "            x = x + 30\n",
    "            y = y + 300\n",
    "            print(x)\n",
    "            print(y)\n",
    "        C()\n",
    "    B()\n",
    "A()"
   ]
  },
  {
   "cell_type": "code",
   "execution_count": 20,
   "id": "eb0f6a12",
   "metadata": {},
   "outputs": [
    {
     "name": "stdout",
     "output_type": "stream",
     "text": [
      "31\n"
     ]
    }
   ],
   "source": [
    "# function in function_gloabal keyword\n",
    "x = 1\n",
    "def A():\n",
    "    x = 10\n",
    "    def B():\n",
    "        x = 20\n",
    "        def C():\n",
    "            global x\n",
    "            x = x + 30\n",
    "            print(x)\n",
    "        C()\n",
    "    B()\n",
    "A()"
   ]
  },
  {
   "cell_type": "markdown",
   "id": "f7cfe093",
   "metadata": {},
   "source": [
    "## closure"
   ]
  },
  {
   "cell_type": "code",
   "execution_count": 22,
   "id": "6ab1e28f",
   "metadata": {},
   "outputs": [
    {
     "name": "stdout",
     "output_type": "stream",
     "text": [
      "8 11 14 17 20\n"
     ]
    }
   ],
   "source": [
    "def calc():\n",
    "    a = 3\n",
    "    b = 5\n",
    "    def mul_add(x):\n",
    "        return a * x + b\n",
    "    return mul_add\n",
    "c = calc()\n",
    "print(c(1), c(2), c(3), c(4), c(5))"
   ]
  },
  {
   "cell_type": "markdown",
   "id": "eff8cb90",
   "metadata": {},
   "source": [
    "![](https://dojang.io/pluginfile.php/13868/mod_page/content/3/033004.png)"
   ]
  },
  {
   "cell_type": "code",
   "execution_count": 23,
   "id": "fa08f056",
   "metadata": {},
   "outputs": [
    {
     "name": "stdout",
     "output_type": "stream",
     "text": [
      "8 11 14 17 20\n"
     ]
    }
   ],
   "source": [
    "# closure lambda\n",
    "def calc():\n",
    "    a = 3\n",
    "    b = 5\n",
    "    return lambda x: a * x + b\n",
    "\n",
    "c = calc()\n",
    "print(c(1), c(2), c(3), c(4), c(5))"
   ]
  },
  {
   "cell_type": "code",
   "execution_count": 27,
   "id": "7cb86add",
   "metadata": {},
   "outputs": [
    {
     "name": "stdout",
     "output_type": "stream",
     "text": [
      "8\n",
      "19\n",
      "33\n"
     ]
    },
    {
     "data": {
      "text/plain": [
       "(None, None, None)"
      ]
     },
     "execution_count": 27,
     "metadata": {},
     "output_type": "execute_result"
    }
   ],
   "source": [
    "# closure nonlocal\n",
    "def calc():\n",
    "    a = 3\n",
    "    b = 5\n",
    "    total = 0\n",
    "    def mul_add(x):\n",
    "        nonlocal total\n",
    "        total = total + a * x + b\n",
    "        print(total)\n",
    "    return mul_add\n",
    "\n",
    "c = calc()\n",
    "c(1), c(2), c(3)"
   ]
  },
  {
   "cell_type": "markdown",
   "id": "c3fae884",
   "metadata": {},
   "source": [
    "## 33.5 Exercise: Count the number of calls"
   ]
  },
  {
   "cell_type": "code",
   "execution_count": 33,
   "id": "efa76395",
   "metadata": {},
   "outputs": [
    {
     "name": "stdout",
     "output_type": "stream",
     "text": [
      "1 2 3 4 5 6 7 8 9 10 "
     ]
    }
   ],
   "source": [
    "def counter():\n",
    "    i = 0\n",
    "    def count():\n",
    "        nonlocal i\n",
    "        i += 1\n",
    "        return i\n",
    "    return count\n",
    "\n",
    "c = counter()\n",
    "for i in range(10):\n",
    "    print(c(), end=' ')"
   ]
  },
  {
   "cell_type": "markdown",
   "id": "9b0c6040",
   "metadata": {},
   "source": [
    "## 33.6 Problem: Countdown\n",
    "\n",
    "표준 입력으로 정수가 입력됩니다. 소스 코드를 완성하여 함수 `c`를 호출할 때마다 숫자가 1씩 줄어들게 만드세요. 여기서는 함수를 클로저로 만들어야 합니다. "
   ]
  },
  {
   "cell_type": "code",
   "execution_count": 36,
   "id": "fe1580af",
   "metadata": {},
   "outputs": [
    {
     "name": "stdout",
     "output_type": "stream",
     "text": [
      "10\n",
      "10 9 8 7 6 5 4 3 2 1 "
     ]
    }
   ],
   "source": [
    "def countdown(n):\n",
    "    i = -1\n",
    "    n = n\n",
    "    def count():\n",
    "        nonlocal i\n",
    "        nonlocal n\n",
    "        i += 1\n",
    "        return n - i\n",
    "    return count\n",
    "\n",
    "n = int(input())\n",
    "\n",
    "c = countdown(n)\n",
    "for i in range(n):\n",
    "    print(c(), end=' ')"
   ]
  },
  {
   "cell_type": "code",
   "execution_count": 38,
   "id": "a79fe895",
   "metadata": {},
   "outputs": [
    {
     "name": "stdout",
     "output_type": "stream",
     "text": [
      "10\n",
      "10 9 8 7 6 5 4 3 2 1 "
     ]
    }
   ],
   "source": [
    "def countdown(n):\n",
    "    i = n + 1\n",
    "    def count():\n",
    "        nonlocal i\n",
    "        i -= 1\n",
    "        return i\n",
    "    return count\n",
    "\n",
    "n = int(input())\n",
    "\n",
    "c = countdown(n)\n",
    "for i in range(n):\n",
    "    print(c(), end=' ')"
   ]
  },
  {
   "cell_type": "code",
   "execution_count": null,
   "id": "0f770d0d",
   "metadata": {},
   "outputs": [],
   "source": []
  }
 ],
 "metadata": {
  "kernelspec": {
   "display_name": "Python 3",
   "language": "python",
   "name": "python3"
  },
  "language_info": {
   "codemirror_mode": {
    "name": "ipython",
    "version": 3
   },
   "file_extension": ".py",
   "mimetype": "text/x-python",
   "name": "python",
   "nbconvert_exporter": "python",
   "pygments_lexer": "ipython3",
   "version": "3.9.2"
  }
 },
 "nbformat": 4,
 "nbformat_minor": 5
}

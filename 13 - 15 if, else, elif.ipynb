{
 "cells": [
  {
   "cell_type": "markdown",
   "id": "c5d695c5",
   "metadata": {},
   "source": [
    "간단하게 만들기"
   ]
  },
  {
   "cell_type": "code",
   "execution_count": 1,
   "id": "6c6c871b",
   "metadata": {},
   "outputs": [
    {
     "data": {
      "text/plain": [
       "0"
      ]
     },
     "execution_count": 1,
     "metadata": {},
     "output_type": "execute_result"
    }
   ],
   "source": [
    "x = 5\n",
    "if x == 10:\n",
    "    y = x\n",
    "else:\n",
    "    y = 0\n",
    "y"
   ]
  },
  {
   "cell_type": "code",
   "execution_count": 2,
   "id": "71ecbea6",
   "metadata": {},
   "outputs": [
    {
     "data": {
      "text/plain": [
       "0"
      ]
     },
     "execution_count": 2,
     "metadata": {},
     "output_type": "execute_result"
    }
   ],
   "source": [
    "x = 5\n",
    "y = x if x == 10 else 0\n",
    "y"
   ]
  },
  {
   "cell_type": "markdown",
   "id": "015489f3",
   "metadata": {},
   "source": [
    "## 13.6 연습문제: if 조건문 사용하기\n",
    "\n",
    "소스 코드를 완성하여 x의 값이 10이 아닐 때 'ok'가 출력되게 만드세요."
   ]
  },
  {
   "cell_type": "code",
   "execution_count": 3,
   "id": "eb849f92",
   "metadata": {},
   "outputs": [
    {
     "name": "stdout",
     "output_type": "stream",
     "text": [
      "ok\n"
     ]
    }
   ],
   "source": [
    "x = 5\n",
    " \n",
    "if x != 10:\n",
    "    print('ok')"
   ]
  },
  {
   "cell_type": "markdown",
   "id": "e452c1e4",
   "metadata": {},
   "source": [
    "## 13.7 심사문제: 온라인 할인 쿠폰 시스템 만들기\n",
    "\n",
    "표준 입력으로 가격(정수)과 쿠폰 이름이 각 줄에 입력됩니다. `Cash3000` 쿠폰은 3,000원, `Cash5000` 쿠폰은 5,000원을 할인합니다. 쿠폰에 따라 할인된 가격을 출력하는 프로그램을 만드세요(`input`에서 안내 문자열은 출력하지 않아야 합니다).\n",
    "\n",
    "***예***\n",
    "\n",
    "입력\n",
    "\n",
    "`27000`\n",
    "\n",
    "`Cash3000`\n",
    "\n",
    "결과\n",
    "\n",
    "`24000`\n",
    "\n",
    "입력\n",
    "\n",
    "`72000`\n",
    "\n",
    "`Cash5000`\n",
    "\n",
    "결과\n",
    "\n",
    "`67000`"
   ]
  },
  {
   "cell_type": "code",
   "execution_count": 5,
   "id": "f9e115dd",
   "metadata": {},
   "outputs": [
    {
     "name": "stdout",
     "output_type": "stream",
     "text": [
      "27000\n",
      "Cash3000\n",
      "24000\n"
     ]
    }
   ],
   "source": [
    "price = int(input())\n",
    "coupon = input()\n",
    "if coupon == 'Cash3000':\n",
    "    price -= 3000\n",
    "if coupon == 'Cash5000':\n",
    "    price -= 5000\n",
    "print(price)"
   ]
  },
  {
   "cell_type": "markdown",
   "id": "f05e30e7",
   "metadata": {},
   "source": [
    "## 14.6 연습문제: 합격 여부 판단하기\n",
    "\n",
    "A 기업의 입사 시험은 필기 시험 점수가 80점 이상이면서 코딩 시험을 통과해야 합격이라고 정했습니다(코딩 시험 통과 여부는 `True`, `False`로 구분). 소스 코드를 완성하여 '`합격`', '`불합격`'이 출력되게 만드세요."
   ]
  },
  {
   "cell_type": "code",
   "execution_count": 6,
   "id": "12304839",
   "metadata": {},
   "outputs": [
    {
     "name": "stdout",
     "output_type": "stream",
     "text": [
      "불합격\n"
     ]
    }
   ],
   "source": [
    "written_test = 75\n",
    "coding_test = True\n",
    "\n",
    "if written_test >= 80 and coding_test == True:\n",
    "    print('합격')\n",
    "else:\n",
    "    print('불합격')"
   ]
  },
  {
   "cell_type": "markdown",
   "id": "cbea874a",
   "metadata": {},
   "source": [
    "## 14.7 심사문제: 합격 여부 판단하기\n",
    "\n",
    "표준 입력으로 국어, 영어, 수학, 과학 점수가 입력됩니다. 여기서 네 과목의 평균 점수가 80점 이상일 때 합격이라고 정했습니다. 평균 점수에 따라 '`합격`', '`불합격`'을 출력하는 프로그램을 만드세요(`input`에서 안내 문자열은 출력하지 않아야 합니다). 단, 점수는 0점부터 100점까지만 입력받을 수 있으며 범위를 벗어났다면 '`잘못된 점수`'를 출력하고 합격, 불합격 여부는 출력하지 않아야 합니다.\n",
    "\n",
    "***예***\n",
    "\n",
    "입력\n",
    "`89 72 93 82`\n",
    "\n",
    "결과\n",
    "`합격`\n",
    "\n",
    "입력\n",
    "`100 79 68 71`\n",
    "\n",
    "결과\n",
    "`불합격`\n",
    "\n",
    "입력\n",
    "`99 85 101 90`\n",
    "\n",
    "결과\n",
    "`잘못된 점수`"
   ]
  },
  {
   "cell_type": "code",
   "execution_count": 9,
   "id": "1d15d7f2",
   "metadata": {},
   "outputs": [
    {
     "name": "stdout",
     "output_type": "stream",
     "text": [
      "99 85 101 90\n",
      "잘못된 점수\n"
     ]
    }
   ],
   "source": [
    "k, e, m, s = map(int, input().split())\n",
    "if 0 <= k <= 100 and 0 <= e <= 100 and 0 <= m <= 100 and 0 <= s <= 100:\n",
    "    if (k + e + m + s) / 4 >= 80:\n",
    "        print('합격')\n",
    "    else:\n",
    "        print('불합격')\n",
    "else:\n",
    "    print('잘못된 점수')"
   ]
  },
  {
   "cell_type": "markdown",
   "id": "60762796",
   "metadata": {},
   "source": [
    "## 15.3 연습문제: if, elif, else 모두 사용하기\n",
    "\n",
    "소스 코드를 완성하여 변수 `x`가 11과 20 사이면 '`11~20`', 21과 30 사이면 '`21~30`', 아무것도 해당하지 않으면 '`아무것도 해당하지 않음`'이 출력되게 만드세요."
   ]
  },
  {
   "cell_type": "code",
   "execution_count": 11,
   "id": "bd377599",
   "metadata": {},
   "outputs": [
    {
     "name": "stdout",
     "output_type": "stream",
     "text": [
      "5\n",
      "아무것도 해당하지 않음\n"
     ]
    }
   ],
   "source": [
    "x = int(input())\n",
    "\n",
    "if 11 <= x <= 20:\n",
    "    print('11~20')\n",
    "elif 21 <= x <= 30:\n",
    "    print('21~30')\n",
    "else:\n",
    "    print('아무것도 해당하지 않음')"
   ]
  },
  {
   "cell_type": "markdown",
   "id": "54b11918",
   "metadata": {},
   "source": [
    "## 15.4 심사문제: 교통카드 시스템 만들기\n",
    "\n",
    "표준 입력으로 나이(만 나이)가 입력됩니다(입력 값은 7 이상 입력됨). 교통카드 시스템에서 시내버스 요금은 다음과 같으며 각 나이에 맞게 요금을 차감한 뒤 잔액이 출력되게 만드세요(`if`, `elif` 사용). 현재 교통카드에는 9,000원이 들어있습니다.\n",
    "\n",
    "어린이(초등학생, 만 7세 이상 12세 이하): 650원\n",
    "\n",
    "청소년(중∙고등학생, 만 13세 이상 18세 이하): 1,050원\n",
    "\n",
    "어른(일반, 만 19세 이상): 1,250원\n",
    "\n",
    "***예***\n",
    "\n",
    "입력\n",
    "`17`\n",
    "\n",
    "결과\n",
    "`7950`\n",
    "\n",
    "입력\n",
    "`12`\n",
    "\n",
    "결과\n",
    "`8350`"
   ]
  },
  {
   "cell_type": "code",
   "execution_count": 15,
   "id": "b26ce5d6",
   "metadata": {},
   "outputs": [
    {
     "name": "stdout",
     "output_type": "stream",
     "text": [
      "12\n",
      "8350\n"
     ]
    }
   ],
   "source": [
    "age = int(input())\n",
    "balance = 9000\n",
    "\n",
    "if 7 <= age <= 12:\n",
    "    balance -= 650\n",
    "elif 13 <= age <= 18:\n",
    "    balance -= 1050\n",
    "elif 19 <= age:\n",
    "    balance -= 1250\n",
    "\n",
    "print(balance)"
   ]
  },
  {
   "cell_type": "code",
   "execution_count": null,
   "id": "1c16a432",
   "metadata": {},
   "outputs": [],
   "source": []
  }
 ],
 "metadata": {
  "kernelspec": {
   "display_name": "Python 3",
   "language": "python",
   "name": "python3"
  },
  "language_info": {
   "codemirror_mode": {
    "name": "ipython",
    "version": 3
   },
   "file_extension": ".py",
   "mimetype": "text/x-python",
   "name": "python",
   "nbconvert_exporter": "python",
   "pygments_lexer": "ipython3",
   "version": "3.9.2"
  }
 },
 "nbformat": 4,
 "nbformat_minor": 5
}

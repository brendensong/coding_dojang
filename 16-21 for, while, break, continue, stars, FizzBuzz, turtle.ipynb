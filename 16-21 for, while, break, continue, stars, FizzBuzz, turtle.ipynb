{
 "cells": [
  {
   "cell_type": "markdown",
   "id": "944950a4",
   "metadata": {},
   "source": [
    "## `for` with `range`"
   ]
  },
  {
   "cell_type": "code",
   "execution_count": 8,
   "id": "7964116d",
   "metadata": {},
   "outputs": [
    {
     "name": "stdout",
     "output_type": "stream",
     "text": [
      "Hello 1\n",
      "Hello 2\n",
      "Hello 3\n",
      "Hello 4\n",
      "Hello 5\n",
      "Hello 6\n",
      "Hello 7\n",
      "Hello 8\n",
      "Hello 9\n",
      "Hello 10\n"
     ]
    }
   ],
   "source": [
    "for i in range(10):\n",
    "    print('Hello', i + 1)"
   ]
  },
  {
   "cell_type": "code",
   "execution_count": 10,
   "id": "e63a911e",
   "metadata": {},
   "outputs": [
    {
     "name": "stdout",
     "output_type": "stream",
     "text": [
      "countdown 10\n",
      "countdown 9\n",
      "countdown 8\n",
      "countdown 7\n",
      "countdown 6\n",
      "countdown 5\n",
      "countdown 4\n",
      "countdown 3\n",
      "countdown 2\n",
      "countdown 1\n"
     ]
    }
   ],
   "source": [
    "for i in range(10, 0, -1):\n",
    "    print('countdown', i)"
   ]
  },
  {
   "cell_type": "code",
   "execution_count": 12,
   "id": "c15eb72a",
   "metadata": {},
   "outputs": [
    {
     "name": "stdout",
     "output_type": "stream",
     "text": [
      "countdown 9\n",
      "countdown 8\n",
      "countdown 7\n",
      "countdown 6\n",
      "countdown 5\n",
      "countdown 4\n",
      "countdown 3\n",
      "countdown 2\n",
      "countdown 1\n",
      "countdown 0\n"
     ]
    }
   ],
   "source": [
    "for i in reversed(range(10)):\n",
    "    print('countdown', i)"
   ]
  },
  {
   "cell_type": "code",
   "execution_count": 13,
   "id": "7598b078",
   "metadata": {},
   "outputs": [
    {
     "name": "stdout",
     "output_type": "stream",
     "text": [
      "n o h t y P "
     ]
    }
   ],
   "source": [
    "for letter in reversed('Python'):\n",
    "    print(letter, end=' ')"
   ]
  },
  {
   "cell_type": "markdown",
   "id": "4a0d8dea",
   "metadata": {},
   "source": [
    "## 16.5 연습문제: 리스트의 요소에 10을 곱해서 출력하기\n",
    "\n",
    "소스 코드를 완성하여 리스트 `x`에 들어있는 각 숫자(요소)에 10을 곱한 값이 출력되게 만드세요. 모든 숫자는 공백으로 구분하여 한 줄로 출력되어야 합니다."
   ]
  },
  {
   "cell_type": "code",
   "execution_count": 14,
   "id": "34f86a2b",
   "metadata": {},
   "outputs": [
    {
     "name": "stdout",
     "output_type": "stream",
     "text": [
      "490 -170 250 1020 80 620 210 "
     ]
    }
   ],
   "source": [
    "x = [49, -17, 25, 102, 8, 62, 21]\n",
    "\n",
    "for i in x:\n",
    "    print(i * 10, end=' ')"
   ]
  },
  {
   "cell_type": "markdown",
   "id": "2b640ad4",
   "metadata": {},
   "source": [
    "## 16.6 심사문제: 구구단 출력하기\n",
    "표준 입력으로 정수가 입력됩니다. 입력된 정수의 구구단을 출력하는 프로그램을 만드세요(`input`에서 안내 문자열은 출력하지 않아야 합니다). 출력 형식은 `숫자 * 숫자 = 숫자`처럼 만들고 숫자와 `*`, `=` 사이는 공백을 한 칸 띄웁니다."
   ]
  },
  {
   "cell_type": "code",
   "execution_count": 16,
   "id": "b53179d3",
   "metadata": {},
   "outputs": [
    {
     "name": "stdout",
     "output_type": "stream",
     "text": [
      "3\n",
      "3 * 1 = 3\n",
      "3 * 2 = 6\n",
      "3 * 3 = 9\n",
      "3 * 4 = 12\n",
      "3 * 5 = 15\n",
      "3 * 6 = 18\n",
      "3 * 7 = 21\n",
      "3 * 8 = 24\n",
      "3 * 9 = 27\n"
     ]
    }
   ],
   "source": [
    "num = int(input())\n",
    "for i in range(1,10):\n",
    "    print(num, '*', i, '=', num * i)"
   ]
  },
  {
   "cell_type": "markdown",
   "id": "6cd6a571",
   "metadata": {},
   "source": [
    "## `while`"
   ]
  },
  {
   "cell_type": "code",
   "execution_count": 18,
   "id": "6b9d1045",
   "metadata": {
    "scrolled": true
   },
   "outputs": [
    {
     "name": "stdout",
     "output_type": "stream",
     "text": [
      "countdown 10\n",
      "countdown 9\n",
      "countdown 8\n",
      "countdown 7\n",
      "countdown 6\n",
      "countdown 5\n",
      "countdown 4\n",
      "countdown 3\n",
      "countdown 2\n",
      "countdown 1\n"
     ]
    }
   ],
   "source": [
    "i = 10\n",
    "while i > 0:\n",
    "    print('countdown', i)\n",
    "    i -= 1"
   ]
  },
  {
   "cell_type": "markdown",
   "id": "923ff87f",
   "metadata": {},
   "source": [
    "## `random`"
   ]
  },
  {
   "cell_type": "code",
   "execution_count": 1,
   "id": "31ae96b5",
   "metadata": {},
   "outputs": [
    {
     "data": {
      "text/plain": [
       "0.3169055860705504"
      ]
     },
     "execution_count": 1,
     "metadata": {},
     "output_type": "execute_result"
    }
   ],
   "source": [
    "import random\n",
    "\n",
    "random.random()"
   ]
  },
  {
   "cell_type": "code",
   "execution_count": 2,
   "id": "def35c11",
   "metadata": {},
   "outputs": [
    {
     "data": {
      "text/plain": [
       "6"
      ]
     },
     "execution_count": 2,
     "metadata": {},
     "output_type": "execute_result"
    }
   ],
   "source": [
    "random.randint(1, 6)"
   ]
  },
  {
   "cell_type": "code",
   "execution_count": 6,
   "id": "b227c897",
   "metadata": {},
   "outputs": [
    {
     "data": {
      "text/plain": [
       "5"
      ]
     },
     "execution_count": 6,
     "metadata": {},
     "output_type": "execute_result"
    }
   ],
   "source": [
    "dice = [1, 2, 3, 4, 5, 6]\n",
    "random.choice(dice)"
   ]
  },
  {
   "cell_type": "code",
   "execution_count": 7,
   "id": "c5fabc61",
   "metadata": {
    "scrolled": true
   },
   "outputs": [
    {
     "data": {
      "text/plain": [
       "'o'"
      ]
     },
     "execution_count": 7,
     "metadata": {},
     "output_type": "execute_result"
    }
   ],
   "source": [
    "letters = 'Python'\n",
    "random.choice(letters)"
   ]
  },
  {
   "cell_type": "markdown",
   "id": "f8380aa1",
   "metadata": {},
   "source": [
    "## 17.6 심사문제: 교통카드 잔액 출력하기\n",
    "\n",
    "표준 입력으로 금액(정수)이 입력됩니다. 1회당 요금은 1,350원이고, 교통카드를 사용했을 때마다의 잔액을 각 줄에 출력하는 프로그램을 만드세요(`input`에서 안내 문자열은 출력하지 않아야 합니다). 단, 최초 금액은 출력하지 않아야 합니다. 그리고 잔액은 음수가 될 수 없으며 잔액이 부족하면 출력을 끝냅니다."
   ]
  },
  {
   "cell_type": "code",
   "execution_count": 24,
   "id": "bd238e73",
   "metadata": {},
   "outputs": [
    {
     "name": "stdout",
     "output_type": "stream",
     "text": [
      "10000\n",
      "8650\n",
      "7300\n",
      "5950\n",
      "4600\n",
      "3250\n",
      "1900\n",
      "550\n"
     ]
    }
   ],
   "source": [
    "balance = int(input())\n",
    "\n",
    "while balance >= 1350:    \n",
    "    balance -= 1350\n",
    "    print(balance)  \n"
   ]
  },
  {
   "cell_type": "markdown",
   "id": "191bb2c2",
   "metadata": {},
   "source": [
    "## `break`"
   ]
  },
  {
   "cell_type": "code",
   "execution_count": 25,
   "id": "a7a2ac4d",
   "metadata": {},
   "outputs": [
    {
     "name": "stdout",
     "output_type": "stream",
     "text": [
      "0\n",
      "1\n",
      "2\n",
      "3\n",
      "4\n"
     ]
    }
   ],
   "source": [
    "i = 0\n",
    "while True:    #infinity loop\n",
    "    print(i)\n",
    "    i += 1\n",
    "    if i == 5:\n",
    "        break   #but, the loop is stopped when i is 5"
   ]
  },
  {
   "cell_type": "code",
   "execution_count": 26,
   "id": "fb6772a2",
   "metadata": {},
   "outputs": [
    {
     "name": "stdout",
     "output_type": "stream",
     "text": [
      "0\n",
      "1\n",
      "2\n",
      "3\n",
      "4\n"
     ]
    }
   ],
   "source": [
    "for i in range(1000000):\n",
    "    print(i)\n",
    "    if i == 4:\n",
    "        break"
   ]
  },
  {
   "cell_type": "markdown",
   "id": "74874ea9",
   "metadata": {},
   "source": [
    "## `continue`"
   ]
  },
  {
   "cell_type": "code",
   "execution_count": 28,
   "id": "e7fab022",
   "metadata": {},
   "outputs": [
    {
     "name": "stdout",
     "output_type": "stream",
     "text": [
      "0\n",
      "2\n",
      "4\n",
      "6\n",
      "8\n"
     ]
    }
   ],
   "source": [
    "for i in range(10):\n",
    "    if i % 2 == 1:\n",
    "        continue\n",
    "    print(i)"
   ]
  },
  {
   "cell_type": "code",
   "execution_count": 46,
   "id": "af0a70af",
   "metadata": {},
   "outputs": [
    {
     "name": "stdout",
     "output_type": "stream",
     "text": [
      "0\n",
      "2\n",
      "4\n",
      "6\n",
      "8\n"
     ]
    }
   ],
   "source": [
    "i = 0 \n",
    "while i < 10:    \n",
    "    if i % 2 == 1:\n",
    "        i += 1\n",
    "        continue\n",
    "    print(i)    \n",
    "    i += 1"
   ]
  },
  {
   "cell_type": "markdown",
   "id": "9859892d",
   "metadata": {},
   "source": [
    "## 18.5 연습문제: 3으로 끝나는 숫자만 출력하기\n",
    "\n",
    "소스 코드를 완성하여 0과 73 사이의 숫자 중 3으로 끝나는 숫자만 출력되게 만드세요."
   ]
  },
  {
   "cell_type": "code",
   "execution_count": 44,
   "id": "ce70c7ed",
   "metadata": {},
   "outputs": [
    {
     "name": "stdout",
     "output_type": "stream",
     "text": [
      "3 13 23 33 43 53 63 "
     ]
    }
   ],
   "source": [
    "i = 0\n",
    "while i < 73:    \n",
    "    if i % 10 != 3:\n",
    "        i += 1\n",
    "        continue\n",
    "    print(i, end=' ')\n",
    "    i += 1"
   ]
  },
  {
   "cell_type": "markdown",
   "id": "4b05d6b2",
   "metadata": {},
   "source": [
    "## 18.6 심사문제: 두 수 사이의 숫자 중 3으로 끝나지 않는 숫자 출력하기\n",
    "\n",
    "표준 입력으로 정수 두 개가 입력됩니다(첫 번째 입력 값의 범위는 1-200, 두 번째 입력 값의 범위는 10-200이며 첫 번째 입력 값은 두 번째 입력 값보다 항상 작습니다). 다음 소스 코드를 완성하여 첫 번째 정수와 두 번째 정수 사이의 숫자 중 3으로 끝나지 않는 숫자가 출력되게 만드세요. 정답에 코드를 작성할 때는 `while True:`에 맞춰서 들여쓰기를 해주세요."
   ]
  },
  {
   "cell_type": "code",
   "execution_count": 43,
   "id": "5ad5e061",
   "metadata": {},
   "outputs": [
    {
     "name": "stdout",
     "output_type": "stream",
     "text": [
      "1 20\n",
      "1 2 4 5 6 7 8 9 10 11 12 14 15 16 17 18 19 20 "
     ]
    }
   ],
   "source": [
    "start, stop = map(int, input().split())\n",
    "\n",
    "i = start\n",
    "\n",
    "while True:    \n",
    "    if i % 10 == 3:\n",
    "        i += 1\n",
    "        continue    \n",
    "    if i > stop:\n",
    "        break\n",
    "    print(i, end=' ')\n",
    "    i += 1"
   ]
  },
  {
   "cell_type": "markdown",
   "id": "bc86220d",
   "metadata": {},
   "source": [
    "## Printing Stars `*`"
   ]
  },
  {
   "cell_type": "code",
   "execution_count": 55,
   "id": "27b32e41",
   "metadata": {},
   "outputs": [],
   "source": [
    "r = 5"
   ]
  },
  {
   "cell_type": "code",
   "execution_count": 56,
   "id": "e5070318",
   "metadata": {},
   "outputs": [
    {
     "name": "stdout",
     "output_type": "stream",
     "text": [
      "* * * * * \n",
      "* * * * * \n",
      "* * * * * \n",
      "* * * * * \n",
      "* * * * * \n"
     ]
    }
   ],
   "source": [
    "for i in range(r):\n",
    "    for j in range(r):\n",
    "        print('*', end=' ')\n",
    "    print()"
   ]
  },
  {
   "cell_type": "code",
   "execution_count": 57,
   "id": "29312a1a",
   "metadata": {},
   "outputs": [
    {
     "name": "stdout",
     "output_type": "stream",
     "text": [
      "* \n",
      "* * \n",
      "* * * \n",
      "* * * * \n",
      "* * * * * \n"
     ]
    }
   ],
   "source": [
    "for i in range(r):\n",
    "    for j in range(r):\n",
    "        if j <= i :\n",
    "            print('*', end=' ')\n",
    "    print()"
   ]
  },
  {
   "cell_type": "code",
   "execution_count": 58,
   "id": "e3acdc75",
   "metadata": {},
   "outputs": [
    {
     "name": "stdout",
     "output_type": "stream",
     "text": [
      "*         \n",
      "  *       \n",
      "    *     \n",
      "      *   \n",
      "        * \n"
     ]
    }
   ],
   "source": [
    "for i in range(r):\n",
    "    for j in range(r):\n",
    "        if j == i:\n",
    "            print('*', end=' ')\n",
    "        else:\n",
    "            print(' ', end=' ')\n",
    "    print()"
   ]
  },
  {
   "cell_type": "code",
   "execution_count": 59,
   "id": "54edb65b",
   "metadata": {},
   "outputs": [
    {
     "name": "stdout",
     "output_type": "stream",
     "text": [
      "* * * * * \n",
      "* * * * \n",
      "* * * \n",
      "* * \n",
      "* \n"
     ]
    }
   ],
   "source": [
    "for i in range(r):\n",
    "    for j in range(r - i):\n",
    "        print('*', end=' ')\n",
    "    print()"
   ]
  },
  {
   "cell_type": "code",
   "execution_count": 60,
   "id": "0d42c81b",
   "metadata": {},
   "outputs": [
    {
     "name": "stdout",
     "output_type": "stream",
     "text": [
      "* * * * * \n",
      "  * * * * \n",
      "    * * * \n",
      "      * * \n",
      "        * \n"
     ]
    }
   ],
   "source": [
    "for i in range(r):\n",
    "    for j in range(r):\n",
    "        if j < i:\n",
    "            print(' ', end=' ')\n",
    "        else:\n",
    "            print('*', end=' ')\n",
    "    print()"
   ]
  },
  {
   "cell_type": "code",
   "execution_count": 62,
   "id": "cee1a53e",
   "metadata": {
    "scrolled": true
   },
   "outputs": [
    {
     "name": "stdout",
     "output_type": "stream",
     "text": [
      "        * \n",
      "      * * \n",
      "    * * * \n",
      "  * * * * \n",
      "* * * * * \n"
     ]
    }
   ],
   "source": [
    "for i in range(r):\n",
    "    for j in range(r):\n",
    "        if r - (j + 1) > i:\n",
    "            print(' ', end=' ')\n",
    "        else:\n",
    "            print('*', end=' ')\n",
    "    print()"
   ]
  },
  {
   "cell_type": "code",
   "execution_count": null,
   "id": "e5a8a1d8",
   "metadata": {},
   "outputs": [],
   "source": [
    "for i in range(r):\n",
    "    for j in reversed(range(r)):\n",
    "        if j > i:\n",
    "            print(' ', end=' ')\n",
    "        else"
   ]
  },
  {
   "cell_type": "markdown",
   "id": "d09664d2",
   "metadata": {},
   "source": [
    "## 19.6 심사문제: 산 모양으로 별 출력하기\n",
    "\n",
    "표준 입력으로 삼각형의 높이가 입력됩니다. 입력된 높이만큼 산 모양으로 별을 출력하는 프로그램을 만드세요(`input`에서 안내 문자열은 출력하지 않아야 합니다). "
   ]
  },
  {
   "cell_type": "code",
   "execution_count": 63,
   "id": "dc9f0298",
   "metadata": {},
   "outputs": [
    {
     "name": "stdout",
     "output_type": "stream",
     "text": [
      "5\n",
      "        * \n",
      "      * * * \n",
      "    * * * * * \n",
      "  * * * * * * * \n",
      "* * * * * * * * * \n"
     ]
    }
   ],
   "source": [
    "n = int(input())\n",
    "\n",
    "for i in range(n):\n",
    "    for j in range(n - 1):\n",
    "        if n - (j + 1) > i:\n",
    "            print(' ', end=' ')\n",
    "        else:\n",
    "            print('*', end=' ')\n",
    "    for j in range(n):\n",
    "        if j <= i:\n",
    "            print('*', end=' ')\n",
    "    print()"
   ]
  },
  {
   "cell_type": "code",
   "execution_count": 66,
   "id": "ed1f4ce9",
   "metadata": {},
   "outputs": [
    {
     "name": "stdout",
     "output_type": "stream",
     "text": [
      "5\n",
      "        * \n",
      "      * * * \n",
      "    * * * * * \n",
      "  * * * * * * * \n",
      "* * * * * * * * * \n"
     ]
    }
   ],
   "source": [
    "n = int(input())\n",
    "\n",
    "for i in range(n):\n",
    "    for j in reversed(range(n)):\n",
    "        if j > i:\n",
    "            print(' ', end=' ')\n",
    "        else:\n",
    "            print('*', end=' ')\n",
    "    for j in range(n):\n",
    "        if j < i:\n",
    "            print('*', end=' ')\n",
    "    print()"
   ]
  },
  {
   "cell_type": "markdown",
   "id": "0973eab8",
   "metadata": {},
   "source": [
    "## FizzBuzz\n",
    "\n",
    "1. 1에서 100까지 출력\n",
    "2. 3의 배수는 Fizz 출력\n",
    "3. 5의 배수는 Buzz 출력\n",
    "4. 3과 5의 공배수는 FizzBuzz 출력"
   ]
  },
  {
   "cell_type": "code",
   "execution_count": 67,
   "id": "9f696751",
   "metadata": {},
   "outputs": [
    {
     "name": "stdout",
     "output_type": "stream",
     "text": [
      "1 2 Fizz 4 Buzz Fizz 7 8 Fizz Buzz 11 Fizz 13 14 FizzBuzz 16 17 Fizz 19 Buzz Fizz 22 23 Fizz Buzz 26 Fizz 28 29 FizzBuzz 31 32 Fizz 34 Buzz Fizz 37 38 Fizz Buzz 41 Fizz 43 44 FizzBuzz 46 47 Fizz 49 Buzz Fizz 52 53 Fizz Buzz 56 Fizz 58 59 FizzBuzz 61 62 Fizz 64 Buzz Fizz 67 68 Fizz Buzz 71 Fizz 73 74 FizzBuzz 76 77 Fizz 79 Buzz Fizz 82 83 Fizz Buzz 86 Fizz 88 89 FizzBuzz 91 92 Fizz 94 Buzz Fizz 97 98 Fizz Buzz "
     ]
    }
   ],
   "source": [
    "for i in range(1, 101):\n",
    "    if i % 3 == 0 and i % 5 == 0:\n",
    "        i = 'FizzBuzz'\n",
    "    else:\n",
    "        if i % 3 == 0:\n",
    "            i = 'Fizz'\n",
    "        elif i % 5 == 0:\n",
    "            i = 'Buzz'\n",
    "    print(i, end=' ')"
   ]
  },
  {
   "cell_type": "code",
   "execution_count": 68,
   "id": "4a55d61c",
   "metadata": {},
   "outputs": [
    {
     "name": "stdout",
     "output_type": "stream",
     "text": [
      "1 2 Fizz 4 Buzz Fizz 7 8 Fizz Buzz 11 Fizz 13 14 FizzBuzz 16 17 Fizz 19 Buzz Fizz 22 23 Fizz Buzz 26 Fizz 28 29 FizzBuzz 31 32 Fizz 34 Buzz Fizz 37 38 Fizz Buzz 41 Fizz 43 44 FizzBuzz 46 47 Fizz 49 Buzz Fizz 52 53 Fizz Buzz 56 Fizz 58 59 FizzBuzz 61 62 Fizz 64 Buzz Fizz 67 68 Fizz Buzz 71 Fizz 73 74 FizzBuzz 76 77 Fizz 79 Buzz Fizz 82 83 Fizz Buzz 86 Fizz 88 89 FizzBuzz 91 92 Fizz 94 Buzz Fizz 97 98 Fizz Buzz "
     ]
    }
   ],
   "source": [
    "for i in range(1, 101):\n",
    "    print('Fizz' * (i % 3 == 0) + 'Buzz' * (i % 5 == 0) or i, end=' ')"
   ]
  },
  {
   "cell_type": "markdown",
   "id": "6cfdd441",
   "metadata": {},
   "source": [
    "## 20.7 연습문제: 2과 11의 배수, 공배수 처리하기\n",
    "\n",
    "소스 코드를 완성하여 1부터 100까지의 숫자를 출력하면서 2의 배수일 때는 '`Fizz`', 11의 배수일 때는 '`Buzz`', 2과 11의 공배수일 때는 '`FizzBuzz`'가 출력되게 만드세요."
   ]
  },
  {
   "cell_type": "code",
   "execution_count": 70,
   "id": "f088f981",
   "metadata": {},
   "outputs": [
    {
     "name": "stdout",
     "output_type": "stream",
     "text": [
      "1 Fizz 3 Fizz 5 Fizz 7 Fizz 9 Fizz Buzz Fizz 13 Fizz 15 Fizz 17 Fizz 19 Fizz 21 FizzBuzz 23 Fizz 25 Fizz 27 Fizz 29 Fizz 31 Fizz Buzz Fizz 35 Fizz 37 Fizz 39 Fizz 41 Fizz 43 FizzBuzz 45 Fizz 47 Fizz 49 Fizz 51 Fizz 53 Fizz Buzz Fizz 57 Fizz 59 Fizz 61 Fizz 63 Fizz 65 FizzBuzz 67 Fizz 69 Fizz 71 Fizz 73 Fizz 75 Fizz Buzz Fizz 79 Fizz 81 Fizz 83 Fizz 85 Fizz 87 FizzBuzz 89 Fizz 91 Fizz 93 Fizz 95 Fizz 97 Fizz Buzz Fizz "
     ]
    }
   ],
   "source": [
    "for i in range(1, 101):\n",
    "    if i % 2 == 0 and i % 11 == 0:\n",
    "        print('FizzBuzz', end=' ')\n",
    "    elif i % 2 == 0:\n",
    "        print('Fizz', end=' ')\n",
    "    elif i % 11 == 0:\n",
    "        print('Buzz', end= ' ')\n",
    "    else:\n",
    "        print(i, end= ' ')"
   ]
  },
  {
   "cell_type": "code",
   "execution_count": 71,
   "id": "0b0bc24a",
   "metadata": {},
   "outputs": [
    {
     "name": "stdout",
     "output_type": "stream",
     "text": [
      "1 Fizz 3 Fizz 5 Fizz 7 Fizz 9 Fizz Buzz Fizz 13 Fizz 15 Fizz 17 Fizz 19 Fizz 21 FizzBuzz 23 Fizz 25 Fizz 27 Fizz 29 Fizz 31 Fizz Buzz Fizz 35 Fizz 37 Fizz 39 Fizz 41 Fizz 43 FizzBuzz 45 Fizz 47 Fizz 49 Fizz 51 Fizz 53 Fizz Buzz Fizz 57 Fizz 59 Fizz 61 Fizz 63 Fizz 65 FizzBuzz 67 Fizz 69 Fizz 71 Fizz 73 Fizz 75 Fizz Buzz Fizz 79 Fizz 81 Fizz 83 Fizz 85 Fizz 87 FizzBuzz 89 Fizz 91 Fizz 93 Fizz 95 Fizz 97 Fizz Buzz Fizz "
     ]
    }
   ],
   "source": [
    "for i in range(1, 101):\n",
    "    print('Fizz' * (i % 2 == 0) + 'Buzz' * (i % 11 == 0) or i, end=' ')"
   ]
  },
  {
   "cell_type": "markdown",
   "id": "0c69b669",
   "metadata": {},
   "source": [
    "## 20.8 심사문제: 5와 7의 배수, 공배수 처리하기\n",
    "\n",
    "표준 입력으로 정수 두 개가 입력됩니다(첫 번째 입력 값의 범위는 1-1000, 두 번째 입력 값의 범위는 10-1000이며 첫 번째 입력 값은 두 번째 입력 값보다 항상 작습니다). 첫 번째 정수부터 두 번째 정수까지 숫자를 출력하면서 5의 배수일 때는 '`Fizz`', 7의 배수일 때는 '`Buzz`', 5와 7의 공배수일 때는 '`FizzBuzz`'를 출력하는 프로그램을 만드세요(`input`에서 안내 문자열은 출력하지 않아야 합니다)."
   ]
  },
  {
   "cell_type": "code",
   "execution_count": 77,
   "id": "369c4a45",
   "metadata": {},
   "outputs": [
    {
     "name": "stdout",
     "output_type": "stream",
     "text": [
      "35 40\n",
      "FizzBuzz 36 37 38 39 Fizz \n",
      "FizzBuzz 36 37 38 39 Fizz "
     ]
    }
   ],
   "source": [
    "fNum, sNum = map(int, input().split())\n",
    "\n",
    "for i in range(fNum, sNum + 1):\n",
    "    if i % 5 == 0 and i % 7 == 0:\n",
    "        print('FizzBuzz', end=' ')\n",
    "    elif i % 5 == 0:\n",
    "        print('Fizz', end=' ')\n",
    "    elif i % 7 == 0:\n",
    "        print('Buzz', end=' ')\n",
    "    else:\n",
    "        print(i, end=' ')\n",
    "\n",
    "print()\n",
    "\n",
    "for i in range(fNum, sNum + 1):\n",
    "    print('Fizz' * (i % 5 == 0) + 'Buzz' * (i % 7 == 0) or i, end=' ')"
   ]
  },
  {
   "cell_type": "markdown",
   "id": "bcb230f6",
   "metadata": {},
   "source": [
    "## Tutle"
   ]
  },
  {
   "cell_type": "code",
   "execution_count": 78,
   "id": "b53532fd",
   "metadata": {},
   "outputs": [],
   "source": [
    "import turtle as t\n",
    "\n",
    "t.shape('turtle')\n",
    "t.forward(100)\n",
    "t.right(90)\n",
    "t.backward(100)\n",
    "t.left(90)\n",
    "\n",
    "t.fd(100)\n",
    "t.rt(90)\n",
    "t.bk(100) # t.back(100)\n",
    "t.lt(90)"
   ]
  },
  {
   "cell_type": "code",
   "execution_count": null,
   "id": "667e6708",
   "metadata": {},
   "outputs": [],
   "source": [
    "#사각형 그리기\n",
    "import turtle as t\n",
    "\n",
    "t.shape('turtle')\n",
    "for i in range(4):\n",
    "    t.forward(100)\n",
    "    t.right(90)"
   ]
  },
  {
   "cell_type": "code",
   "execution_count": null,
   "id": "695319f9",
   "metadata": {},
   "outputs": [],
   "source": [
    "#오각형 그리기\n",
    "import turtle as t\n",
    "\n",
    "t.shape('turtle')\n",
    "for i in range(5):\n",
    "    t.fd(100)\n",
    "    t.rt(360 / 5)"
   ]
  },
  {
   "cell_type": "code",
   "execution_count": 80,
   "id": "839bb5d5",
   "metadata": {},
   "outputs": [
    {
     "name": "stdout",
     "output_type": "stream",
     "text": [
      "8\n"
     ]
    }
   ],
   "source": [
    "#다각형 그리기\n",
    "import turtle as t\n",
    "\n",
    "n = int(input())\n",
    "t.shape('turtle')\n",
    "for i in range(n):\n",
    "    t.fd(100)\n",
    "    t.rt(360 / n)"
   ]
  },
  {
   "cell_type": "code",
   "execution_count": null,
   "id": "246e6502",
   "metadata": {},
   "outputs": [],
   "source": [
    "#다각형에 색칠하기\n",
    "import turtle as t\n",
    "\n",
    "n = int(input())\n",
    "t.shaple('turtle')\n",
    "t.color('blue')\n",
    "t.begin_fill()\n",
    "for i in range(n):\n",
    "    t.fd(100)\n",
    "    t.rt(360 / n)\n",
    "t.end_fill()"
   ]
  },
  {
   "cell_type": "code",
   "execution_count": null,
   "id": "df000e97",
   "metadata": {},
   "outputs": [],
   "source": [
    "#원 그리기\n",
    "import turtle as t\n",
    "t.shape('turtle')\n",
    "t.circle(120)"
   ]
  },
  {
   "cell_type": "code",
   "execution_count": null,
   "id": "89a09872",
   "metadata": {},
   "outputs": [],
   "source": [
    "#원 반복해서 그리기\n",
    "import turtle as t\n",
    "\n",
    "n = 60\n",
    "t.shape('turtle')\n",
    "t.speed('fastest')\n",
    "for i in range(n):\n",
    "    t.circle(120)\n",
    "    t.right(360 / n)"
   ]
  },
  {
   "cell_type": "code",
   "execution_count": null,
   "id": "767b0bca",
   "metadata": {},
   "outputs": [],
   "source": [
    "#선으로 복잡한 무늬 그리기\n",
    "import turtle as t\n",
    " \n",
    "t.shape('turtle')\n",
    "t.speed(0)           # == t.speed('fastest')\n",
    "for i in range(300):  \n",
    "    t.forward(i)        \n",
    "    t.right(91)     "
   ]
  },
  {
   "cell_type": "code",
   "execution_count": null,
   "id": "06d9e4c1",
   "metadata": {
    "scrolled": true
   },
   "outputs": [],
   "source": [
    "#오각형 별 그리기\n",
    "import turtle as t\n",
    "n = 5\n",
    "t.shape('turtle')\n",
    "for i in range(n):\n",
    "    t.fd(100)\n",
    "    t.rt((360 / n) * 2)\n",
    "    t.fd(100)\n",
    "    t.lt(360 / n)"
   ]
  },
  {
   "cell_type": "code",
   "execution_count": null,
   "id": "eb811e19",
   "metadata": {},
   "outputs": [],
   "source": [
    "#다각형 별 그리기\n",
    "import turtle as t\n",
    " \n",
    "n, line = map(int, input().split())\n",
    "t.shape('turtle')\n",
    "t.speed('fastest')\n",
    "for i in range(n):\n",
    "    t.fd(line)\n",
    "    t.rt((360 / n) * 2)\n",
    "    t.fd(line)\n",
    "    t.lt(360 / n)"
   ]
  },
  {
   "cell_type": "markdown",
   "id": "ace31b16",
   "metadata": {},
   "source": [
    "### Turtle Method\n",
    "\n",
    "Method | Description | Method | Description\n",
    ":---|:---|:---|:---\n",
    "shape('모양') | 터틀 모양 지정('arrow', 'turtle', 'circle', 'square', 'triangle', 'classic') | mainloop() | 터틀 창 유지\n",
    "forward(거리), fd(거리) | 앞으로 이동 | backward(거리), bk(거리), back(거리) | 뒤로 이동\n",
    "left(각도), lt(각도) | 왼쪽으로 회전 | right(각도), rt(각도) | 오른쪽으로 회전\n",
    "color('색') | 팬의 색 지정 | circle(반지름) | 원 그리기\n",
    "begin_fill() | 색칠할 영역 시작 | end_fill() | 색칠할 영역 끝\n",
    "speed('속도') | 속도 설정 | speed() | 속도 확인\n"
   ]
  },
  {
   "cell_type": "code",
   "execution_count": null,
   "id": "ee7be4ec",
   "metadata": {},
   "outputs": [],
   "source": []
  }
 ],
 "metadata": {
  "kernelspec": {
   "display_name": "Python 3",
   "language": "python",
   "name": "python3"
  },
  "language_info": {
   "codemirror_mode": {
    "name": "ipython",
    "version": 3
   },
   "file_extension": ".py",
   "mimetype": "text/x-python",
   "name": "python",
   "nbconvert_exporter": "python",
   "pygments_lexer": "ipython3",
   "version": "3.9.2"
  }
 },
 "nbformat": 4,
 "nbformat_minor": 5
}

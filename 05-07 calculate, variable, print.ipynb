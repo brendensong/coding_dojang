{
 "cells": [
  {
   "cell_type": "markdown",
   "id": "b6dad6fb",
   "metadata": {},
   "source": [
    "## `del`"
   ]
  },
  {
   "cell_type": "code",
   "execution_count": 1,
   "id": "e4df8e64",
   "metadata": {
    "scrolled": true
   },
   "outputs": [
    {
     "ename": "NameError",
     "evalue": "name 'x' is not defined",
     "output_type": "error",
     "traceback": [
      "\u001b[1;31m---------------------------------------------------------------------------\u001b[0m",
      "\u001b[1;31mNameError\u001b[0m                                 Traceback (most recent call last)",
      "\u001b[1;32m<ipython-input-1-3dde88e24a37>\u001b[0m in \u001b[0;36m<module>\u001b[1;34m\u001b[0m\n\u001b[0;32m      1\u001b[0m \u001b[0mx\u001b[0m \u001b[1;33m=\u001b[0m \u001b[1;36m10\u001b[0m\u001b[1;33m\u001b[0m\u001b[1;33m\u001b[0m\u001b[0m\n\u001b[0;32m      2\u001b[0m \u001b[1;32mdel\u001b[0m \u001b[0mx\u001b[0m\u001b[1;33m\u001b[0m\u001b[1;33m\u001b[0m\u001b[0m\n\u001b[1;32m----> 3\u001b[1;33m \u001b[0mx\u001b[0m\u001b[1;33m\u001b[0m\u001b[1;33m\u001b[0m\u001b[0m\n\u001b[0m",
      "\u001b[1;31mNameError\u001b[0m: name 'x' is not defined"
     ]
    }
   ],
   "source": [
    "x = 10\n",
    "del x\n",
    "x"
   ]
  },
  {
   "cell_type": "markdown",
   "id": "e6ed5e48",
   "metadata": {},
   "source": [
    "## Assign Multiple Values"
   ]
  },
  {
   "cell_type": "code",
   "execution_count": 5,
   "id": "0ef84836",
   "metadata": {},
   "outputs": [
    {
     "name": "stdout",
     "output_type": "stream",
     "text": [
      "10 20 30 10 10 10\n"
     ]
    }
   ],
   "source": [
    "a,b,c = 10, 20, 30\n",
    "\n",
    "x = y = z = 10\n",
    "\n",
    "print(a,b,c,x,y,z)"
   ]
  },
  {
   "cell_type": "markdown",
   "id": "26196b4d",
   "metadata": {},
   "source": [
    "## `input()`"
   ]
  },
  {
   "cell_type": "code",
   "execution_count": 6,
   "id": "c73bcf03",
   "metadata": {},
   "outputs": [
    {
     "name": "stdout",
     "output_type": "stream",
     "text": [
      "Test\n",
      "3\n",
      "2.345\n",
      "Test 3 2.345\n"
     ]
    }
   ],
   "source": [
    "s = input()\n",
    "a = int(input())\n",
    "b = float(input())\n",
    "\n",
    "print(s, a, b)"
   ]
  },
  {
   "cell_type": "markdown",
   "id": "c6790e95",
   "metadata": {},
   "source": [
    "## Input & assign multiple values"
   ]
  },
  {
   "cell_type": "code",
   "execution_count": 8,
   "id": "290db2cc",
   "metadata": {},
   "outputs": [
    {
     "name": "stdout",
     "output_type": "stream",
     "text": [
      "aa bb\n",
      "11 22\n",
      "1.1 2.22\n",
      "aa bb 11 22 1.1 2.22\n"
     ]
    }
   ],
   "source": [
    "# assign two values as string\n",
    "a, b = input().split()      \n",
    "# assign two values as int\n",
    "c, d = map(int, input().split())    \n",
    "# assign two values as float\n",
    "e, f = map(float, input().split())\n",
    "\n",
    "print(a, b, c, d, e, f)"
   ]
  },
  {
   "cell_type": "markdown",
   "id": "d91065f8",
   "metadata": {},
   "source": [
    "## `print`"
   ]
  },
  {
   "cell_type": "code",
   "execution_count": 9,
   "id": "45f8c121",
   "metadata": {},
   "outputs": [
    {
     "name": "stdout",
     "output_type": "stream",
     "text": [
      "1, 2, 3\n"
     ]
    }
   ],
   "source": [
    "# comma & space between values\n",
    "print(1, 2, 3, sep=', ')"
   ]
  },
  {
   "cell_type": "code",
   "execution_count": 10,
   "id": "ee4aa204",
   "metadata": {},
   "outputs": [
    {
     "name": "stdout",
     "output_type": "stream",
     "text": [
      "1 2\n"
     ]
    }
   ],
   "source": [
    "# end()\n",
    "print(1, end=' ')    \n",
    "print(2)"
   ]
  },
  {
   "cell_type": "code",
   "execution_count": 11,
   "id": "0bc531f7",
   "metadata": {},
   "outputs": [
    {
     "name": "stdout",
     "output_type": "stream",
     "text": [
      "1\n",
      "2\n",
      "3\n"
     ]
    }
   ],
   "source": [
    "# \\n\n",
    "print('1\\n2\\n3')"
   ]
  },
  {
   "cell_type": "markdown",
   "id": "ad8474fe",
   "metadata": {},
   "source": [
    "etc."
   ]
  },
  {
   "cell_type": "code",
   "execution_count": 12,
   "id": "277b0b47",
   "metadata": {},
   "outputs": [
    {
     "name": "stdout",
     "output_type": "stream",
     "text": [
      "(3+2j) (3, 1) 25\n"
     ]
    }
   ],
   "source": [
    "a = complex(3, 2)\n",
    "b = divmod(7, 2)\n",
    "c = pow(5, 2)\n",
    "\n",
    "print(a, b, c)"
   ]
  },
  {
   "cell_type": "markdown",
   "id": "2a454561",
   "metadata": {},
   "source": [
    "### Python Operators\n",
    "\n",
    "Operator | Name | Example \n",
    ":---|:---|:---\n",
    "`//` | floor division(버림 나눗셈) | `a//b`, `5//2` -> `2`\n",
    "`**` | Exponentiation | `a**b`, `2**3` -> `8`\n",
    "`@` | Matrix Multiplication | `a@b`, Matrix a * matrix b"
   ]
  },
  {
   "cell_type": "markdown",
   "id": "39449204",
   "metadata": {},
   "source": [
    "### 7.4 Exercise : Print Date and Time"
   ]
  },
  {
   "cell_type": "code",
   "execution_count": 14,
   "id": "d077f5b3",
   "metadata": {},
   "outputs": [
    {
     "name": "stdout",
     "output_type": "stream",
     "text": [
      "2000/10/27 11:43:59\n"
     ]
    }
   ],
   "source": [
    "year = 2000\n",
    "month = 10\n",
    "day = 27\n",
    "hour = 11\n",
    "minute = 43\n",
    "second = 59\n",
    " \n",
    "print(year, month, day, sep='/', end=' ')\n",
    "print(hour, minute, second, sep=':')"
   ]
  },
  {
   "cell_type": "markdown",
   "id": "61eb8264",
   "metadata": {},
   "source": [
    "### 7.5 Question\n",
    "Complete the source code to print the entered date and time output in the form of `year-month-dayT-hour:minute:second`.\n",
    "\n",
    "표준 입력으로 년, 월, 일, 시, 분, 초가 입력됩니다. \n",
    "소스 코드를 완성하여 입력된 날짜와 시간을 `년-월-일T시:분:초` 형식으로 출력되게 만드세요.\n",
    "\n",
    "***ex)***\n",
    "\n",
    "input\n",
    "`1999 12 31 10 37 21`\n",
    "\n",
    "oupt\n",
    "`1999-12-31T10:37:21`\n",
    "\n",
    "input\n",
    "`2017 10 27 11 43 59`\n",
    "\n",
    "output\n",
    "`2017-10-27T11:43:59`"
   ]
  },
  {
   "cell_type": "code",
   "execution_count": 15,
   "id": "be05a6b0",
   "metadata": {},
   "outputs": [
    {
     "name": "stdout",
     "output_type": "stream",
     "text": [
      "1999 12 31 10 37 21\n",
      "1999-12-31T10:37:21\n"
     ]
    }
   ],
   "source": [
    "year, month, day, hour, minute, second = input().split()\n",
    "\n",
    "print(year, month, day, sep='-', end='T')\n",
    "print(hour, minute, second, sep=':')"
   ]
  },
  {
   "cell_type": "code",
   "execution_count": null,
   "id": "8546010c",
   "metadata": {},
   "outputs": [],
   "source": []
  }
 ],
 "metadata": {
  "kernelspec": {
   "display_name": "Python 3",
   "language": "python",
   "name": "python3"
  },
  "language_info": {
   "codemirror_mode": {
    "name": "ipython",
    "version": 3
   },
   "file_extension": ".py",
   "mimetype": "text/x-python",
   "name": "python",
   "nbconvert_exporter": "python",
   "pygments_lexer": "ipython3",
   "version": "3.9.2"
  }
 },
 "nbformat": 4,
 "nbformat_minor": 5
}

{
 "cells": [
  {
   "cell_type": "markdown",
   "id": "3df0bb5f",
   "metadata": {},
   "source": [
    "## `append`, `extend`, `insert`"
   ]
  },
  {
   "cell_type": "code",
   "execution_count": 86,
   "id": "c9b7f70c",
   "metadata": {},
   "outputs": [
    {
     "name": "stdout",
     "output_type": "stream",
     "text": [
      "[10, 20, 30, [500, 600]]\n"
     ]
    },
    {
     "data": {
      "text/plain": [
       "4"
      ]
     },
     "execution_count": 86,
     "metadata": {},
     "output_type": "execute_result"
    }
   ],
   "source": [
    "l1 = [10, 20, 30]\n",
    "l1.append([500, 600])\n",
    "print(l1)\n",
    "len(l1)"
   ]
  },
  {
   "cell_type": "code",
   "execution_count": 87,
   "id": "3fb09adb",
   "metadata": {},
   "outputs": [
    {
     "name": "stdout",
     "output_type": "stream",
     "text": [
      "[10, 20, 30, 500, 600]\n"
     ]
    },
    {
     "data": {
      "text/plain": [
       "5"
      ]
     },
     "execution_count": 87,
     "metadata": {},
     "output_type": "execute_result"
    }
   ],
   "source": [
    "l2 = [10, 20, 30]\n",
    "l2.extend([500, 600])\n",
    "print(l2)\n",
    "len(l2)"
   ]
  },
  {
   "cell_type": "code",
   "execution_count": 88,
   "id": "97ee2cd8",
   "metadata": {},
   "outputs": [
    {
     "name": "stdout",
     "output_type": "stream",
     "text": [
      "[10, 20, 30]\n"
     ]
    },
    {
     "data": {
      "text/plain": [
       "3"
      ]
     },
     "execution_count": 88,
     "metadata": {},
     "output_type": "execute_result"
    }
   ],
   "source": [
    "l3 = [10, 20, 30]\n",
    "c.insert(2, 500)\n",
    "print(l3)\n",
    "len(l3)"
   ]
  },
  {
   "cell_type": "markdown",
   "id": "9364fc2c",
   "metadata": {},
   "source": [
    "- **`insert(0, element)`**: The element is inserted at the beginning of the list.\n",
    "- **`insert(len(list), element)`**: The element is inserted at the end of the list."
   ]
  },
  {
   "cell_type": "code",
   "execution_count": 89,
   "id": "7c0886a6",
   "metadata": {},
   "outputs": [
    {
     "name": "stdout",
     "output_type": "stream",
     "text": [
      "[500, 10, 20, 30]\n"
     ]
    }
   ],
   "source": [
    "l4 = [10, 20, 30]\n",
    "l4.insert(0, 500)\n",
    "print(l4)"
   ]
  },
  {
   "cell_type": "code",
   "execution_count": 90,
   "id": "fa6d63ce",
   "metadata": {},
   "outputs": [
    {
     "name": "stdout",
     "output_type": "stream",
     "text": [
      "[10, 20, 30]\n"
     ]
    }
   ],
   "source": [
    "l5 = [10, 20, 30]\n",
    "e.insert(len(l5), 500)\n",
    "print(l5)"
   ]
  },
  {
   "cell_type": "code",
   "execution_count": 91,
   "id": "754ade09",
   "metadata": {},
   "outputs": [
    {
     "name": "stdout",
     "output_type": "stream",
     "text": [
      "[10, 20, 500, 600, 700, 30]\n"
     ]
    }
   ],
   "source": [
    "l6 = [10, 20, 30]\n",
    "l6[2:1] = [500, 600, 700]\n",
    "print(l6)"
   ]
  },
  {
   "cell_type": "markdown",
   "id": "db00ee74",
   "metadata": {},
   "source": [
    "- **`pop`**: Removes the element at the specified position or the last element\n",
    "- **`remove`**: Removes the first occurrence of the element with the specified value"
   ]
  },
  {
   "cell_type": "code",
   "execution_count": 92,
   "id": "499d04a8",
   "metadata": {},
   "outputs": [
    {
     "name": "stdout",
     "output_type": "stream",
     "text": [
      "[10, 20]\n"
     ]
    }
   ],
   "source": [
    "l7 = [10, 20, 30]\n",
    "l7.pop()\n",
    "print(l7)"
   ]
  },
  {
   "cell_type": "code",
   "execution_count": 93,
   "id": "dd5ca0e8",
   "metadata": {},
   "outputs": [
    {
     "name": "stdout",
     "output_type": "stream",
     "text": [
      "[10, 30]\n"
     ]
    }
   ],
   "source": [
    "l8 = [10, 20, 30]\n",
    "l8.pop(1)\n",
    "print(l8)"
   ]
  },
  {
   "cell_type": "code",
   "execution_count": 94,
   "id": "9efb8089",
   "metadata": {},
   "outputs": [
    {
     "name": "stdout",
     "output_type": "stream",
     "text": [
      "[10, 30]\n"
     ]
    }
   ],
   "source": [
    "l9 = [10, 20, 30]\n",
    "del l9[1]\n",
    "print(l9)"
   ]
  },
  {
   "cell_type": "code",
   "execution_count": 95,
   "id": "c4643711",
   "metadata": {},
   "outputs": [
    {
     "name": "stdout",
     "output_type": "stream",
     "text": [
      "[10, 20]\n"
     ]
    }
   ],
   "source": [
    "l10 = [10, 20, 30]\n",
    "l10.remove(30)\n",
    "print(l10)"
   ]
  },
  {
   "cell_type": "code",
   "execution_count": 96,
   "id": "c06050ae",
   "metadata": {},
   "outputs": [
    {
     "name": "stdout",
     "output_type": "stream",
     "text": [
      "[10, 20, 20, 30]\n"
     ]
    }
   ],
   "source": [
    "l11 = [10, 20, 20, 20, 30]\n",
    "l11.remove(20)\n",
    "print(l11)\n",
    "\n",
    "# Removes the first occurrence of the element if there are the same value of elements"
   ]
  },
  {
   "cell_type": "code",
   "execution_count": 100,
   "id": "15884fa6",
   "metadata": {},
   "outputs": [
    {
     "name": "stdout",
     "output_type": "stream",
     "text": [
      "deque([10, 20, 30])\n"
     ]
    }
   ],
   "source": [
    "from collections import deque\n",
    "l12 = deque([10, 20, 30])\n",
    "print(l12)"
   ]
  },
  {
   "cell_type": "code",
   "execution_count": 101,
   "id": "7fa0152a",
   "metadata": {},
   "outputs": [
    {
     "name": "stdout",
     "output_type": "stream",
     "text": [
      "deque([10, 20, 30, 500])\n"
     ]
    }
   ],
   "source": [
    "l12.append(500)\n",
    "print(l12)"
   ]
  },
  {
   "cell_type": "code",
   "execution_count": 102,
   "id": "646dcf70",
   "metadata": {},
   "outputs": [
    {
     "data": {
      "text/plain": [
       "deque([20, 30, 500])"
      ]
     },
     "execution_count": 102,
     "metadata": {},
     "output_type": "execute_result"
    }
   ],
   "source": [
    "l12.popleft()\n",
    "l12"
   ]
  },
  {
   "cell_type": "code",
   "execution_count": 103,
   "id": "a6dad2e8",
   "metadata": {},
   "outputs": [
    {
     "data": {
      "text/plain": [
       "deque([0, 20, 30, 500])"
      ]
     },
     "execution_count": 103,
     "metadata": {},
     "output_type": "execute_result"
    }
   ],
   "source": [
    "l12.appendleft(0)\n",
    "l12"
   ]
  },
  {
   "cell_type": "code",
   "execution_count": 104,
   "id": "d8b836b7",
   "metadata": {},
   "outputs": [
    {
     "data": {
      "text/plain": [
       "deque([0, 20, 30])"
      ]
     },
     "execution_count": 104,
     "metadata": {},
     "output_type": "execute_result"
    }
   ],
   "source": [
    "l12.pop()\n",
    "l12"
   ]
  },
  {
   "cell_type": "markdown",
   "id": "9aa5c6f7",
   "metadata": {},
   "source": [
    "## `index`"
   ]
  },
  {
   "cell_type": "code",
   "execution_count": 105,
   "id": "980f2638",
   "metadata": {},
   "outputs": [
    {
     "data": {
      "text/plain": [
       "1"
      ]
     },
     "execution_count": 105,
     "metadata": {},
     "output_type": "execute_result"
    }
   ],
   "source": [
    "l13 = [10, 20, 30, 15, 20, 40]\n",
    "l13.index(20)\n",
    "\n",
    "# Show the first occurrence of the index if there are the same value of elements"
   ]
  },
  {
   "cell_type": "code",
   "execution_count": 106,
   "id": "eb70947e",
   "metadata": {},
   "outputs": [
    {
     "data": {
      "text/plain": [
       "2"
      ]
     },
     "execution_count": 106,
     "metadata": {},
     "output_type": "execute_result"
    }
   ],
   "source": [
    "l14 = [10, 20, 30, 15, 20, 40]\n",
    "l14.count(20)"
   ]
  },
  {
   "cell_type": "code",
   "execution_count": 107,
   "id": "4695c73b",
   "metadata": {},
   "outputs": [
    {
     "data": {
      "text/plain": [
       "[40, 20, 15, 30, 20, 10]"
      ]
     },
     "execution_count": 107,
     "metadata": {},
     "output_type": "execute_result"
    }
   ],
   "source": [
    "l15 = [10, 20, 30, 15, 20, 40]\n",
    "l15.reverse()\n",
    "l15"
   ]
  },
  {
   "cell_type": "code",
   "execution_count": 108,
   "id": "805c1170",
   "metadata": {},
   "outputs": [
    {
     "data": {
      "text/plain": [
       "[10, 15, 20, 20, 30, 40]"
      ]
     },
     "execution_count": 108,
     "metadata": {},
     "output_type": "execute_result"
    }
   ],
   "source": [
    "l16 = [10, 20, 30, 15, 20, 40]\n",
    "l16.sort()                  #ascending order by default | descending order: sort(reverse=True) \n",
    "l16"
   ]
  },
  {
   "cell_type": "code",
   "execution_count": 109,
   "id": "23febf91",
   "metadata": {},
   "outputs": [
    {
     "name": "stdout",
     "output_type": "stream",
     "text": [
      "[10, 15, 20, 20, 30, 40]\n",
      "[10, 20, 30, 15, 20, 40]\n"
     ]
    }
   ],
   "source": [
    "l17 = [10, 20, 30, 15, 20, 40]\n",
    "\n",
    "# New sorted list\n",
    "print(sorted(l17)) \n",
    "\n",
    "# The original one is not modified\n",
    "print(l17) "
   ]
  },
  {
   "cell_type": "markdown",
   "id": "99a358b6",
   "metadata": {},
   "source": [
    "## `clear()`"
   ]
  },
  {
   "cell_type": "code",
   "execution_count": 110,
   "id": "53f205b2",
   "metadata": {},
   "outputs": [
    {
     "data": {
      "text/plain": [
       "[]"
      ]
     },
     "execution_count": 110,
     "metadata": {},
     "output_type": "execute_result"
    }
   ],
   "source": [
    "l18 = [10, 20, 30]\n",
    "l18.clear()\n",
    "l18"
   ]
  },
  {
   "cell_type": "code",
   "execution_count": 111,
   "id": "b98645c1",
   "metadata": {},
   "outputs": [
    {
     "data": {
      "text/plain": [
       "[]"
      ]
     },
     "execution_count": 111,
     "metadata": {},
     "output_type": "execute_result"
    }
   ],
   "source": [
    "l19 = [10, 20, 30]\n",
    "del l19[:]\n",
    "l19"
   ]
  },
  {
   "cell_type": "markdown",
   "id": "c3f44b1f",
   "metadata": {},
   "source": [
    "## `list` with `slice`"
   ]
  },
  {
   "cell_type": "code",
   "execution_count": 112,
   "id": "663ed903",
   "metadata": {},
   "outputs": [
    {
     "data": {
      "text/plain": [
       "[10, 20, 30, 55]"
      ]
     },
     "execution_count": 112,
     "metadata": {},
     "output_type": "execute_result"
    }
   ],
   "source": [
    "l20 = [10, 20, 30]\n",
    "l20[len(l20):] = [55]\n",
    "l20"
   ]
  },
  {
   "cell_type": "code",
   "execution_count": 113,
   "id": "21764b53",
   "metadata": {},
   "outputs": [
    {
     "data": {
      "text/plain": [
       "[10, 20, 30, 55, 65]"
      ]
     },
     "execution_count": 113,
     "metadata": {},
     "output_type": "execute_result"
    }
   ],
   "source": [
    "l21 = [10, 20, 30]\n",
    "l21[len(l21):] = [55, 65]\n",
    "l21"
   ]
  },
  {
   "cell_type": "markdown",
   "id": "c4f61377",
   "metadata": {},
   "source": [
    "## Check if a `list` is empty\n",
    "\n",
    "`if not len(seq):`    if a list is empty, `True`\n",
    "\n",
    "`if len(seq):`        if a list is not empty, `True`\n",
    "\n",
    "### Recommended\n",
    "`if not seq:`         if a list is empty, `True`\n",
    "\n",
    "`if seq:`             if a list is not empty, `True`"
   ]
  },
  {
   "cell_type": "code",
   "execution_count": 43,
   "id": "4bce461f",
   "metadata": {},
   "outputs": [],
   "source": [
    "seq = []\n",
    "\n",
    "# Check if list is empty\n",
    "if seq:\n",
    "    # If list is not empty, print the last element\n",
    "    print(seq[-1])"
   ]
  },
  {
   "cell_type": "markdown",
   "id": "ea320141",
   "metadata": {},
   "source": [
    "## `list` allocation & copy"
   ]
  },
  {
   "cell_type": "code",
   "execution_count": 114,
   "id": "608be6b0",
   "metadata": {},
   "outputs": [
    {
     "name": "stdout",
     "output_type": "stream",
     "text": [
      "True\n",
      "[0, 0, 9, 0]\n",
      "[0, 0, 9, 0]\n"
     ]
    }
   ],
   "source": [
    "l22 = [0, 0, 0, 0]\n",
    "l23 = l22\n",
    "print(l22 is l23)\n",
    "\n",
    "l23[2] = 9\n",
    "print(l22)\n",
    "print(l23)"
   ]
  },
  {
   "cell_type": "code",
   "execution_count": 115,
   "id": "f381de6d",
   "metadata": {},
   "outputs": [
    {
     "name": "stdout",
     "output_type": "stream",
     "text": [
      "False\n",
      "True\n",
      "[0, 0, 0, 0]\n",
      "[0, 0, 9, 0]\n"
     ]
    }
   ],
   "source": [
    "l24 = [0, 0, 0, 0]\n",
    "l25 = l24.copy()\n",
    "print(l24 is l25)  # Two lists are different objects -> False\n",
    "print(l24 == l25)  # Elements in each list are the same -> True\n",
    "\n",
    "l25[2] = 9\n",
    "print(l24)\n",
    "print(l25)"
   ]
  },
  {
   "cell_type": "markdown",
   "id": "81b10b40",
   "metadata": {},
   "source": [
    "## `enumerate`"
   ]
  },
  {
   "cell_type": "code",
   "execution_count": 116,
   "id": "f8b51433",
   "metadata": {},
   "outputs": [
    {
     "name": "stdout",
     "output_type": "stream",
     "text": [
      "0 38\n",
      "1 21\n",
      "2 53\n",
      "3 62\n",
      "4 19\n"
     ]
    }
   ],
   "source": [
    "l26 = [38, 21, 53, 62, 19]\n",
    "for index, value in enumerate(l26):\n",
    "    print(index, value)"
   ]
  },
  {
   "cell_type": "markdown",
   "id": "07396fb2",
   "metadata": {},
   "source": [
    "## `min`, `max`"
   ]
  },
  {
   "cell_type": "code",
   "execution_count": 117,
   "id": "70a19988",
   "metadata": {},
   "outputs": [
    {
     "name": "stdout",
     "output_type": "stream",
     "text": [
      "The smallest: 19\n",
      "The largest: 62\n"
     ]
    }
   ],
   "source": [
    "# for\n",
    "l27 = [38, 21, 53, 62, 19]\n",
    "smallest = l27[0]\n",
    "for i in aacc:\n",
    "    if i < smallest:\n",
    "        smallest = i\n",
    "print('The smallest:', smallest)\n",
    "\n",
    "largest = l27[0]\n",
    "for i in aacc:\n",
    "    if i > largest:\n",
    "        largest = i\n",
    "print('The largest:', largest)"
   ]
  },
  {
   "cell_type": "code",
   "execution_count": 118,
   "id": "98ea408e",
   "metadata": {},
   "outputs": [
    {
     "name": "stdout",
     "output_type": "stream",
     "text": [
      "The smallest: 19\n",
      "The largest: 62\n"
     ]
    }
   ],
   "source": [
    "# sort\n",
    "l28 = [38, 21, 53, 62, 19]\n",
    "l28.sort()\n",
    "print('The smallest:', l28[0])\n",
    "print('The largest:', l28[-1])\n",
    "\n",
    "# or\n",
    "# l28.sort(reverse=True)\n",
    "# smallest = l28[-1]\n",
    "# largest = l28[0]"
   ]
  },
  {
   "cell_type": "code",
   "execution_count": 119,
   "id": "2a7c1e95",
   "metadata": {},
   "outputs": [
    {
     "name": "stdout",
     "output_type": "stream",
     "text": [
      "The smallest: 19\n",
      "The largest: 62\n"
     ]
    }
   ],
   "source": [
    "# min, max\n",
    "l29 = [38, 21, 53, 62, 19]\n",
    "print('The smallest:', min(l29))\n",
    "print('The largest:', max(l29))"
   ]
  },
  {
   "cell_type": "markdown",
   "id": "12988ae8",
   "metadata": {},
   "source": [
    "## `sum`"
   ]
  },
  {
   "cell_type": "code",
   "execution_count": 120,
   "id": "1a5cdffd",
   "metadata": {},
   "outputs": [
    {
     "name": "stdout",
     "output_type": "stream",
     "text": [
      "100\n"
     ]
    }
   ],
   "source": [
    "# for\n",
    "l30 = [10, 15, 20, 25, 30]\n",
    "n = 0\n",
    "for i in l30:\n",
    "    n += i\n",
    "print(n)"
   ]
  },
  {
   "cell_type": "code",
   "execution_count": 121,
   "id": "dce0f0da",
   "metadata": {},
   "outputs": [
    {
     "name": "stdout",
     "output_type": "stream",
     "text": [
      "100\n"
     ]
    }
   ],
   "source": [
    "#sum\n",
    "l31 = [10, 15, 20, 25, 30]\n",
    "print(sum(l31))"
   ]
  },
  {
   "cell_type": "markdown",
   "id": "74dee4a4",
   "metadata": {},
   "source": [
    "## List Comprehension"
   ]
  },
  {
   "cell_type": "code",
   "execution_count": 122,
   "id": "3687f66b",
   "metadata": {},
   "outputs": [
    {
     "name": "stdout",
     "output_type": "stream",
     "text": [
      "[0, 1, 2, 3, 4, 5, 6, 7, 8, 9]\n"
     ]
    }
   ],
   "source": [
    " # Create a list of numbers from 0 to 9 - Performance is good\n",
    "l32 = [i for i in range(10)]       \n",
    "print(l32)"
   ]
  },
  {
   "cell_type": "code",
   "execution_count": 123,
   "id": "4ab9abd5",
   "metadata": {},
   "outputs": [
    {
     "name": "stdout",
     "output_type": "stream",
     "text": [
      "[0, 1, 2, 3, 4, 5, 6, 7, 8, 9]\n"
     ]
    }
   ],
   "source": [
    "# Create a list of numbers from 0 to 9\n",
    "l33 = list(i for i in range(10))    \n",
    "print(l33)"
   ]
  },
  {
   "cell_type": "code",
   "execution_count": 124,
   "id": "413b3105",
   "metadata": {},
   "outputs": [
    {
     "name": "stdout",
     "output_type": "stream",
     "text": [
      "[5, 6, 7, 8, 9, 10, 11, 12, 13, 14]\n"
     ]
    }
   ],
   "source": [
    "# Create a list of numbers from 0 to 9 & add 5 to the value\n",
    "l34 = [i + 5 for i in range(10)]  \n",
    "print(l34)"
   ]
  },
  {
   "cell_type": "code",
   "execution_count": 125,
   "id": "b33c1d82",
   "metadata": {},
   "outputs": [
    {
     "name": "stdout",
     "output_type": "stream",
     "text": [
      "[0, 2, 4, 6, 8]\n"
     ]
    }
   ],
   "source": [
    "# Create a list of even numbers from 0 to 9\n",
    "l35 = [i for i in range(10) if i % 2 == 0]\n",
    "print(l35)"
   ]
  },
  {
   "cell_type": "code",
   "execution_count": 126,
   "id": "a663c153",
   "metadata": {},
   "outputs": [
    {
     "name": "stdout",
     "output_type": "stream",
     "text": [
      "[2, 4, 6, 8, 10, 12, 14, 16, 18, 3, 6, 9, 12, 15, 18, 21, 24, 27, 4, 8, 12, 16, 20, 24, 28, 32, 36, 5, 10, 15, 20, 25, 30, 35, 40, 45, 6, 12, 18, 24, 30, 36, 42, 48, 54, 7, 14, 21, 28, 35, 42, 49, 56, 63, 8, 16, 24, 32, 40, 48, 56, 64, 72, 9, 18, 27, 36, 45, 54, 63, 72, 81]\n"
     ]
    }
   ],
   "source": [
    "# Create multiplication lists from 2nd to 9th steps\n",
    "l36 = [i * j for i in range(2, 10) for j in range(1,10)]\n",
    "print(l36)"
   ]
  },
  {
   "cell_type": "markdown",
   "id": "38cc2184",
   "metadata": {},
   "source": [
    "## `list` with `map`"
   ]
  },
  {
   "cell_type": "code",
   "execution_count": 127,
   "id": "f83e895b",
   "metadata": {},
   "outputs": [
    {
     "name": "stdout",
     "output_type": "stream",
     "text": [
      "[1, 2, 3, 4]\n"
     ]
    }
   ],
   "source": [
    "#for\n",
    "l37 = [1.2, 2.5, 3.7, 4.6]\n",
    "for i in range(len(l37)):\n",
    "    l37[i] = int(l37[i])\n",
    "print(l37)"
   ]
  },
  {
   "cell_type": "code",
   "execution_count": 128,
   "id": "0770c8a6",
   "metadata": {},
   "outputs": [
    {
     "name": "stdout",
     "output_type": "stream",
     "text": [
      "[1, 2, 3, 4]\n"
     ]
    }
   ],
   "source": [
    "#map\n",
    "l38 = [1.2, 2.5, 3.7, 4.6]\n",
    "l38 = list(map(int, l38))\n",
    "print(l38)"
   ]
  },
  {
   "cell_type": "code",
   "execution_count": 129,
   "id": "582664df",
   "metadata": {},
   "outputs": [
    {
     "name": "stdout",
     "output_type": "stream",
     "text": [
      "['0', '1', '2', '3', '4', '5', '6', '7', '8', '9']\n"
     ]
    }
   ],
   "source": [
    "l39 = list(map(str, range(10)))\n",
    "print(l39)"
   ]
  },
  {
   "cell_type": "code",
   "execution_count": 130,
   "id": "3ccaeb29",
   "metadata": {},
   "outputs": [
    {
     "name": "stdout",
     "output_type": "stream",
     "text": [
      "12 31\n",
      "12 31\n"
     ]
    }
   ],
   "source": [
    "l40_a, l40_b = map(int, input().split())\n",
    "print(l40_a, l40_b)"
   ]
  },
  {
   "cell_type": "markdown",
   "id": "25343f16",
   "metadata": {},
   "source": [
    "## `tuple`"
   ]
  },
  {
   "cell_type": "code",
   "execution_count": 84,
   "id": "437bbe70",
   "metadata": {},
   "outputs": [
    {
     "data": {
      "text/plain": [
       "3"
      ]
     },
     "execution_count": 84,
     "metadata": {},
     "output_type": "execute_result"
    }
   ],
   "source": [
    "t1 = (38, 21, 53, 62, 19, 53)\n",
    "t1.index(62)"
   ]
  },
  {
   "cell_type": "code",
   "execution_count": 85,
   "id": "52b8536f",
   "metadata": {},
   "outputs": [
    {
     "data": {
      "text/plain": [
       "2"
      ]
     },
     "execution_count": 85,
     "metadata": {},
     "output_type": "execute_result"
    }
   ],
   "source": [
    "t2 = (10, 20, 30, 15, 20, 40)\n",
    "t2.count(20)"
   ]
  },
  {
   "cell_type": "code",
   "execution_count": 131,
   "id": "31feee49",
   "metadata": {},
   "outputs": [
    {
     "name": "stdout",
     "output_type": "stream",
     "text": [
      "min: 19\n",
      "max: 62\n",
      "sum: 193\n"
     ]
    }
   ],
   "source": [
    "t3 = (38, 21, 53, 62, 19)\n",
    "print('min:', min(t3))\n",
    "print('max:', max(t3))\n",
    "print('sum:', sum(t3))"
   ]
  },
  {
   "cell_type": "markdown",
   "id": "a993d2a6",
   "metadata": {},
   "source": [
    "## 22.9 Exercise: Extract only certain elements from the list\n",
    "\n",
    "Make only the strings in the list 'a' that are 5 in length print in the form of the list.\n",
    "\n",
    "소스 코드를 완성하여 리스트 `a`에 들어있는 문자열 중에서 길이가 5인 것들만 리스트 형태로 출력되게 만드세요(리스트 표현식 사용)."
   ]
  },
  {
   "cell_type": "code",
   "execution_count": 137,
   "id": "75228fc1",
   "metadata": {},
   "outputs": [
    {
     "name": "stdout",
     "output_type": "stream",
     "text": [
      "['alpha', 'bravo', 'delta', 'hotel', 'india']\n"
     ]
    }
   ],
   "source": [
    "a = ['alpha', 'bravo', 'charlie', 'delta', 'echo', 'foxtrot', 'golf', 'hotel', 'india']\n",
    "b = [i for i in a if len(i) == 5]\n",
    "print(b)"
   ]
  },
  {
   "cell_type": "markdown",
   "id": "f13d5108",
   "metadata": {},
   "source": [
    "## 22.10 Problem: Create a list of squares of 2\n",
    "\n",
    "Create a program that prints a list of powers of 2 with the first integer to the second integer as the index.\n",
    "However, delete the second element of the list and the second element from behind.\n",
    "\n",
    "표준 입력으로 정수 두 개가 입력됩니다(첫 번째 입력 값의 범위는 1-20, 두 번째 입력 값의 범위는 10-30이며 첫 번째 입력 값은 두 번째 입력 값보다 항상 작습니다). 첫 번째 정수부터 두 번째 정수까지를 지수로 하는 2의 거듭제곱 리스트를 출력하는 프로그램을 만드세요(`input`에서 안내 문자열은 출력하지 않아야 합니다). 단, 리스트의 두 번째 요소와 뒤에서 두 번째 요소는 삭제한 뒤 출력하세요. 출력 결과는 리스트 형태라야 합니다."
   ]
  },
  {
   "cell_type": "code",
   "execution_count": 141,
   "id": "c6ce7223",
   "metadata": {},
   "outputs": [
    {
     "name": "stdout",
     "output_type": "stream",
     "text": [
      "1 10\n",
      "[2, 8, 16, 32, 64, 128, 256, 1024]\n"
     ]
    }
   ],
   "source": [
    "start, stop = map(int, input().split())\n",
    "output = [2**i for i in range(start, stop + 1)]\n",
    "output.pop(1)\n",
    "output.pop(-2)\n",
    "# or\n",
    "# del output[1]\n",
    "# del output[-2]\n",
    "print(output)"
   ]
  },
  {
   "cell_type": "markdown",
   "id": "6601bb64",
   "metadata": {},
   "source": [
    "## Two-dimensional list"
   ]
  },
  {
   "cell_type": "code",
   "execution_count": 143,
   "id": "666bd2fc",
   "metadata": {},
   "outputs": [
    {
     "name": "stdout",
     "output_type": "stream",
     "text": [
      "60\n",
      "[[10, 1000], [30, 40], [50, 60]]\n"
     ]
    }
   ],
   "source": [
    "tdl1 = [[10, 20], [30, 40], [50, 60]]\n",
    "print(tdl1[2][1])\n",
    "tdl1[0][1] = 1000\n",
    "print(tdl1)"
   ]
  },
  {
   "cell_type": "code",
   "execution_count": 144,
   "id": "58de110c",
   "metadata": {},
   "outputs": [],
   "source": [
    "# jaggedn list\n",
    "tdl2 = [[10, 20],\n",
    "       [500, 600, 700],\n",
    "       [9],\n",
    "       [30, 40],\n",
    "       [8],\n",
    "       [800, 900, 1000]]"
   ]
  },
  {
   "cell_type": "code",
   "execution_count": 145,
   "id": "aca3cc41",
   "metadata": {},
   "outputs": [
    {
     "name": "stdout",
     "output_type": "stream",
     "text": [
      "[[10, 20], [55, 65, 75]]\n"
     ]
    }
   ],
   "source": [
    "tdl3 = []\n",
    "\n",
    "tdl3.append([])\n",
    "tdl3[0].append(10)\n",
    "tdl3[0].append(20)\n",
    "\n",
    "tdl3.append([])\n",
    "tdl3[1].append(55)\n",
    "tdl3[1].append(65)\n",
    "tdl3[1].append(75)\n",
    "\n",
    "print(tdl3)"
   ]
  },
  {
   "cell_type": "code",
   "execution_count": 150,
   "id": "c3923005",
   "metadata": {
    "scrolled": true
   },
   "outputs": [
    {
     "name": "stdout",
     "output_type": "stream",
     "text": [
      "[   [10, 1000],\n",
      "    [30, 40],\n",
      "    [50, 60]]\n"
     ]
    }
   ],
   "source": [
    "from pprint import pprint\n",
    "pprint(tdl1, indent=4, width=20)"
   ]
  },
  {
   "cell_type": "code",
   "execution_count": 151,
   "id": "5d1a06a7",
   "metadata": {},
   "outputs": [
    {
     "name": "stdout",
     "output_type": "stream",
     "text": [
      "10 20\n",
      "30 40\n",
      "50 60\n"
     ]
    }
   ],
   "source": [
    "#for\n",
    "tdl4 = [[10, 20], [30, 40], [50, 60]]\n",
    "for x, y in tdl4:\n",
    "    print(x,y)"
   ]
  },
  {
   "cell_type": "code",
   "execution_count": 152,
   "id": "088bc8cc",
   "metadata": {},
   "outputs": [
    {
     "name": "stdout",
     "output_type": "stream",
     "text": [
      "10 20 \n",
      "30 40 \n",
      "50 60 \n"
     ]
    }
   ],
   "source": [
    "# for & for\n",
    "for i in tdl4:\n",
    "    for j in i:\n",
    "        print(j, end=' ')\n",
    "    print()"
   ]
  },
  {
   "cell_type": "code",
   "execution_count": 153,
   "id": "01f0eec2",
   "metadata": {},
   "outputs": [
    {
     "name": "stdout",
     "output_type": "stream",
     "text": [
      "10 20 \n",
      "30 40 \n",
      "50 60 \n"
     ]
    }
   ],
   "source": [
    "#for & range\n",
    "for i in range(len(tdl4)):\n",
    "    for j in range(len(tdl4[i])):\n",
    "        print(tdl4[i][j], end=' ')\n",
    "    print()"
   ]
  },
  {
   "cell_type": "code",
   "execution_count": 155,
   "id": "6e0acddb",
   "metadata": {},
   "outputs": [
    {
     "name": "stdout",
     "output_type": "stream",
     "text": [
      "10 20\n",
      "30 40\n",
      "50 60\n"
     ]
    }
   ],
   "source": [
    "# while\n",
    "i = 0\n",
    "while i < len(tdl4):\n",
    "    x, y = tdl4[i]\n",
    "    print(x, y)\n",
    "    i += 1"
   ]
  },
  {
   "cell_type": "code",
   "execution_count": 156,
   "id": "cc14fc8b",
   "metadata": {},
   "outputs": [
    {
     "name": "stdout",
     "output_type": "stream",
     "text": [
      "10 20 \n",
      "30 40 \n",
      "50 60 \n"
     ]
    }
   ],
   "source": [
    "# while & while\n",
    "i = 0\n",
    "while i < len(tdl4):\n",
    "    j = 0\n",
    "    while j < len(tdl4[i]):\n",
    "        print(tdl4[i][j], end= ' ')\n",
    "        j += 1\n",
    "    print()\n",
    "    i += 1"
   ]
  },
  {
   "cell_type": "code",
   "execution_count": 160,
   "id": "a6cc9103",
   "metadata": {},
   "outputs": [
    {
     "name": "stdout",
     "output_type": "stream",
     "text": [
      "[[0, 1], [2, 3], [4, 5]]\n"
     ]
    }
   ],
   "source": [
    "# making two-dimensional list with for\n",
    "tdl5 = []\n",
    "x = 0\n",
    "for i in range(3):\n",
    "    line = []    \n",
    "    for j in range(2):\n",
    "        line.append(x)\n",
    "        x += 1\n",
    "    tdl5.append(line)\n",
    "print(tdl5)"
   ]
  },
  {
   "cell_type": "code",
   "execution_count": 163,
   "id": "49d38628",
   "metadata": {},
   "outputs": [
    {
     "name": "stdout",
     "output_type": "stream",
     "text": [
      "[[0, 0], [0, 0], [0, 0]]\n"
     ]
    }
   ],
   "source": [
    "tdl6 = [[0 for j in range(2)] for i in range(3)]\n",
    "print(tdl6)"
   ]
  },
  {
   "cell_type": "code",
   "execution_count": 165,
   "id": "08adbf96",
   "metadata": {},
   "outputs": [
    {
     "name": "stdout",
     "output_type": "stream",
     "text": [
      "[[0, 0], [0, 0], [0, 0]]\n"
     ]
    }
   ],
   "source": [
    "tdl7 = [[0] * 2 for i in range(3)]\n",
    "print(tdl7)"
   ]
  },
  {
   "cell_type": "code",
   "execution_count": 166,
   "id": "ff78e1b5",
   "metadata": {},
   "outputs": [
    {
     "name": "stdout",
     "output_type": "stream",
     "text": [
      "[[0, 0, 0], [0], [0, 0, 0], [0, 0], [0, 0, 0, 0, 0]]\n"
     ]
    }
   ],
   "source": [
    "# making jagged list\n",
    "row_num = [3, 1, 3, 2, 5]\n",
    "tdl8 = []\n",
    "\n",
    "for i in row_num:\n",
    "    line = []    \n",
    "    for j in range(i):\n",
    "        line.append(0)\n",
    "    tdl8.append(line)\n",
    "print(tdl8)"
   ]
  },
  {
   "cell_type": "code",
   "execution_count": 167,
   "id": "a46d8f68",
   "metadata": {},
   "outputs": [
    {
     "name": "stdout",
     "output_type": "stream",
     "text": [
      "[[0, 0, 0], [0], [0, 0, 0], [0, 0], [0, 0, 0, 0, 0]]\n"
     ]
    }
   ],
   "source": [
    "tdl9 = [[0] * i for i in row_num]\n",
    "print(tdl9)"
   ]
  },
  {
   "cell_type": "code",
   "execution_count": 168,
   "id": "3a23c13a",
   "metadata": {},
   "outputs": [],
   "source": [
    "# sorted in 2 dimensional list\n",
    "students = [\n",
    "    ['john', 'C', 19],\n",
    "    ['maria', 'A', 25],\n",
    "    ['andrew', 'B', 7]\n",
    "]"
   ]
  },
  {
   "cell_type": "code",
   "execution_count": 169,
   "id": "54e39a46",
   "metadata": {},
   "outputs": [
    {
     "name": "stdout",
     "output_type": "stream",
     "text": [
      "[['maria', 'A', 25], ['andrew', 'B', 7], ['john', 'C', 19]]\n"
     ]
    }
   ],
   "source": [
    "# Sort by index 1 in the inner list\n",
    "print(sorted(students, key=lambda student: student[1]))"
   ]
  },
  {
   "cell_type": "code",
   "execution_count": 170,
   "id": "4cce7b7c",
   "metadata": {
    "scrolled": true
   },
   "outputs": [
    {
     "name": "stdout",
     "output_type": "stream",
     "text": [
      "[['andrew', 'B', 7], ['john', 'C', 19], ['maria', 'A', 25]]\n"
     ]
    }
   ],
   "source": [
    "# Sort by index 2 in the inner list\n",
    "print(sorted(students, key=lambda student: student[2]))"
   ]
  },
  {
   "cell_type": "markdown",
   "id": "8b12f306",
   "metadata": {},
   "source": [
    "## Two-dimensional list allocation"
   ]
  },
  {
   "cell_type": "code",
   "execution_count": 171,
   "id": "5e0f60e5",
   "metadata": {},
   "outputs": [
    {
     "name": "stdout",
     "output_type": "stream",
     "text": [
      "[[500, 20], [30, 40]]\n",
      "[[500, 20], [30, 40]]\n"
     ]
    }
   ],
   "source": [
    "tdl10 = [[10, 20], [30, 40]]\n",
    "tdl11 = tdl10\n",
    "tdl11[0][0] = 500\n",
    "print(tdl10)\n",
    "print(tdl11)\n",
    "\n",
    "# tdl12 = tdl11.copy() "
   ]
  },
  {
   "cell_type": "markdown",
   "id": "b9606361",
   "metadata": {},
   "source": [
    "## Two-dimensional list copy"
   ]
  },
  {
   "cell_type": "code",
   "execution_count": 172,
   "id": "1ef31318",
   "metadata": {},
   "outputs": [
    {
     "name": "stdout",
     "output_type": "stream",
     "text": [
      "[[10, 20], [30, 40]]\n",
      "[[500, 20], [30, 40]]\n"
     ]
    }
   ],
   "source": [
    "tdl12 = [[10, 20], [30, 40]]\n",
    "import copy\n",
    "tdl13 = copy.deepcopy(tdl12)\n",
    "tdl13[0][0] = 500\n",
    "\n",
    "print(tdl12)\n",
    "print(tdl13)"
   ]
  },
  {
   "cell_type": "markdown",
   "id": "db6e5a43",
   "metadata": {},
   "source": [
    "### Two-dimensional tuple"
   ]
  },
  {
   "cell_type": "code",
   "execution_count": 146,
   "id": "10686028",
   "metadata": {},
   "outputs": [],
   "source": [
    "# tuple in tuple\n",
    "tdt1 = ((10, 20), (30, 40), (50, 60))\n",
    "\n",
    "# list in tuple\n",
    "tdt2 = ([10, 20], [30, 40], [50, 60])\n",
    "\n",
    "#tuple in list\n",
    "tdt3 = [(10, 20), (30, 40), (50, 60)]"
   ]
  },
  {
   "cell_type": "markdown",
   "id": "8bc005a6",
   "metadata": {},
   "source": [
    "## 23.6 Exercise: Create a three-dimensional list\n",
    "\n",
    "Create a three-dimensional list of heights 2, long 4, and wide 3.\n",
    "\n",
    "소스 코드를 완성하여 높이 2, 세로 크기 4, 가로 크기 3인 3차원 리스트를 만드세요(리스트 표현식 사용)."
   ]
  },
  {
   "cell_type": "code",
   "execution_count": 173,
   "id": "f16fe2fb",
   "metadata": {},
   "outputs": [
    {
     "name": "stdout",
     "output_type": "stream",
     "text": [
      "[[[0, 0, 0], [0, 0, 0], [0, 0, 0], [0, 0, 0]], [[0, 0, 0], [0, 0, 0], [0, 0, 0], [0, 0, 0]]]\n"
     ]
    }
   ],
   "source": [
    "a = [[[0 for i in range(3)] for j in range(4)] for x in range(2)]\n",
    "print(a)"
   ]
  },
  {
   "cell_type": "code",
   "execution_count": 176,
   "id": "5b754abd",
   "metadata": {},
   "outputs": [
    {
     "name": "stdout",
     "output_type": "stream",
     "text": [
      "[[[0, 0, 0], [0, 0, 0], [0, 0, 0], [0, 0, 0]], [[0, 0, 0], [0, 0, 0], [0, 0, 0], [0, 0, 0]]]\n"
     ]
    }
   ],
   "source": [
    "b = [[[0] * 3 ] * 4 for i in range(2)]\n",
    "print(b)"
   ]
  },
  {
   "cell_type": "markdown",
   "id": "e96f35ae",
   "metadata": {},
   "source": [
    "## 23.7 Problem: Minesweeper\n",
    "\n",
    "Create a program that prints the number of adjacent mines on non-mine elements.\n",
    "\n",
    "표준 입력으로 2차원 리스트의 가로(`col`)와 세로(`row`)가 입력되고 그 다음 줄부터 리스트의 요소로 들어갈 문자가 입력됩니다. 이때 2차원 리스트 안에서 `*` 는 지뢰이고 `.`은 지뢰가 아닙니다. 지뢰가 아닌 요소에는 인접한 지뢰의 개수를 출력하는 프로그램을 만드세요(`input`에서 안내 문자열은 출력하지 않아야 합니다)."
   ]
  },
  {
   "cell_type": "code",
   "execution_count": 199,
   "id": "ef5c0b6e",
   "metadata": {},
   "outputs": [
    {
     "name": "stdout",
     "output_type": "stream",
     "text": [
      "7 8\n",
      "*..*.**\n",
      ".....*.\n",
      ".*....*\n",
      "*.*.*.*\n",
      "...**.*\n",
      "....*..\n",
      ".*...*.\n",
      "***..*.\n",
      "* 1 1 * 3 * * \n",
      "2 2 2 1 3 * 4 \n",
      "2 * 2 2 2 4 * \n",
      "* 3 * 4 * 5 * \n",
      "1 2 2 * * 5 * \n",
      "1 1 2 3 * 4 2 \n",
      "3 * 3 2 3 * 2 \n",
      "* * * 1 2 * 2 \n"
     ]
    }
   ],
   "source": [
    "col, row = map(int, input().split())\n",
    "\n",
    "matrix = []\n",
    "for i in range(row):\n",
    "    matrix.append(list(input()))\n",
    "\n",
    "for i in range(row):\n",
    "    for j in range(col):\n",
    "        if matrix[i][j] == '*':\n",
    "            continue\n",
    "        \n",
    "        matrix[i][j] = 0\n",
    "        # top\n",
    "        if i > 0 and matrix[i - 1][j] == '*':\n",
    "            matrix[i][j] += 1\n",
    "        # bottom\n",
    "        if i < row - 1 and matrix[i + 1][j] == '*':\n",
    "            matrix[i][j] += 1\n",
    "        # left\n",
    "        if j > 0 and matrix[i][j - 1] == '*':\n",
    "            matrix[i][j] += 1\n",
    "        # right\n",
    "        if j < col - 1 and matrix[i][j + 1] == '*':\n",
    "            matrix[i][j] += 1\n",
    "        # top-left\n",
    "        if i > 0 and j > 0 and matrix[i - 1][j - 1] == '*':\n",
    "            matrix[i][j] += 1\n",
    "        # top-right\n",
    "        if i > 0 and j < col - 1 and matrix[i - 1][j + 1] == '*':\n",
    "            matrix[i][j] += 1\n",
    "        #b ottom-left\n",
    "        if i < row - 1 and j > 0 and matrix[i + 1][j - 1] == '*':\n",
    "            matrix[i][j] += 1\n",
    "        # bottom-right\n",
    "        if i < row - 1 and j < col - 1and matrix[i + 1][j + 1] == '*':\n",
    "            matrix[i][j] += 1\n",
    "\n",
    "for x in matrix:\n",
    "    for y in x:\n",
    "        print(y, end=' ')\n",
    "    print()    "
   ]
  },
  {
   "cell_type": "code",
   "execution_count": 200,
   "id": "250d6042",
   "metadata": {},
   "outputs": [
    {
     "name": "stdout",
     "output_type": "stream",
     "text": [
      "7 8\n",
      "*..*.**\n",
      ".....*.\n",
      ".*....*\n",
      "*.*.*.*\n",
      "...**.*\n",
      "....*..\n",
      ".*...*.\n",
      "***..*.\n",
      "* 1 1 * 3 * * \n",
      "2 2 2 1 3 * 4 \n",
      "2 * 2 2 2 4 * \n",
      "* 3 * 4 * 5 * \n",
      "1 2 2 * * 5 * \n",
      "1 1 2 3 * 4 2 \n",
      "3 * 3 2 3 * 2 \n",
      "* * * 1 2 * 2 \n"
     ]
    }
   ],
   "source": [
    "col, row = map(int, input().split())\n",
    "\n",
    "matrix = []\n",
    "for i in range(row):\n",
    "    matrix.append(list(input()))\n",
    "    \n",
    "for i in range(row):\n",
    "    for j in range(col):\n",
    "        if matrix[i][j] == '*':\n",
    "            continue\n",
    "            \n",
    "        matrix[i][j] = 0\n",
    "        for x in range(i - 1, i + 2):\n",
    "            for y in range(j - 1, j + 2):\n",
    "                if x < 0 or y < 0 or x >= row or y >= col:\n",
    "                    continue\n",
    "                else:\n",
    "                    if matrix[x][y] == '*':\n",
    "                        matrix[i][j] += 1\n",
    "for x in matrix:\n",
    "    for y in x:\n",
    "        print(y, end=' ')\n",
    "    print()  "
   ]
  },
  {
   "cell_type": "markdown",
   "id": "72395473",
   "metadata": {},
   "source": [
    "## `replace()`, `str.maketrans()`"
   ]
  },
  {
   "cell_type": "code",
   "execution_count": 201,
   "id": "51b16d04",
   "metadata": {},
   "outputs": [
    {
     "name": "stdout",
     "output_type": "stream",
     "text": [
      "Hello, Python!\n"
     ]
    }
   ],
   "source": [
    "s1 = 'Hello, world!'\n",
    "s1 = s1.replace('world', 'Python')\n",
    "print(s1)"
   ]
  },
  {
   "cell_type": "code",
   "execution_count": 203,
   "id": "35199318",
   "metadata": {},
   "outputs": [
    {
     "data": {
      "text/plain": [
       "'p3n21ppl2'"
      ]
     },
     "execution_count": 203,
     "metadata": {},
     "output_type": "execute_result"
    }
   ],
   "source": [
    "table = str.maketrans('aeiou', '12345')\n",
    "'pineapple'.translate(table)"
   ]
  },
  {
   "cell_type": "markdown",
   "id": "e01b764e",
   "metadata": {},
   "source": [
    "## `split()`"
   ]
  },
  {
   "cell_type": "code",
   "execution_count": 204,
   "id": "0ab5c09a",
   "metadata": {},
   "outputs": [
    {
     "data": {
      "text/plain": [
       "['apple', 'pear', 'grape', 'pineapple', 'orange']"
      ]
     },
     "execution_count": 204,
     "metadata": {},
     "output_type": "execute_result"
    }
   ],
   "source": [
    "'apple pear grape pineapple orange'.split()"
   ]
  },
  {
   "cell_type": "code",
   "execution_count": 205,
   "id": "4d29d9d9",
   "metadata": {},
   "outputs": [
    {
     "data": {
      "text/plain": [
       "['apple', 'pear', 'grape', 'pineapple', 'orange']"
      ]
     },
     "execution_count": 205,
     "metadata": {},
     "output_type": "execute_result"
    }
   ],
   "source": [
    "'apple, pear, grape, pineapple, orange'.split(', ')"
   ]
  },
  {
   "cell_type": "markdown",
   "id": "62b88363",
   "metadata": {},
   "source": [
    "## `join()`"
   ]
  },
  {
   "cell_type": "code",
   "execution_count": 206,
   "id": "16407515",
   "metadata": {},
   "outputs": [
    {
     "data": {
      "text/plain": [
       "'apple pear grape pineapple orange'"
      ]
     },
     "execution_count": 206,
     "metadata": {},
     "output_type": "execute_result"
    }
   ],
   "source": [
    "' '.join(['apple', 'pear', 'grape', 'pineapple', 'orange'])"
   ]
  },
  {
   "cell_type": "code",
   "execution_count": 208,
   "id": "050b1135",
   "metadata": {},
   "outputs": [
    {
     "data": {
      "text/plain": [
       "'apple & pear & grape & pineapple & orange'"
      ]
     },
     "execution_count": 208,
     "metadata": {},
     "output_type": "execute_result"
    }
   ],
   "source": [
    "' & '.join(['apple', 'pear', 'grape', 'pineapple', 'orange'])"
   ]
  },
  {
   "cell_type": "markdown",
   "id": "40f12ea2",
   "metadata": {},
   "source": [
    "## `upper()`, `lower()`"
   ]
  },
  {
   "cell_type": "code",
   "execution_count": 209,
   "id": "a889829b",
   "metadata": {},
   "outputs": [
    {
     "name": "stdout",
     "output_type": "stream",
     "text": [
      "PYTHON python\n"
     ]
    }
   ],
   "source": [
    "u = 'python'.upper()\n",
    "l = 'PYTHON'.lower()\n",
    "print(u, l)"
   ]
  },
  {
   "cell_type": "markdown",
   "id": "59f38188",
   "metadata": {},
   "source": [
    "## `lstrip()`, `rstrip()`, `strip()`"
   ]
  },
  {
   "cell_type": "code",
   "execution_count": 219,
   "id": "be398a9a",
   "metadata": {},
   "outputs": [
    {
     "data": {
      "text/plain": [
       "('Python   ', '   Python', 'Python')"
      ]
     },
     "execution_count": 219,
     "metadata": {},
     "output_type": "execute_result"
    }
   ],
   "source": [
    "ls1 = '   Python   '.lstrip()\n",
    "rs1 = '   Python   '.rstrip()\n",
    "s1 = '   Python   '.strip()\n",
    "ls1, rs1, s1"
   ]
  },
  {
   "cell_type": "code",
   "execution_count": 213,
   "id": "5d9fcfb6",
   "metadata": {},
   "outputs": [
    {
     "data": {
      "text/plain": [
       "(' python.', ', python', ' python')"
      ]
     },
     "execution_count": 213,
     "metadata": {},
     "output_type": "execute_result"
    }
   ],
   "source": [
    "ls2 = ', python.'.lstrip(',.')\n",
    "rs2 = ', python.'.rstrip(',.')\n",
    "s2 = ', python.'.strip(',.')\n",
    "ls2, rs2, s2"
   ]
  },
  {
   "cell_type": "code",
   "execution_count": 214,
   "id": "5e9044d4",
   "metadata": {},
   "outputs": [
    {
     "data": {
      "text/plain": [
       "(' python', 'python', 'python', 'abc')"
      ]
     },
     "execution_count": 214,
     "metadata": {},
     "output_type": "execute_result"
    }
   ],
   "source": [
    "# string.punctuation\n",
    "import string\n",
    "sp1 = ', python.'.strip(string.punctuation)\n",
    "sp2 = ', python.'.strip(string.punctuation + ' ')\n",
    "sp3 = ', python.'.strip(string.punctuation).strip()\n",
    "sp4 = '.abc ,#@#$^'.strip(string.punctuation).strip()\n",
    "\n",
    "sp1, sp2, sp3, sp4"
   ]
  },
  {
   "cell_type": "code",
   "execution_count": 215,
   "id": "94717e58",
   "metadata": {},
   "outputs": [
    {
     "data": {
      "text/plain": [
       "'!\"#$%&\\'()*+,-./:;<=>?@[\\\\]^_`{|}~'"
      ]
     },
     "execution_count": 215,
     "metadata": {},
     "output_type": "execute_result"
    }
   ],
   "source": [
    "string.punctuation"
   ]
  },
  {
   "cell_type": "markdown",
   "id": "7f63833d",
   "metadata": {},
   "source": [
    "## `ljust()`, `rjust()`, `center()`"
   ]
  },
  {
   "cell_type": "code",
   "execution_count": 220,
   "id": "11b495d7",
   "metadata": {},
   "outputs": [
    {
     "data": {
      "text/plain": [
       "('python    ', '    python', '  python  ')"
      ]
     },
     "execution_count": 220,
     "metadata": {},
     "output_type": "execute_result"
    }
   ],
   "source": [
    "lj1 = 'python'.ljust(10)\n",
    "rj1 = 'python'.rjust(10)\n",
    "c1 = 'python'.center(10)\n",
    "\n",
    "lj1, rj1, c1"
   ]
  },
  {
   "cell_type": "code",
   "execution_count": 221,
   "id": "9ac10b89",
   "metadata": {},
   "outputs": [
    {
     "data": {
      "text/plain": [
       "'   python  '"
      ]
     },
     "execution_count": 221,
     "metadata": {},
     "output_type": "execute_result"
    }
   ],
   "source": [
    "# If length is odd number, left +1\n",
    "'python'.center(11)"
   ]
  },
  {
   "cell_type": "markdown",
   "id": "5e412109",
   "metadata": {},
   "source": [
    "### method chaining"
   ]
  },
  {
   "cell_type": "code",
   "execution_count": 222,
   "id": "6804cdee",
   "metadata": {},
   "outputs": [
    {
     "data": {
      "text/plain": [
       "('    PYTHON', 'ABC       ')"
      ]
     },
     "execution_count": 222,
     "metadata": {},
     "output_type": "execute_result"
    }
   ],
   "source": [
    "mc1 = 'python'.rjust(10).upper()\n",
    "\n",
    "import string\n",
    "mc2 = '.abc ,#@#$^'.strip(string.punctuation).strip().ljust(10).upper()\n",
    "\n",
    "mc1, mc2"
   ]
  },
  {
   "cell_type": "markdown",
   "id": "e67cb5e0",
   "metadata": {},
   "source": [
    "## `zfill()`"
   ]
  },
  {
   "cell_type": "code",
   "execution_count": 223,
   "id": "68a49355",
   "metadata": {},
   "outputs": [
    {
     "data": {
      "text/plain": [
       "('0035', '0003.5', '00000hello')"
      ]
     },
     "execution_count": 223,
     "metadata": {},
     "output_type": "execute_result"
    }
   ],
   "source": [
    "zf1 = '35'.zfill(4)\n",
    "zf2 = '3.5'.zfill(6)\n",
    "zf3 = 'hello'.zfill(10)\n",
    "\n",
    "zf1, zf2, zf3"
   ]
  },
  {
   "cell_type": "markdown",
   "id": "f46d3910",
   "metadata": {},
   "source": [
    "## `find()`, `rfind()`, `index()`, `rindex()`, `count()`"
   ]
  },
  {
   "cell_type": "code",
   "execution_count": 224,
   "id": "5ff59b8a",
   "metadata": {},
   "outputs": [
    {
     "data": {
      "text/plain": [
       "(2, -1)"
      ]
     },
     "execution_count": 224,
     "metadata": {},
     "output_type": "execute_result"
    }
   ],
   "source": [
    "f1 = 'apple pineapple'.find('pl')\n",
    "f2 = 'apple pineapple'.find('xy')\n",
    "f1, f2"
   ]
  },
  {
   "cell_type": "code",
   "execution_count": 225,
   "id": "5ad9549e",
   "metadata": {},
   "outputs": [
    {
     "data": {
      "text/plain": [
       "(12, -1)"
      ]
     },
     "execution_count": 225,
     "metadata": {},
     "output_type": "execute_result"
    }
   ],
   "source": [
    "rf1 = 'apple pineapple'.rfind('pl')\n",
    "rf2 = 'apple pineapple'.rfind('xy')\n",
    "rf1, rf2"
   ]
  },
  {
   "cell_type": "code",
   "execution_count": 226,
   "id": "44245124",
   "metadata": {},
   "outputs": [
    {
     "data": {
      "text/plain": [
       "(2, 12, 2)"
      ]
     },
     "execution_count": 226,
     "metadata": {},
     "output_type": "execute_result"
    }
   ],
   "source": [
    "i1 = 'apple pineapple'.index('pl')\n",
    "\n",
    "ri1 = 'apple pineapple'.rindex('pl')\n",
    "\n",
    "c1 = 'apple pineapple'.count('pl')\n",
    "\n",
    "i1, ri1, c1"
   ]
  },
  {
   "cell_type": "markdown",
   "id": "e0767e41",
   "metadata": {},
   "source": [
    "## format specifier 1"
   ]
  },
  {
   "cell_type": "code",
   "execution_count": 228,
   "id": "f09eb3a3",
   "metadata": {},
   "outputs": [
    {
     "data": {
      "text/plain": [
       "('I am James.', 'I am Maria.')"
      ]
     },
     "execution_count": 228,
     "metadata": {},
     "output_type": "execute_result"
    }
   ],
   "source": [
    "# '%s' % 'string'\n",
    "fs1 = 'I am %s.' % 'James'\n",
    "\n",
    "name = 'Maria'\n",
    "fs2 = 'I am %s.' % name\n",
    "\n",
    "fs1, fs2"
   ]
  },
  {
   "cell_type": "code",
   "execution_count": 229,
   "id": "0de27994",
   "metadata": {},
   "outputs": [
    {
     "data": {
      "text/plain": [
       "'I am 20 years old.'"
      ]
     },
     "execution_count": 229,
     "metadata": {},
     "output_type": "execute_result"
    }
   ],
   "source": [
    "# '%d' % integer (%d : decimal integer)\n",
    "fs3 = 'I am %d years old.' % 20\n",
    "fs3"
   ]
  },
  {
   "cell_type": "code",
   "execution_count": 230,
   "id": "7618e286",
   "metadata": {},
   "outputs": [
    {
     "data": {
      "text/plain": [
       "('2.300000', '2.30', '2.300')"
      ]
     },
     "execution_count": 230,
     "metadata": {},
     "output_type": "execute_result"
    }
   ],
   "source": [
    "# '%f' % float\n",
    "fs4 = '%f' % 2.3\n",
    "\n",
    "# '%[.precision]f' % float\n",
    "fs5 = '%.2f' % 2.3\n",
    "fs6 = '%.3f' % 2.3\n",
    "\n",
    "fs4, fs5, fs6"
   ]
  },
  {
   "cell_type": "code",
   "execution_count": 231,
   "id": "028edd94",
   "metadata": {},
   "outputs": [
    {
     "data": {
      "text/plain": [
       "'    python'"
      ]
     },
     "execution_count": 231,
     "metadata": {},
     "output_type": "execute_result"
    }
   ],
   "source": [
    "# '%[width]s' % 'string'\n",
    "fs7 = '%10s' % 'python'\n",
    "fs7"
   ]
  },
  {
   "cell_type": "code",
   "execution_count": 234,
   "id": "8ed530e9",
   "metadata": {},
   "outputs": [
    {
     "data": {
      "text/plain": [
       "('       150', '     15000', '      2.30', '   2000.30')"
      ]
     },
     "execution_count": 234,
     "metadata": {},
     "output_type": "execute_result"
    }
   ],
   "source": [
    "# '%[width]d' % integer\n",
    "fs8 = '%10d' % 150\n",
    "fs9 = '%10d' % 15000\n",
    "\n",
    "# '%[width][.precision]f' % float\n",
    "fs10 = '%10.2f' % 2.3\n",
    "fs11 ='%10.2f' % 2000.3\n",
    "\n",
    "fs8, fs9, fs10, fs11"
   ]
  },
  {
   "cell_type": "code",
   "execution_count": 235,
   "id": "24ee4d44",
   "metadata": {},
   "outputs": [
    {
     "data": {
      "text/plain": [
       "('python    ', 'Today is 3 April.')"
      ]
     },
     "execution_count": 235,
     "metadata": {},
     "output_type": "execute_result"
    }
   ],
   "source": [
    "# left adjusted : %-[width]s\n",
    "fs12 = '%-10s' % 'python'\n",
    "\n",
    "# Multi values : '%d %s' % (integer, 'string')\n",
    "fs13 = 'Today is %d %s.' % (3, 'April')\n",
    "\n",
    "fs12, fs13"
   ]
  },
  {
   "cell_type": "markdown",
   "id": "08affc30",
   "metadata": {},
   "source": [
    "## format specifier 2"
   ]
  },
  {
   "cell_type": "code",
   "execution_count": 236,
   "id": "11177438",
   "metadata": {},
   "outputs": [
    {
     "data": {
      "text/plain": [
       "('Hello, world!', 'Hello, 100')"
      ]
     },
     "execution_count": 236,
     "metadata": {},
     "output_type": "execute_result"
    }
   ],
   "source": [
    "# '{index}'.format(value)\n",
    "fs14 = 'Hello, {0}'.format('world!')\n",
    "fs15 = 'Hello, {0}'.format(100)\n",
    "fs14, fs15"
   ]
  },
  {
   "cell_type": "code",
   "execution_count": 5,
   "id": "0526b644",
   "metadata": {
    "scrolled": true
   },
   "outputs": [
    {
     "data": {
      "text/plain": [
       "('Hello, Python 3.6 Script',\n",
       " 'Python Python Script Script',\n",
       " 'Hello, Python Script 3.6',\n",
       " 'Hello, Python 3.6',\n",
       " 'Hello, Python 3.6')"
      ]
     },
     "execution_count": 5,
     "metadata": {},
     "output_type": "execute_result"
    }
   ],
   "source": [
    "# Multi values\n",
    "fs16 = 'Hello, {0} {2} {1}'.format('Python', 'Script', 3.6)\n",
    "\n",
    "# Same values\n",
    "fs17 = '{0} {0} {1} {1}'.format('Python', 'Script')\n",
    "\n",
    "# Without index\n",
    "fs18 = 'Hello, {} {} {}'.format('Python', 'Script', 3.6)\n",
    "\n",
    "# field name, instead of index\n",
    "fs19 = 'Hello, {language} {version}'.format(language='Python', version=3.6)\n",
    "\n",
    "program = {'language': 'Python', 'version': 3.6}\n",
    "fs19_1 = 'Hello, {language} {version}'.format(**program)\n",
    "\n",
    "fs16, fs17, fs18, fs19, fs19_1"
   ]
  },
  {
   "cell_type": "code",
   "execution_count": 12,
   "id": "0d50c534",
   "metadata": {},
   "outputs": [
    {
     "data": {
      "text/plain": [
       "'The complex number (3-5j) is formed from the real part 3.0 and the imaginary part -5.0.'"
      ]
     },
     "execution_count": 12,
     "metadata": {},
     "output_type": "execute_result"
    }
   ],
   "source": [
    "complex_num = 3-5j\n",
    "('The complex number {0} is formed from the real part {0.real}' \n",
    " ' and the imaginary part {0.imag}.').format(complex_num)"
   ]
  },
  {
   "cell_type": "code",
   "execution_count": 14,
   "id": "80fb5837",
   "metadata": {},
   "outputs": [
    {
     "data": {
      "text/plain": [
       "'Point(4, 2)'"
      ]
     },
     "execution_count": 14,
     "metadata": {},
     "output_type": "execute_result"
    }
   ],
   "source": [
    "class Point:\n",
    "    def __init__(self, x, y):\n",
    "        self.x, self.y = x, y\n",
    "    def __str__(self):\n",
    "        return 'Point({self.x}, {self.y})'.format(self=self)\n",
    "str(Point(4, 2))"
   ]
  },
  {
   "cell_type": "code",
   "execution_count": 15,
   "id": "300e63e9",
   "metadata": {},
   "outputs": [
    {
     "data": {
      "text/plain": [
       "'X: 3;  Y: 5'"
      ]
     },
     "execution_count": 15,
     "metadata": {},
     "output_type": "execute_result"
    }
   ],
   "source": [
    "coord = (3, 5)\n",
    "'X: {0[0]};  Y: {0[1]}'.format(coord)"
   ]
  },
  {
   "cell_type": "code",
   "execution_count": 16,
   "id": "612b6412",
   "metadata": {},
   "outputs": [
    {
     "data": {
      "text/plain": [
       "'+3.140000; -3.140000'"
      ]
     },
     "execution_count": 16,
     "metadata": {},
     "output_type": "execute_result"
    }
   ],
   "source": [
    "'{:+f}; {:+f}'.format(3.14, -3.14)"
   ]
  },
  {
   "cell_type": "code",
   "execution_count": 17,
   "id": "71c23683",
   "metadata": {
    "scrolled": true
   },
   "outputs": [
    {
     "data": {
      "text/plain": [
       "' 3.140000; -3.140000'"
      ]
     },
     "execution_count": 17,
     "metadata": {},
     "output_type": "execute_result"
    }
   ],
   "source": [
    "# show a space for positive numbers\n",
    "'{: f}; {: f}'.format(3.14, -3.14)"
   ]
  },
  {
   "cell_type": "code",
   "execution_count": 19,
   "id": "79fac729",
   "metadata": {},
   "outputs": [
    {
     "data": {
      "text/plain": [
       "'3.140000; -3.140000'"
      ]
     },
     "execution_count": 19,
     "metadata": {},
     "output_type": "execute_result"
    }
   ],
   "source": [
    "# no space for positive numbers\n",
    "'{:f}; {:f}'.format(3.14, -3.14)"
   ]
  },
  {
   "cell_type": "code",
   "execution_count": 18,
   "id": "220012f6",
   "metadata": {},
   "outputs": [
    {
     "data": {
      "text/plain": [
       "'3.140000; -3.140000'"
      ]
     },
     "execution_count": 18,
     "metadata": {},
     "output_type": "execute_result"
    }
   ],
   "source": [
    "'{:-f}; {:-f}'.format(3.14, -3.14)"
   ]
  },
  {
   "cell_type": "code",
   "execution_count": 20,
   "id": "8fb8fc3d",
   "metadata": {},
   "outputs": [
    {
     "data": {
      "text/plain": [
       "'int: 42;  hex: 2a;  oct: 52;  bin: 101010'"
      ]
     },
     "execution_count": 20,
     "metadata": {},
     "output_type": "execute_result"
    }
   ],
   "source": [
    "\"int: {0:d};  hex: {0:x};  oct: {0:o};  bin: {0:b}\".format(42)"
   ]
  },
  {
   "cell_type": "code",
   "execution_count": 21,
   "id": "c67a7d28",
   "metadata": {},
   "outputs": [
    {
     "data": {
      "text/plain": [
       "'int: 42;  hex: 0x2a;  oct: 0o52;  bin: 0b101010'"
      ]
     },
     "execution_count": 21,
     "metadata": {},
     "output_type": "execute_result"
    }
   ],
   "source": [
    "# with 0x, 0o, or 0b as prefix:\n",
    "\"int: {0:d};  hex: {0:#x};  oct: {0:#o};  bin: {0:#b}\".format(42)"
   ]
  },
  {
   "cell_type": "code",
   "execution_count": 238,
   "id": "c0cbac31",
   "metadata": {},
   "outputs": [
    {
     "data": {
      "text/plain": [
       "('{ Python }', 'python    ', '    python', '    python')"
      ]
     },
     "execution_count": 238,
     "metadata": {},
     "output_type": "execute_result"
    }
   ],
   "source": [
    "# print { } itself\n",
    "fs20 = '{{ {0} }}'.format('Python')\n",
    "\n",
    "# '{index:<width}'.format(value)\n",
    "fs21 = '{0:<10}'.format('python')\n",
    "\n",
    "#'{index:>width}'.format(value)\n",
    "fs22 = '{0:>10}'.format('python')\n",
    "fs23 = '{:>10}'.format('python')\n",
    "\n",
    "fs20, fs21, fs22, fs23"
   ]
  },
  {
   "cell_type": "code",
   "execution_count": 22,
   "id": "28dd8d25",
   "metadata": {},
   "outputs": [
    {
     "data": {
      "text/plain": [
       "'Correct answers: 86.36%'"
      ]
     },
     "execution_count": 22,
     "metadata": {},
     "output_type": "execute_result"
    }
   ],
   "source": [
    "points = 19\n",
    "total = 22\n",
    "'Correct answers: {:.2%}'.format(points/total)"
   ]
  },
  {
   "cell_type": "code",
   "execution_count": 29,
   "id": "faa256ec",
   "metadata": {},
   "outputs": [
    {
     "data": {
      "text/plain": [
       "'2021-06-04 12:15:58'"
      ]
     },
     "execution_count": 29,
     "metadata": {},
     "output_type": "execute_result"
    }
   ],
   "source": [
    "import datetime\n",
    "d = datetime.datetime(2021, 6, 4, 12, 15, 58)\n",
    "'{:%Y-%m-%d %H:%M:%S}'.format(d)"
   ]
  },
  {
   "cell_type": "code",
   "execution_count": 241,
   "id": "69e8698b",
   "metadata": {},
   "outputs": [
    {
     "data": {
      "text/plain": [
       "('001', '035', '00003.60', '00150.37')"
      ]
     },
     "execution_count": 241,
     "metadata": {},
     "output_type": "execute_result"
    }
   ],
   "source": [
    "# positional number : '%0[number of zero]d' % number / '{index:0[number of zero]d'}'.format(number)\n",
    "fs24 = '%03d' % 1\n",
    "\n",
    "fs25 = '{0:03d}'.format(35)\n",
    "\n",
    "# positional number : '%0[number of zero].[positional number]f' % number / '{index:0[number of zero].[positional number]f'}.format(number)\n",
    "fs26 = '%08.2f' % 3.6\n",
    "\n",
    "fs27 = '{0:08.2f}'.format(150.37)\n",
    "\n",
    "fs24, fs25, fs26, fs27"
   ]
  },
  {
   "cell_type": "code",
   "execution_count": 242,
   "id": "4aa9a3c0",
   "metadata": {},
   "outputs": [
    {
     "data": {
      "text/plain": [
       "'Hello, Python 3.6'"
      ]
     },
     "execution_count": 242,
     "metadata": {},
     "output_type": "execute_result"
    }
   ],
   "source": [
    "language = 'Python'\n",
    "version = 3.6\n",
    "f'Hello, {language} {version}'"
   ]
  },
  {
   "cell_type": "markdown",
   "id": "604a5a8d",
   "metadata": {},
   "source": [
    "## 채우기와 정렬 조합"
   ]
  },
  {
   "cell_type": "code",
   "execution_count": 246,
   "id": "a94a28e5",
   "metadata": {},
   "outputs": [
    {
     "data": {
      "text/plain": [
       "'1500000000'"
      ]
     },
     "execution_count": 246,
     "metadata": {},
     "output_type": "execute_result"
    }
   ],
   "source": [
    "# width is 10, left-aligned within the available space, and fill in empty space with '0'\n",
    "'{0:0<10}'.format(15)"
   ]
  },
  {
   "cell_type": "code",
   "execution_count": 247,
   "id": "ff536005",
   "metadata": {},
   "outputs": [
    {
     "data": {
      "text/plain": [
       "'0000000015'"
      ]
     },
     "execution_count": 247,
     "metadata": {},
     "output_type": "execute_result"
    }
   ],
   "source": [
    "# width is 10, right-aligned within the available space, and fill in empty space with '0'\n",
    "'{0:0>10}'.format(15)"
   ]
  },
  {
   "cell_type": "code",
   "execution_count": 248,
   "id": "1a93b565",
   "metadata": {},
   "outputs": [
    {
     "data": {
      "text/plain": [
       "'0000015.00'"
      ]
     },
     "execution_count": 248,
     "metadata": {},
     "output_type": "execute_result"
    }
   ],
   "source": [
    "# width is 10, right-aligned within the available space, and fill in empty space with '0' & Two decimal places\n",
    "'{0:0>10.2f}'.format(15)"
   ]
  },
  {
   "cell_type": "code",
   "execution_count": 249,
   "id": "c721f68a",
   "metadata": {},
   "outputs": [
    {
     "data": {
      "text/plain": [
       "'        15'"
      ]
     },
     "execution_count": 249,
     "metadata": {},
     "output_type": "execute_result"
    }
   ],
   "source": [
    "# fill in empty space with empty space\n",
    "'{0: >10}'.format(15)\n",
    "#or '{0:>10}'.format(15)"
   ]
  },
  {
   "cell_type": "code",
   "execution_count": 250,
   "id": "475369dc",
   "metadata": {},
   "outputs": [
    {
     "data": {
      "text/plain": [
       "'xxxxxxxxxxxxx15'"
      ]
     },
     "execution_count": 250,
     "metadata": {},
     "output_type": "execute_result"
    }
   ],
   "source": [
    "# fill in empty space with 'x'\n",
    "'{0:x>15}'.format(15)"
   ]
  },
  {
   "cell_type": "code",
   "execution_count": 30,
   "id": "e6c18e61",
   "metadata": {},
   "outputs": [
    {
     "data": {
      "text/plain": [
       "'           centered           '"
      ]
     },
     "execution_count": 30,
     "metadata": {},
     "output_type": "execute_result"
    }
   ],
   "source": [
    "'{:^30}'.format('centered')"
   ]
  },
  {
   "cell_type": "code",
   "execution_count": 31,
   "id": "6d354471",
   "metadata": {
    "scrolled": true
   },
   "outputs": [
    {
     "data": {
      "text/plain": [
       "'***********centered***********'"
      ]
     },
     "execution_count": 31,
     "metadata": {},
     "output_type": "execute_result"
    }
   ],
   "source": [
    "'{:*^30}'.format('centered')"
   ]
  },
  {
   "cell_type": "code",
   "execution_count": 33,
   "id": "50ae4a3f",
   "metadata": {},
   "outputs": [
    {
     "name": "stdout",
     "output_type": "stream",
     "text": [
      "left<<<<<<<<<<<<\n",
      "^^^^^center^^^^^\n",
      ">>>>>>>>>>>right\n"
     ]
    }
   ],
   "source": [
    "for align, text in zip('<^>', ['left', 'center', 'right']):\n",
    "    print('{0:{fill}{align}16}'.format(text, fill=align, align=align))"
   ]
  },
  {
   "cell_type": "code",
   "execution_count": 34,
   "id": "ea15b6f6",
   "metadata": {
    "scrolled": true
   },
   "outputs": [
    {
     "data": {
      "text/plain": [
       "'James likes ice cream'"
      ]
     },
     "execution_count": 34,
     "metadata": {},
     "output_type": "execute_result"
    }
   ],
   "source": [
    "from string import Template\n",
    "\n",
    "s = Template('$who likes $what')\n",
    "s.substitute(who='James', what='ice cream')"
   ]
  },
  {
   "cell_type": "code",
   "execution_count": 45,
   "id": "62857d86",
   "metadata": {},
   "outputs": [
    {
     "data": {
      "text/plain": [
       "'Hey Jason, please send Mike an email'"
      ]
     },
     "execution_count": 45,
     "metadata": {},
     "output_type": "execute_result"
    }
   ],
   "source": [
    "d = dict(who='Jason', whom='Mike')\n",
    "Template('Hey $who, please send $whom an email').substitute(d)"
   ]
  },
  {
   "cell_type": "markdown",
   "id": "e2a7f3e9",
   "metadata": {},
   "source": [
    "## Comma as a thousands separator"
   ]
  },
  {
   "cell_type": "code",
   "execution_count": 251,
   "id": "d7e92bdd",
   "metadata": {},
   "outputs": [
    {
     "data": {
      "text/plain": [
       "'1,493,500'"
      ]
     },
     "execution_count": 251,
     "metadata": {},
     "output_type": "execute_result"
    }
   ],
   "source": [
    "# format(number, ',')\n",
    "format(1493500, ',')"
   ]
  },
  {
   "cell_type": "code",
   "execution_count": 253,
   "id": "beaaadbf",
   "metadata": {},
   "outputs": [
    {
     "data": {
      "text/plain": [
       "'1,493,500'"
      ]
     },
     "execution_count": 253,
     "metadata": {},
     "output_type": "execute_result"
    }
   ],
   "source": [
    "'{0:,}'.format(1493500)"
   ]
  },
  {
   "cell_type": "code",
   "execution_count": 252,
   "id": "503e86ca",
   "metadata": {},
   "outputs": [
    {
     "data": {
      "text/plain": [
       "'           1,493,500'"
      ]
     },
     "execution_count": 252,
     "metadata": {},
     "output_type": "execute_result"
    }
   ],
   "source": [
    "# width is 20, right-algned\n",
    "'%20s' % format(1493500, ',')"
   ]
  },
  {
   "cell_type": "code",
   "execution_count": 254,
   "id": "9bfe95fc",
   "metadata": {},
   "outputs": [
    {
     "data": {
      "text/plain": [
       "'           1,493,500'"
      ]
     },
     "execution_count": 254,
     "metadata": {},
     "output_type": "execute_result"
    }
   ],
   "source": [
    "'{0:>20,}'.format(1493500)"
   ]
  },
  {
   "cell_type": "code",
   "execution_count": 255,
   "id": "bbfb0ec4",
   "metadata": {},
   "outputs": [
    {
     "data": {
      "text/plain": [
       "'000000000001,493,500'"
      ]
     },
     "execution_count": 255,
     "metadata": {},
     "output_type": "execute_result"
    }
   ],
   "source": [
    "# width is 20, right-aligned within the available space, and fill in empty space with '0'\n",
    "'{0:0>20,}'.format(1493500)"
   ]
  },
  {
   "cell_type": "markdown",
   "id": "b87063d3",
   "metadata": {},
   "source": [
    "## 24.4 Exercise: Get only the file name from the file path\n",
    "\n",
    "소스 코드를 완성하여 파일 경로에서 파일명만 출력되게 만드세요. 단, 경로에서 폴더의 깊이가 달라지더라도 파일명만 출력할 수 있어야 합니다."
   ]
  },
  {
   "cell_type": "code",
   "execution_count": 256,
   "id": "3b458b0a",
   "metadata": {},
   "outputs": [
    {
     "name": "stdout",
     "output_type": "stream",
     "text": [
      "python.exe\n"
     ]
    }
   ],
   "source": [
    "path = 'C:\\\\Users\\\\dojang\\\\AppData\\\\Local\\\\Programs\\\\Python\\\\Python36-32\\\\python.exe'\n",
    "\n",
    "x = path.split('\\\\')\n",
    "filename = x[-1]\n",
    "print(filename)"
   ]
  },
  {
   "cell_type": "code",
   "execution_count": 257,
   "id": "9e86bfd2",
   "metadata": {},
   "outputs": [
    {
     "name": "stdout",
     "output_type": "stream",
     "text": [
      "python.exe\n"
     ]
    }
   ],
   "source": [
    "y = path.split('\\\\')\n",
    "y.reverse()\n",
    "filename = y[0]\n",
    "print(filename)"
   ]
  },
  {
   "cell_type": "code",
   "execution_count": 258,
   "id": "4eb4913b",
   "metadata": {},
   "outputs": [
    {
     "name": "stdout",
     "output_type": "stream",
     "text": [
      "python.exe\n"
     ]
    }
   ],
   "source": [
    "filename = path[path.rfind('\\\\') + 1:]\n",
    "print(filename)"
   ]
  },
  {
   "cell_type": "markdown",
   "id": "17e2dc20",
   "metadata": {},
   "source": [
    "## 24.5 Problem: Count a specific word\n",
    "\n",
    "Create a program that prints the number of 'the' from the entered string. You only need to find 'the' where all characters are lowercase and not include 'them', 'there', 'their', etc.\n",
    "\n",
    "표준 입력으로 문자열이 입력됩니다. 입력된 문자열에서 '`the`'의 개수를 출력하는 프로그램을 만드세요(`input`에서 안내 문자열은 출력하지 않아야 합니다). 단, 모든 문자가 소문자인 '`the`'만 찾으면 되며 '`them`', '`there`', '`their`' 등은 포함하지 않아야 합니다."
   ]
  },
  {
   "cell_type": "code",
   "execution_count": 269,
   "id": "8210f5df",
   "metadata": {},
   "outputs": [
    {
     "name": "stdout",
     "output_type": "stream",
     "text": [
      "the grown-ups' response, this time, was to advise me to lay aside my drawings of boa constrictors, whether from the inside or the outside, and devote myself instead to geography, history, arithmetic, and grammar. That is why, at the, age of six, I gave up what might have been a magnificent career as a painter. I had been disheartened by the failure of my Drawing Number One and my Drawing Number Two. Grown-ups never understand anything by themselves, and it is tiresome for children to be always and forever explaining things to the.\n",
      "6\n"
     ]
    }
   ],
   "source": [
    "import string\n",
    "words = input().split()\n",
    "count = 0\n",
    "for word in words:\n",
    "    if word.strip(string.punctuation).strip() == 'the':\n",
    "        count += 1\n",
    "print(count)"
   ]
  },
  {
   "cell_type": "code",
   "execution_count": 270,
   "id": "956ab65e",
   "metadata": {},
   "outputs": [
    {
     "name": "stdout",
     "output_type": "stream",
     "text": [
      "the grown-ups' response, this time, was to advise me to lay aside my drawings of boa constrictors, whether from the inside or the outside, and devote myself instead to geography, history, arithmetic, and grammar. That is why, at the, age of six, I gave up what might have been a magnificent career as a painter. I had been disheartened by the failure of my Drawing Number One and my Drawing Number Two. Grown-ups never understand anything by themselves, and it is tiresome for children to be always and forever explaining things to the.\n",
      "6\n"
     ]
    }
   ],
   "source": [
    "import string\n",
    "words = input().split()\n",
    "new_word_list = []\n",
    "for word in words:\n",
    "    new_word = word.strip(string.punctuation).strip()\n",
    "    new_word_list.append(new_word)\n",
    "print(new_word_list.count('the'))"
   ]
  },
  {
   "cell_type": "code",
   "execution_count": 271,
   "id": "fd4750d7",
   "metadata": {},
   "outputs": [
    {
     "name": "stdout",
     "output_type": "stream",
     "text": [
      "the grown-ups' response, this time, was to advise me to lay aside my drawings of boa constrictors, whether from the inside or the outside, and devote myself instead to geography, history, arithmetic, and grammar. That is why, at the, age of six, I gave up what might have been a magnificent career as a painter. I had been disheartened by the failure of my Drawing Number One and my Drawing Number Two. Grown-ups never understand anything by themselves, and it is tiresome for children to be always and forever explaining things to the.\n",
      "6\n"
     ]
    }
   ],
   "source": [
    "words = input().split()\n",
    "count = 0\n",
    "for word in words:\n",
    "    if word.strip(',.') == 'the':\n",
    "        count += 1\n",
    "print(count)"
   ]
  },
  {
   "cell_type": "markdown",
   "id": "946b37a2",
   "metadata": {},
   "source": [
    "## 24.6 Problem: Print prices in order of high price\n",
    "\n",
    "Create a program that prints the entered price in order of high price. Make the price 9 in length, align it to the right, and put a comma in thousand units.\n",
    "\n",
    "표준 입력으로 물품 가격 여러 개가 문자열 한 줄로 입력되고, 각 가격은 `;`(세미콜론)으로 구분되어 있습니다. 입력된 가격을 높은 가격순으로 출력하는 프로그램을 만드세요(`input`에서 안내 문자열은 출력하지 않아야 합니다). 이때 가격은 길이를 9로 만든 뒤 오른쪽으로 정렬하고 천단위로 `,`(콤마)를 넣으세요."
   ]
  },
  {
   "cell_type": "code",
   "execution_count": 279,
   "id": "99ecb4d9",
   "metadata": {},
   "outputs": [
    {
     "name": "stdout",
     "output_type": "stream",
     "text": [
      "51900;83000;158000;367500;250000;59200;128500;1304000\n",
      "1,304,000\n",
      "  367,500\n",
      "  250,000\n",
      "  158,000\n",
      "  128,500\n",
      "   83,000\n",
      "   59,200\n",
      "   51,900\n"
     ]
    }
   ],
   "source": [
    "prices = list(map(int, input().split(';')))\n",
    "prices.sort(reverse=True)\n",
    "for price in prices:\n",
    "    print('{0:>9,}'.format(price))\n",
    "#    print('%9s' % format(p, ','))"
   ]
  },
  {
   "cell_type": "markdown",
   "id": "0fd215d7",
   "metadata": {},
   "source": [
    "## Summary\n",
    "\n",
    "Method | Descriptioin\n",
    ":---|:---\n",
    "`s.append(x)` | Appends `x` to the end of the sequence (same as `s[len(s):len(s)] = [x]`)\n",
    "`s.append(list)` | Appends list to the end of the sequence\n",
    "`s.extend([x, y])` | Extends `s` with the contents of (same as `[x, y]`, `s[len(s)] = [x, y]`)\n",
    "`s.insert(index, x)` | Inserts `x` into `s` at the index given by `index`\n",
    "`s.pop()` | Retrieves the last item and also removes it from `s`\n",
    "`s.pop(index)` | Retrieves the item at `i` and also removes it from `s` (same as `del s[index]`)\n",
    "`s.remove(x)` | Remove the first item from `s` where `s[i] == x`\n",
    "`s.index(x)` | Index of the first occurrence of `x` in `s `\n",
    "`s.count(x)` | Total number of occurrences of `x` in `s`\n",
    "`s.reverse()` | reverses the items of `s` in place\n",
    "`s.sort()`| Sorts the list by ascending order\n",
    "`s.sort(reverse=True)` | Sorts the list by descending order\n",
    "`s.clear()` | Removes all items from `s` (same as `del s[:]`)\n",
    "`s.copy()` | Creates a shallow copy of `s` (same as `s[:]`)\n",
    "\n",
    "### String Methods\n",
    "\n",
    "Method | Description\n",
    ":---|:---\n",
    "`replace('old', 'new')` | Returns a string where all occurrences of 'old' have been replaced by 'new'\n",
    "`translate(table)` | Returns a string where some specified characters are replaced with the character described in a dictionary, or in a mapping table, use `str.maketrans('string', 'new string')`\n",
    "`split()` | Splits a string into a list\n",
    "`split('separator')` | Specifies the separator to use when splitting the string\n",
    "`join(list)` | Opposite of split(), joins the elements in the given list together using the string as the delimiter\n",
    "`upper()`, `lower()` | `upper`- returns the uppercase of the string, `lower` - returns the lowercase of the stirng\n",
    "`lstrip()`, `rstrip()`, `strip()`, `lstrip('characters')`, `rstrip('characters')`, `strip('characters')` | `lstrip` - returns a left trim version of the string, `rstrip` - returns a right trim version of the string, `strip` - Returns a trimmed version of the string\n",
    "`ljust(length)`, `rjust(length)`, `center(length)` | Using a specified character (space is default) as the fill character, the method will left(`ljust`), right(`rjust`), or center(`center`) align the strin\n",
    "`zfill(width)` | Return a copy of the string left filled with ASCII '`0`' digits to make a string of length `width`\n",
    "`find('value')`, `rfind('value')` | `find` - finds the first occurrence of the specified value, `rfind` - finds the last occurrence of the specified value, returns -1 if the value is not found\n",
    "`index('value')`, `rindex('value')` | `index` - finds the first occurrence of the specified value, `rindex` - finds the last occurrence of the specified value, raises an exception if the value is not found\n",
    "`count('value')` | returns the number of times a specified value appears in the string\n",
    "\n",
    "### Conversion Types\n",
    "\n",
    "Type | Description\n",
    ":---|:---\n",
    "`s` | String (converts any Python object using `str()`)\n",
    "`c` | Single character (accepts integer or single character string)\n",
    "`d` | Signed integer decimal\n",
    "`o` | Signed octal value (`'%o' % 8` = '`10`')\n",
    "`x` | Signed hexadecimal (lowercase) (0-9, a-f / `'%x' % 254` = '`fe`')\n",
    "`X` | Signed hexadecimal (uppercase) (0-9, A-F / `'%X' % 254` = '`FE`'\n",
    "`e` | Floating point exponential format (lowercase) (`'%e' % 2.3` = '`2.300000e+00`')\n",
    "`E` | Floating point exponential format (uppercase) (`'%E' % 2.3` = '`2.300000E+00`'\n",
    "`f` | \tFloating point decimal format\n",
    "`F` | \tFloating point decimal format, ( Same as `f`, `nan` = `NAN`, `inf` = `INF` / `nan` - non-numeric, `inf` - infinity)\n",
    "`g` | \tFloating point format (`'%g' % 2.3e-10` = '`2.3e-10`')\n",
    "`G` | \tFloating point format (`'%G' % 2.3e-10` = '`2.3E-10`')\n",
    "`%` | No argument is converted, results in a '`%`' character in the result"
   ]
  },
  {
   "cell_type": "markdown",
   "id": "2e426279",
   "metadata": {},
   "source": []
  },
  {
   "cell_type": "code",
   "execution_count": null,
   "id": "af4420c4",
   "metadata": {},
   "outputs": [],
   "source": []
  }
 ],
 "metadata": {
  "kernelspec": {
   "display_name": "Python 3",
   "language": "python",
   "name": "python3"
  },
  "language_info": {
   "codemirror_mode": {
    "name": "ipython",
    "version": 3
   },
   "file_extension": ".py",
   "mimetype": "text/x-python",
   "name": "python",
   "nbconvert_exporter": "python",
   "pygments_lexer": "ipython3",
   "version": "3.9.2"
  }
 },
 "nbformat": 4,
 "nbformat_minor": 5
}

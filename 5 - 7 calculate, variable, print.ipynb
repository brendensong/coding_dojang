{
 "cells": [
  {
   "cell_type": "markdown",
   "id": "b6dad6fb",
   "metadata": {},
   "source": [
    "변수 삭제"
   ]
  },
  {
   "cell_type": "code",
   "execution_count": 1,
   "id": "e4df8e64",
   "metadata": {
    "scrolled": true
   },
   "outputs": [
    {
     "ename": "NameError",
     "evalue": "name 'x' is not defined",
     "output_type": "error",
     "traceback": [
      "\u001b[1;31m---------------------------------------------------------------------------\u001b[0m",
      "\u001b[1;31mNameError\u001b[0m                                 Traceback (most recent call last)",
      "\u001b[1;32m<ipython-input-1-3dde88e24a37>\u001b[0m in \u001b[0;36m<module>\u001b[1;34m\u001b[0m\n\u001b[0;32m      1\u001b[0m \u001b[0mx\u001b[0m \u001b[1;33m=\u001b[0m \u001b[1;36m10\u001b[0m\u001b[1;33m\u001b[0m\u001b[1;33m\u001b[0m\u001b[0m\n\u001b[0;32m      2\u001b[0m \u001b[1;32mdel\u001b[0m \u001b[0mx\u001b[0m\u001b[1;33m\u001b[0m\u001b[1;33m\u001b[0m\u001b[0m\n\u001b[1;32m----> 3\u001b[1;33m \u001b[0mx\u001b[0m\u001b[1;33m\u001b[0m\u001b[1;33m\u001b[0m\u001b[0m\n\u001b[0m",
      "\u001b[1;31mNameError\u001b[0m: name 'x' is not defined"
     ]
    }
   ],
   "source": [
    "x = 10\n",
    "del x\n",
    "x"
   ]
  },
  {
   "cell_type": "markdown",
   "id": "e6ed5e48",
   "metadata": {},
   "source": [
    "변수 여러 개 만들기"
   ]
  },
  {
   "cell_type": "code",
   "execution_count": 5,
   "id": "0ef84836",
   "metadata": {},
   "outputs": [
    {
     "name": "stdout",
     "output_type": "stream",
     "text": [
      "10 20 30 10 10 10\n"
     ]
    }
   ],
   "source": [
    "a,b,c = 10, 20, 30\n",
    "\n",
    "x = y = z = 10\n",
    "\n",
    "print(a,b,c,x,y,z)"
   ]
  },
  {
   "cell_type": "markdown",
   "id": "26196b4d",
   "metadata": {},
   "source": [
    "입력 값 저장"
   ]
  },
  {
   "cell_type": "code",
   "execution_count": 6,
   "id": "c73bcf03",
   "metadata": {},
   "outputs": [
    {
     "name": "stdout",
     "output_type": "stream",
     "text": [
      "Test\n",
      "3\n",
      "2.345\n",
      "Test 3 2.345\n"
     ]
    }
   ],
   "source": [
    "s = input()\n",
    "a = int(input())\n",
    "b = float(input())\n",
    "\n",
    "print(s, a, b)"
   ]
  },
  {
   "cell_type": "markdown",
   "id": "c6790e95",
   "metadata": {},
   "source": [
    "한 번에 여러 개 입력 및 저장"
   ]
  },
  {
   "cell_type": "code",
   "execution_count": 8,
   "id": "290db2cc",
   "metadata": {},
   "outputs": [
    {
     "name": "stdout",
     "output_type": "stream",
     "text": [
      "aa bb\n",
      "11 22\n",
      "1.1 2.22\n",
      "aa bb 11 22 1.1 2.22\n"
     ]
    }
   ],
   "source": [
    "# 값 두 개를 입력받아 변수 두 개에 문자열로 저장\n",
    "a, b = input().split()      \n",
    "# 값 두 개를 입력받아 변수 두 개에 정수로 저장\n",
    "c, d = map(int, input().split())    \n",
    "# 값 두 개를 입력받아 변수 두 개에 실수로 저장\n",
    "e, f = map(float, input().split())\n",
    "\n",
    "print(a, b, c, d, e, f)"
   ]
  },
  {
   "cell_type": "markdown",
   "id": "d91065f8",
   "metadata": {},
   "source": [
    "`print` 함수 출력 방식 제어"
   ]
  },
  {
   "cell_type": "code",
   "execution_count": 9,
   "id": "45f8c121",
   "metadata": {},
   "outputs": [
    {
     "name": "stdout",
     "output_type": "stream",
     "text": [
      "1, 2, 3\n"
     ]
    }
   ],
   "source": [
    "# 값 사이에 ,와 공백 출력\n",
    "print(1, 2, 3, sep=', ')"
   ]
  },
  {
   "cell_type": "code",
   "execution_count": 10,
   "id": "ee4aa204",
   "metadata": {},
   "outputs": [
    {
     "name": "stdout",
     "output_type": "stream",
     "text": [
      "1 2\n"
     ]
    }
   ],
   "source": [
    "# print 함수의 end에 문자(문자열)를 지정하면\n",
    "# 출력하는 값 끝에 해당 문자(문자열)을 넣음\n",
    "print(1, end=' ')    \n",
    "print(2)"
   ]
  },
  {
   "cell_type": "code",
   "execution_count": 11,
   "id": "0bc531f7",
   "metadata": {},
   "outputs": [
    {
     "name": "stdout",
     "output_type": "stream",
     "text": [
      "1\n",
      "2\n",
      "3\n"
     ]
    }
   ],
   "source": [
    "# 문자열에서 제어 문자 \\n을 사용하면 다음 줄로 넘어감\n",
    "print('1\\n2\\n3')"
   ]
  },
  {
   "cell_type": "markdown",
   "id": "ad8474fe",
   "metadata": {},
   "source": [
    "etc."
   ]
  },
  {
   "cell_type": "code",
   "execution_count": 12,
   "id": "277b0b47",
   "metadata": {},
   "outputs": [
    {
     "name": "stdout",
     "output_type": "stream",
     "text": [
      "(3+2j) (3, 1) 25\n"
     ]
    }
   ],
   "source": [
    "a = complex(3, 2)\n",
    "b = divmod(7, 2)\n",
    "c = pow(5, 2)\n",
    "\n",
    "print(a, b, c)"
   ]
  },
  {
   "cell_type": "markdown",
   "id": "d1441dc6",
   "metadata": {},
   "source": [
    "파이선 연산자"
   ]
  },
  {
   "cell_type": "markdown",
   "id": "2a454561",
   "metadata": {},
   "source": [
    "연산자 | 기능 | 문법 | 설명\n",
    ":---|:---|:---|:---\n",
    "// | 버림 나눗셈(floor division) | a//b | 5//2 -> 2 소수점 이하 버림\n",
    "** | 거듭제곱 | a**b | 2**3 -> 8\n",
    "@ | 행렬곱셈 | a@b | 행렬 a와 b를 곱함"
   ]
  },
  {
   "cell_type": "markdown",
   "id": "39449204",
   "metadata": {},
   "source": [
    "### 7.4 연습문제 : 날짜와 시간 출력하기\n",
    "\n",
    "날짜와 시간이 결과와 같게 출력되게 만드세요.\n",
    "\n",
    "실행결과\n",
    "\n",
    "`2000/10/27 11:43:59`"
   ]
  },
  {
   "cell_type": "code",
   "execution_count": 14,
   "id": "d077f5b3",
   "metadata": {},
   "outputs": [
    {
     "name": "stdout",
     "output_type": "stream",
     "text": [
      "2000/10/27 11:43:59\n"
     ]
    }
   ],
   "source": [
    "year = 2000\n",
    "month = 10\n",
    "day = 27\n",
    "hour = 11\n",
    "minute = 43\n",
    "second = 59\n",
    " \n",
    "print(year, month, day, sep='/', end=' ')\n",
    "print(hour, minute, second, sep=':')"
   ]
  },
  {
   "cell_type": "markdown",
   "id": "61eb8264",
   "metadata": {},
   "source": [
    "### 7.5 심사문제\n",
    "표준 입력으로 년, 월, 일, 시, 분, 초가 입력됩니다. \n",
    "소스 코드를 완성하여 입력된 날짜와 시간을 년-월-일T시:분:초 형식으로 출력되게 만드세요.\n",
    "\n",
    "예\n",
    "\n",
    "입력\n",
    "`1999 12 31 10 37 21`\n",
    "\n",
    "결과\n",
    "`1999-12-31T10:37:21`\n",
    "\n",
    "입력\n",
    "`2017 10 27 11 43 59`\n",
    "\n",
    "결과\n",
    "`2017-10-27T11:43:59`"
   ]
  },
  {
   "cell_type": "code",
   "execution_count": 15,
   "id": "be05a6b0",
   "metadata": {},
   "outputs": [
    {
     "name": "stdout",
     "output_type": "stream",
     "text": [
      "1999 12 31 10 37 21\n",
      "1999-12-31T10:37:21\n"
     ]
    }
   ],
   "source": [
    "year, month, day, hour, minute, second = input().split()\n",
    "\n",
    "print(year, month, day, sep='-', end='T')\n",
    "print(hour, minute, second, sep=':')"
   ]
  },
  {
   "cell_type": "code",
   "execution_count": null,
   "id": "8546010c",
   "metadata": {},
   "outputs": [],
   "source": []
  }
 ],
 "metadata": {
  "kernelspec": {
   "display_name": "Python 3",
   "language": "python",
   "name": "python3"
  },
  "language_info": {
   "codemirror_mode": {
    "name": "ipython",
    "version": 3
   },
   "file_extension": ".py",
   "mimetype": "text/x-python",
   "name": "python",
   "nbconvert_exporter": "python",
   "pygments_lexer": "ipython3",
   "version": "3.9.2"
  }
 },
 "nbformat": 4,
 "nbformat_minor": 5
}

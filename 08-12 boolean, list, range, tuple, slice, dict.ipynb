{
 "cells": [
  {
   "cell_type": "markdown",
   "id": "1cc882e4",
   "metadata": {},
   "source": [
    "여러 줄로 된 문자열"
   ]
  },
  {
   "cell_type": "code",
   "execution_count": 25,
   "id": "d7c78a98",
   "metadata": {},
   "outputs": [
    {
     "name": "stdout",
     "output_type": "stream",
     "text": [
      "Hello, world!\n",
      "This is\n",
      "Python.\n",
      "Hello, world!\n",
      "This is\n",
      "Python.\n"
     ]
    }
   ],
   "source": [
    "s1 = '''Hello, world!\n",
    "This is\n",
    "Python.'''\n",
    " \n",
    "s2= \"\"\"Hello, world!\n",
    "This is\n",
    "Python.\"\"\"\n",
    "\n",
    "print(s1, s2, sep='\\n')"
   ]
  },
  {
   "cell_type": "markdown",
   "id": "35008b7c",
   "metadata": {},
   "source": [
    "## `list`"
   ]
  },
  {
   "cell_type": "code",
   "execution_count": null,
   "id": "4d9e2593",
   "metadata": {},
   "outputs": [],
   "source": [
    "# 리스트 만들기\n",
    "new_list = [val1, val2, val3]        \n",
    "\n",
    "# 빈 리스트 만들기\n",
    "new_list= []                         \n",
    "new_list= list()"
   ]
  },
  {
   "cell_type": "code",
   "execution_count": 5,
   "id": "bb3d8e4f",
   "metadata": {},
   "outputs": [
    {
     "name": "stdout",
     "output_type": "stream",
     "text": [
      "[0, 1, 2, 3, 4]\n"
     ]
    }
   ],
   "source": [
    "# range로 리스트 만들기\n",
    "new_list = list(range(5))\n",
    "print(new_list)"
   ]
  },
  {
   "cell_type": "code",
   "execution_count": 6,
   "id": "184c9d25",
   "metadata": {},
   "outputs": [
    {
     "name": "stdout",
     "output_type": "stream",
     "text": [
      "0, 5\n"
     ]
    }
   ],
   "source": [
    "a = new_list[0]\n",
    "new_list[0] = 5\n",
    "print(a, new_list[0], sep=', ')"
   ]
  },
  {
   "cell_type": "markdown",
   "id": "e3a7ed87",
   "metadata": {},
   "source": [
    "## `range()`"
   ]
  },
  {
   "cell_type": "code",
   "execution_count": null,
   "id": "5dc1cb1d",
   "metadata": {},
   "outputs": [],
   "source": [
    "range(times)\n",
    "range(start, stop)\n",
    "range(start, stop, step)"
   ]
  },
  {
   "cell_type": "markdown",
   "id": "415a4b41",
   "metadata": {},
   "source": [
    "## `tuple`"
   ]
  },
  {
   "cell_type": "code",
   "execution_count": null,
   "id": "f0461ce3",
   "metadata": {},
   "outputs": [],
   "source": [
    "new_tupel = (val1, val2, val3)\n",
    "new_tupel = val1, val2, val3\n",
    "new_tupel = ()\n",
    "new_tupel = tuple()\n",
    "new_tupel = tuple(list())\n",
    "new_tupel = tuple(new_list)"
   ]
  },
  {
   "cell_type": "code",
   "execution_count": 8,
   "id": "4a2b8d01",
   "metadata": {},
   "outputs": [
    {
     "name": "stdout",
     "output_type": "stream",
     "text": [
      "(0, 1, 2, 3)\n"
     ]
    }
   ],
   "source": [
    "new_tuple = tuple(range(4))\n",
    "print(new_tuple)"
   ]
  },
  {
   "cell_type": "code",
   "execution_count": 13,
   "id": "8f258b54",
   "metadata": {},
   "outputs": [
    {
     "name": "stdout",
     "output_type": "stream",
     "text": [
      "(1,)\n"
     ]
    }
   ],
   "source": [
    "# 요소가 한 개인 tuple 만들기\n",
    "new_tupel = (val1, )\n",
    "new_tupel = val1,\n",
    "\n",
    "new_tuple = 1,\n",
    "print(new_tuple)"
   ]
  },
  {
   "cell_type": "markdown",
   "id": "80aa2608",
   "metadata": {},
   "source": [
    "## `slice`"
   ]
  },
  {
   "cell_type": "code",
   "execution_count": 14,
   "id": "8f21e1c0",
   "metadata": {},
   "outputs": [
    {
     "data": {
      "text/plain": [
       "[1, 3, 5, 7, 9, 11, 13, 15, 17, 19]"
      ]
     },
     "execution_count": 14,
     "metadata": {},
     "output_type": "execute_result"
    }
   ],
   "source": [
    "a = list(range(1, 20, 2))\n",
    "a"
   ]
  },
  {
   "cell_type": "markdown",
   "id": "87ab57c4",
   "metadata": {},
   "source": [
    "`slice(start, end, step)`\n",
    "\n",
    "`sequence_type[start. end, step]`"
   ]
  },
  {
   "cell_type": "code",
   "execution_count": 15,
   "id": "eac666af",
   "metadata": {},
   "outputs": [
    {
     "data": {
      "text/plain": [
       "[3, 7, 11, 15]"
      ]
     },
     "execution_count": 15,
     "metadata": {},
     "output_type": "execute_result"
    }
   ],
   "source": [
    "a[1:8:2]"
   ]
  },
  {
   "cell_type": "markdown",
   "id": "84992bc9",
   "metadata": {},
   "source": [
    "객체 전체\n",
    "\n",
    "`sequence_type[0:len(sequence_type)]`\n",
    "\n",
    "`sequence_type[:len(sequence_type)]`\n",
    "\n",
    "`sequence_type[:]`\n",
    "\n",
    "`sequence_type[::]`"
   ]
  },
  {
   "cell_type": "markdown",
   "id": "7594ac18",
   "metadata": {},
   "source": [
    "## `dictionaries`\n",
    "\n",
    "`new_dict = {key1:val1, key2:val2}`"
   ]
  },
  {
   "cell_type": "code",
   "execution_count": 16,
   "id": "7abedc5b",
   "metadata": {},
   "outputs": [
    {
     "data": {
      "text/plain": [
       "{'health': 490, 'mana': 334, 'melee': 550, 'armor': 18.72}"
      ]
     },
     "execution_count": 16,
     "metadata": {},
     "output_type": "execute_result"
    }
   ],
   "source": [
    "lux1 = dict(health=490, mana=334, melee=550, armor=18.72)\n",
    "lux1"
   ]
  },
  {
   "cell_type": "code",
   "execution_count": 17,
   "id": "08898dc2",
   "metadata": {},
   "outputs": [
    {
     "data": {
      "text/plain": [
       "{'health': 490, 'mana': 334, 'melee': 550, 'armor': 18.72}"
      ]
     },
     "execution_count": 17,
     "metadata": {},
     "output_type": "execute_result"
    }
   ],
   "source": [
    "lux2 = dict(zip(['health', 'mana', 'melee', 'armor'], [490, 334, 550, 18.72]))    \n",
    "lux2 "
   ]
  },
  {
   "cell_type": "code",
   "execution_count": 18,
   "id": "df184b1b",
   "metadata": {},
   "outputs": [
    {
     "data": {
      "text/plain": [
       "{'health': 490, 'mana': 334, 'melee': 550, 'armor': 18.72}"
      ]
     },
     "execution_count": 18,
     "metadata": {},
     "output_type": "execute_result"
    }
   ],
   "source": [
    "lux3 = dict([('health', 490), ('mana', 334), ('melee', 550), ('armor', 18.72)])\n",
    "lux3 "
   ]
  },
  {
   "cell_type": "code",
   "execution_count": 19,
   "id": "69504914",
   "metadata": {},
   "outputs": [
    {
     "data": {
      "text/plain": [
       "{'health': 490, 'mana': 334, 'melee': 550, 'armor': 18.72}"
      ]
     },
     "execution_count": 19,
     "metadata": {},
     "output_type": "execute_result"
    }
   ],
   "source": [
    "lux4 = dict({'health': 490, 'mana': 334, 'melee': 550, 'armor': 18.72})     \n",
    "lux4 "
   ]
  },
  {
   "cell_type": "code",
   "execution_count": 21,
   "id": "11619b83",
   "metadata": {},
   "outputs": [
    {
     "name": "stdout",
     "output_type": "stream",
     "text": [
      "True\n",
      "False\n",
      "True\n",
      "False\n"
     ]
    }
   ],
   "source": [
    "print('health' in lux4)\n",
    "print('attack_speed' in lux4)\n",
    "print('attack_speed' not in lux4)\n",
    "print('health' not in lux4)"
   ]
  },
  {
   "cell_type": "markdown",
   "id": "178355c7",
   "metadata": {},
   "source": [
    "## 10.4 연습문제: `range` 로 리스트 만들기\n",
    "\n",
    "소스 코드를 완성하여 리스트 `[5, 3, 1, -1, -3, -5, -7, -9]`가 출력되게 만드세요. \n",
    "\n",
    "리스트를 만들 때는 `range`를 사용해야 합니다."
   ]
  },
  {
   "cell_type": "code",
   "execution_count": 27,
   "id": "b69b69c8",
   "metadata": {},
   "outputs": [
    {
     "name": "stdout",
     "output_type": "stream",
     "text": [
      "[5, 3, 1, -1, -3, -5, -7, -9]\n"
     ]
    }
   ],
   "source": [
    "a = list(range(5, -10, -2))\n",
    "print(a)"
   ]
  },
  {
   "cell_type": "markdown",
   "id": "d75be237",
   "metadata": {},
   "source": [
    "## 10.5 심사문제: `range`로 리스트 만들기\n",
    "\n",
    "표준 입력으로 정수가 입력됩니다. `range`의 시작하는 숫자는 -10, 끝나는 숫자는 10이며 입력된 정수만큼 증가하는 숫자가 들어가도록 튜플을 만들고, 해당 튜플을 출력하는 프로그램을 만드세요(`input`에서 안내 문자열은 출력하지 않아야 합니다).\n",
    "\n",
    "예\n",
    "\n",
    "입력\n",
    "`2`\n",
    "\n",
    "결과\n",
    "`(-10, -8, -6, -4, -2, 0, 2, 4, 6, 8)`\n",
    "\n",
    "입력\n",
    "`3`\n",
    "\n",
    "결과\n",
    "`(-10, -7, -4, -1, 2, 5, 8)`"
   ]
  },
  {
   "cell_type": "code",
   "execution_count": 28,
   "id": "64536af9",
   "metadata": {},
   "outputs": [
    {
     "name": "stdout",
     "output_type": "stream",
     "text": [
      "2\n",
      "(-10, -8, -6, -4, -2, 0, 2, 4, 6, 8)\n"
     ]
    }
   ],
   "source": [
    "a = int(input())\n",
    "b = tuple(range(-10, 10, a))\n",
    "print(b)"
   ]
  },
  {
   "cell_type": "markdown",
   "id": "7e54365b",
   "metadata": {},
   "source": [
    "시퀀스 객체 연결하기 & 반복하기"
   ]
  },
  {
   "cell_type": "code",
   "execution_count": 31,
   "id": "466be6dc",
   "metadata": {},
   "outputs": [
    {
     "name": "stdout",
     "output_type": "stream",
     "text": [
      "[0, 1, 2, 3, 4, 10, 11, 12, 13, 14]\n",
      "[0, 2, 4, 0, 2, 4, 0, 2, 4]\n"
     ]
    }
   ],
   "source": [
    "a = list(range(0, 5)) + list(range(10,15))\n",
    "print(a)\n",
    "\n",
    "b = list(range(0,5,2)) * 3\n",
    "print(b)"
   ]
  },
  {
   "cell_type": "markdown",
   "id": "13bcb015",
   "metadata": {},
   "source": [
    "## `slice`"
   ]
  },
  {
   "cell_type": "code",
   "execution_count": 33,
   "id": "28c0fe96",
   "metadata": {},
   "outputs": [
    {
     "data": {
      "text/plain": [
       "[0, 10, 20, 30]"
      ]
     },
     "execution_count": 33,
     "metadata": {},
     "output_type": "execute_result"
    }
   ],
   "source": [
    "a = [0, 10, 20, 30, 40, 50, 60, 70, 80, 90]\n",
    "a = a[0:4]\n",
    "a"
   ]
  },
  {
   "cell_type": "code",
   "execution_count": 35,
   "id": "7b38f1c8",
   "metadata": {},
   "outputs": [
    {
     "data": {
      "text/plain": [
       "[40, 50, 60, 70, 80]"
      ]
     },
     "execution_count": 35,
     "metadata": {},
     "output_type": "execute_result"
    }
   ],
   "source": [
    "b = [0, 10, 20, 30, 40, 50, 60, 70, 80, 90]\n",
    "b = b[4:-1]\n",
    "b"
   ]
  },
  {
   "cell_type": "code",
   "execution_count": 38,
   "id": "564021fe",
   "metadata": {},
   "outputs": [
    {
     "data": {
      "text/plain": [
       "[20, 50]"
      ]
     },
     "execution_count": 38,
     "metadata": {},
     "output_type": "execute_result"
    }
   ],
   "source": [
    "c = [0, 10, 20, 30, 40, 50, 60, 70, 80, 90]\n",
    "c = c[2:8:3]\n",
    "c"
   ]
  },
  {
   "cell_type": "code",
   "execution_count": 39,
   "id": "3531d8f2",
   "metadata": {},
   "outputs": [
    {
     "data": {
      "text/plain": [
       "[60, 50, 40, 30, 20]"
      ]
     },
     "execution_count": 39,
     "metadata": {},
     "output_type": "execute_result"
    }
   ],
   "source": [
    "d = [0, 10, 20, 30, 40, 50, 60, 70, 80, 90]\n",
    "d = d[6:1:-1]\n",
    "d"
   ]
  },
  {
   "cell_type": "code",
   "execution_count": 41,
   "id": "87e34b2b",
   "metadata": {},
   "outputs": [
    {
     "name": "stdout",
     "output_type": "stream",
     "text": [
      "llo, wo\n",
      "llo, world!\n",
      "Hlo o\n"
     ]
    }
   ],
   "source": [
    "e = 'Hello, world!'\n",
    "print(e[2:9])\n",
    "print(e[2:])\n",
    "print(e[:9:2])"
   ]
  },
  {
   "cell_type": "code",
   "execution_count": 45,
   "id": "95898f4f",
   "metadata": {},
   "outputs": [
    {
     "name": "stdout",
     "output_type": "stream",
     "text": [
      "[0, 10, 'a', 'b', 'c', 50, 60, 70, 80, 90]\n",
      "[0, 10, 'a', 50, 60, 70, 80, 90]\n",
      "[0, 10, 'a', 'b', 'c', 'd', 'e', 50, 60, 70, 80, 90]\n",
      "[0, 10, 'a', 30, 'b', 50, 'c', 70, 80, 90]\n"
     ]
    }
   ],
   "source": [
    "f = [0, 10, 20, 30, 40, 50, 60, 70, 80, 90]\n",
    "f[2:5] = ['a', 'b', 'c']\n",
    "print(f)\n",
    "\n",
    "g = [0, 10, 20, 30, 40, 50, 60, 70, 80, 90]\n",
    "g[2:5] = ['a']\n",
    "print(g)\n",
    "\n",
    "h = [0, 10, 20, 30, 40, 50, 60, 70, 80, 90]\n",
    "h[2:5] = ['a', 'b', 'c', 'd', 'e']\n",
    "print(h)\n",
    "\n",
    "i = [0, 10, 20, 30, 40, 50, 60, 70, 80, 90]\n",
    "i[2:8:2] = ['a', 'b', 'c']\n",
    "print(i)"
   ]
  },
  {
   "cell_type": "code",
   "execution_count": 47,
   "id": "586ce73a",
   "metadata": {},
   "outputs": [
    {
     "name": "stdout",
     "output_type": "stream",
     "text": [
      "[0, 10, 50, 60, 70, 80, 90]\n",
      "[0, 10, 30, 50, 70, 80, 90]\n"
     ]
    }
   ],
   "source": [
    "j = [0, 10, 20, 30, 40, 50, 60, 70, 80, 90]\n",
    "del j[2:5]\n",
    "print(j)\n",
    "\n",
    "k = [0, 10, 20, 30, 40, 50, 60, 70, 80, 90]\n",
    "del k[2:8:2]\n",
    "print(k)"
   ]
  },
  {
   "cell_type": "markdown",
   "id": "f0ee3cb8",
   "metadata": {},
   "source": [
    "## 11.6 연습문제: 최근 3년간 인구 출력하기\n",
    "\n",
    "리스트 `year`에 연도, `population`에 서울시 인구수가 저장되어 있습니다. 소스 코드를 완성하여 최근 3년간 연도와 인구수가 리스트로 출력되게 만드세요."
   ]
  },
  {
   "cell_type": "code",
   "execution_count": 49,
   "id": "19562899",
   "metadata": {},
   "outputs": [
    {
     "name": "stdout",
     "output_type": "stream",
     "text": [
      "[2016, 2017, 2018]\n",
      "[9930616, 9857426, 9838892]\n"
     ]
    }
   ],
   "source": [
    "year = [2011, 2012, 2013, 2014, 2015, 2016, 2017, 2018]\n",
    "population = [10249679, 10195318, 10143645, 10103233, \n",
    "              10022181, 9930616, 9857426, 9838892]\n",
    "\n",
    "print(year[-3:])\n",
    "print(population[-3:])"
   ]
  },
  {
   "cell_type": "markdown",
   "id": "43143f9a",
   "metadata": {},
   "source": [
    "## 11.7 연습문제: 인덱스가 홀수인 요소 출력하기\n",
    "\n",
    "소스 코드를 완성하여 튜플 `n`에서 인덱스가 홀수인 요소들이 출력되게 만드세요."
   ]
  },
  {
   "cell_type": "code",
   "execution_count": 50,
   "id": "461dfce0",
   "metadata": {},
   "outputs": [
    {
     "name": "stdout",
     "output_type": "stream",
     "text": [
      "(75, -10, 32, -15, 76, 2)\n"
     ]
    }
   ],
   "source": [
    "n = -32, 75, 97, -10, 9, 32, 4, -15, 0, 76, 14, 2\n",
    "\n",
    "print(n[1::2])"
   ]
  },
  {
   "cell_type": "markdown",
   "id": "4db00868",
   "metadata": {},
   "source": [
    "## 11.8 심사문제: 리스트의 마지막 부분 삭제하기\n",
    "\n",
    "표준 입력으로 숫자 또는 문자열 여러 개가 입력되어 리스트 `x`에 저장됩니다(입력되는 숫자 또는 문자열의 개수는 정해져 있지 않음). 다음 소스 코드를 완성하여 리스트 `x`의 마지막 요소 5개를 삭제한 뒤 튜플로 출력되게 만드세요.\n",
    "\n",
    "***예***\n",
    "\n",
    "입력\n",
    "`1 2 3 4 5 6 7 8 9 10`\n",
    "\n",
    "결과\n",
    "`('1', '2', '3', '4', '5')`\n",
    "\n",
    "입력\n",
    "`oven bat pony total leak wreck curl crop space navy loss knee`\n",
    "\n",
    "결과\n",
    "`('oven', 'bat', 'pony', 'total', 'leak', 'wreck', 'curl')`"
   ]
  },
  {
   "cell_type": "code",
   "execution_count": 54,
   "id": "12d66a0f",
   "metadata": {},
   "outputs": [
    {
     "name": "stdout",
     "output_type": "stream",
     "text": [
      "1 2 3 4 5 6 7 8 9 10\n",
      "('1', '2', '3', '4', '5')\n"
     ]
    }
   ],
   "source": [
    "x = input().split()\n",
    "x = tuple(x[:len(x)-5])\n",
    "print(x)\n"
   ]
  },
  {
   "cell_type": "markdown",
   "id": "d27f78eb",
   "metadata": {},
   "source": [
    "## 11.9 심사문제: 문자열에서 인덱스가 홀수인 문자와 짝수인 문자 연결하기\n",
    "\n",
    "표준 입력으로 문자열 두 개가 각 줄에 입력됩니다(문자열의 길이는 정해져 있지 않음). 첫 번째 문자열에서 인덱스가 홀수인 문자와 두 번째 문자열에서 인덱스가 짝수인 문자를 연결하여 출력하는 프로그램을 만드세요(input에서 안내 문자열은 출력하지 않아야 합니다). 연결 순서는 첫 번째 문자열, 두 번째 문자열 순입니다. 그리고 0은 짝수로 처리합니다.\n",
    "\n",
    "***예***\n",
    "\n",
    "입력\n",
    "`python`\n",
    "`python`\n",
    "\n",
    "결과\n",
    "`yhnpto`\n",
    "\n",
    "입력\n",
    "`apple`\n",
    "`strawberry`\n",
    "\n",
    "결과\n",
    "`plsrwer`"
   ]
  },
  {
   "cell_type": "code",
   "execution_count": 55,
   "id": "50f6147b",
   "metadata": {},
   "outputs": [
    {
     "name": "stdout",
     "output_type": "stream",
     "text": [
      "python\n",
      "python\n",
      "yhnpto\n"
     ]
    }
   ],
   "source": [
    "a = input()\n",
    "b = input()\n",
    "print(a[1::2] + b[::2])"
   ]
  },
  {
   "cell_type": "markdown",
   "id": "501d0844",
   "metadata": {},
   "source": [
    "## dictionaries\n",
    "\n",
    "### 키 이름이 중복되면?\n",
    "\n",
    "키가 중복되면 가장 뒤에 있는 값만 사용"
   ]
  },
  {
   "cell_type": "code",
   "execution_count": 56,
   "id": "699d23ff",
   "metadata": {},
   "outputs": [
    {
     "data": {
      "text/plain": [
       "{'health': 800, 'mana': 334, 'melee': 550, 'armor': 18.72}"
      ]
     },
     "execution_count": 56,
     "metadata": {},
     "output_type": "execute_result"
    }
   ],
   "source": [
    "lux = {'health': 490, 'health': 800, 'mana': 334, 'melee': 550, 'armor': 18.72}\n",
    "lux"
   ]
  },
  {
   "cell_type": "markdown",
   "id": "a41e6c69",
   "metadata": {},
   "source": [
    "## 12.4 연습문제: 딕셔너리에 게임 캐릭터 능력치 저장하기\n",
    "\n",
    "소스 코드를 완성하여 게임 캐릭터의 체력(health)과 이동 속도(movement speed)가 출력되게 만드세요."
   ]
  },
  {
   "cell_type": "code",
   "execution_count": 57,
   "id": "2e78c82c",
   "metadata": {},
   "outputs": [
    {
     "name": "stdout",
     "output_type": "stream",
     "text": [
      "575.6\n",
      "340\n"
     ]
    }
   ],
   "source": [
    "camille = {\n",
    "    'health': 575.6,\n",
    "    'health_regen': 1.7,\n",
    "    'mana': 338.8,\n",
    "    'mana_regen': 1.63,\n",
    "    'melee': 125,\n",
    "    'attack_damage': 60,\n",
    "    'attack_speed': 0.625,\n",
    "    'armor': 26,\n",
    "    'magic_resistance': 32.1,\n",
    "    'movement_speed': 340\n",
    "}\n",
    "\n",
    "print(camille['health'])\n",
    "print(camille['movement_speed'])"
   ]
  },
  {
   "cell_type": "markdown",
   "id": "d768e7ac",
   "metadata": {},
   "source": [
    "## 12.5 심사문제: 딕셔너리에 게임 캐릭터 능력치 저장하기\n",
    "\n",
    "표준 입력으로 문자열 여러 개와 숫자(실수) 여러 개가 두 줄로 입력됩니다. 입력된 첫 번째 줄은 키, 두 번째 줄은 값으로 하여 딕셔너리를 생성한 뒤 딕셔너리를 출력하는 프로그램을 만드세요. input().split()의 결과를 변수 한 개에 저장하면 리스트로 저장됩니다.\n",
    "\n",
    "***예***\n",
    "\n",
    "입력\n",
    "`health health_regen mana mana_regen`\n",
    "\n",
    "`575.6 1.7 338.8 1.63`\n",
    "\n",
    "결과\n",
    "`{'health': 575.6, 'health_regen': 1.7, 'mana': 338.8, 'mana_regen': 1.63}`\n",
    "\n",
    "입력\n",
    "`health mana melee attack_speed magic_resistance`\n",
    "`573.6 308.8 600 0.625 35.7`\n",
    "\n",
    "결과\n",
    "`{'health': 573.6, 'mana': 308.8, 'melee': 600.0, 'attack_speed': 0.625, 'magic_resistance': 35.7}`"
   ]
  },
  {
   "cell_type": "code",
   "execution_count": 59,
   "id": "ae27ff45",
   "metadata": {},
   "outputs": [
    {
     "name": "stdout",
     "output_type": "stream",
     "text": [
      "health health_regen mana mana_regen\n",
      "575.6 1.7 338.8 1.63\n",
      "{'health': 575.6, 'health_regen': 1.7, 'mana': 338.8, 'mana_regen': 1.63}\n"
     ]
    }
   ],
   "source": [
    "key = input().split()\n",
    "val = map(float, input().split())\n",
    "character = dict(zip(key, val))\n",
    "print(character)"
   ]
  },
  {
   "cell_type": "code",
   "execution_count": null,
   "id": "06a4a88d",
   "metadata": {},
   "outputs": [],
   "source": []
  }
 ],
 "metadata": {
  "kernelspec": {
   "display_name": "Python 3",
   "language": "python",
   "name": "python3"
  },
  "language_info": {
   "codemirror_mode": {
    "name": "ipython",
    "version": 3
   },
   "file_extension": ".py",
   "mimetype": "text/x-python",
   "name": "python",
   "nbconvert_exporter": "python",
   "pygments_lexer": "ipython3",
   "version": "3.9.2"
  }
 },
 "nbformat": 4,
 "nbformat_minor": 5
}

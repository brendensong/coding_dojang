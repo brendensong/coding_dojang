{
 "cells": [
  {
   "cell_type": "code",
   "execution_count": 2,
   "id": "676dc66e",
   "metadata": {},
   "outputs": [
    {
     "name": "stdout",
     "output_type": "stream",
     "text": [
      "Hello, world!\n"
     ]
    }
   ],
   "source": [
    "def hello():\n",
    "    print('Hello, world!')\n",
    "    \n",
    "hello()"
   ]
  },
  {
   "cell_type": "markdown",
   "id": "959b001e",
   "metadata": {},
   "source": [
    "![](https://dojang.io/pluginfile.php/13778/mod_page/content/5/029001.png)"
   ]
  },
  {
   "cell_type": "code",
   "execution_count": 3,
   "id": "0980cc8f",
   "metadata": {},
   "outputs": [
    {
     "name": "stdout",
     "output_type": "stream",
     "text": [
      "30\n"
     ]
    }
   ],
   "source": [
    "def add(a, b):\n",
    "    print(a + b)\n",
    "    \n",
    "add(10, 20)"
   ]
  },
  {
   "cell_type": "markdown",
   "id": "315c6077",
   "metadata": {},
   "source": [
    "![](https://dojang.io/pluginfile.php/13779/mod_page/content/2/029002.png)"
   ]
  },
  {
   "cell_type": "code",
   "execution_count": 7,
   "id": "4c1286fe",
   "metadata": {},
   "outputs": [
    {
     "name": "stdout",
     "output_type": "stream",
     "text": [
      "funtion documentation strings\n"
     ]
    }
   ],
   "source": [
    "def name_of_funtion():\n",
    "    \"\"\"funtion documentation strings\"\"\"\n",
    "    pass\n",
    "\n",
    "print(name_of_funtion.__doc__)"
   ]
  },
  {
   "cell_type": "markdown",
   "id": "ffe6bc3a",
   "metadata": {},
   "source": [
    "### `return`"
   ]
  },
  {
   "cell_type": "code",
   "execution_count": 15,
   "id": "b9b9db07",
   "metadata": {},
   "outputs": [
    {
     "data": {
      "text/plain": [
       "30"
      ]
     },
     "execution_count": 15,
     "metadata": {},
     "output_type": "execute_result"
    }
   ],
   "source": [
    "def add(a, b):\n",
    "    return a + b\n",
    "\n",
    "x = add(10, 20)\n",
    "x"
   ]
  },
  {
   "cell_type": "markdown",
   "id": "8003c71b",
   "metadata": {},
   "source": [
    "![](https://dojang.io/pluginfile.php/13780/mod_page/content/2/029003.png)"
   ]
  },
  {
   "cell_type": "code",
   "execution_count": 9,
   "id": "91b0e9f8",
   "metadata": {},
   "outputs": [
    {
     "name": "stdout",
     "output_type": "stream",
     "text": [
      "25\n"
     ]
    }
   ],
   "source": [
    "# or\n",
    "print(add(15, 10))"
   ]
  },
  {
   "cell_type": "code",
   "execution_count": 12,
   "id": "6a72d03e",
   "metadata": {},
   "outputs": [
    {
     "name": "stdout",
     "output_type": "stream",
     "text": [
      "it is 5\n",
      "None\n"
     ]
    }
   ],
   "source": [
    "def not_ten(a):\n",
    "    if a == 10:\n",
    "        return\n",
    "    print('it is ', a, sep='')\n",
    "\n",
    "print(not_ten(5))\n",
    "\n",
    "not_ten(10)"
   ]
  },
  {
   "cell_type": "code",
   "execution_count": 14,
   "id": "aab58f64",
   "metadata": {},
   "outputs": [
    {
     "name": "stdout",
     "output_type": "stream",
     "text": [
      "30 -10\n"
     ]
    }
   ],
   "source": [
    "def add_sub(a, b):\n",
    "    return a + b, a - b\n",
    "\n",
    "x, y = add_sub(10, 20)\n",
    "\n",
    "print(x, y)"
   ]
  },
  {
   "cell_type": "markdown",
   "id": "424decd2",
   "metadata": {},
   "source": [
    "![](https://dojang.io/pluginfile.php/13781/mod_page/content/2/029004.png)"
   ]
  },
  {
   "cell_type": "code",
   "execution_count": 16,
   "id": "3fa5a963",
   "metadata": {},
   "outputs": [
    {
     "data": {
      "text/plain": [
       "(30, -10)"
      ]
     },
     "execution_count": 16,
     "metadata": {},
     "output_type": "execute_result"
    }
   ],
   "source": [
    "x = add_sub(10, 20)\n",
    "x # => tuple"
   ]
  },
  {
   "cell_type": "markdown",
   "id": "0809d80d",
   "metadata": {},
   "source": [
    "### funtion call"
   ]
  },
  {
   "cell_type": "code",
   "execution_count": 18,
   "id": "4df1ffe0",
   "metadata": {},
   "outputs": [
    {
     "name": "stdout",
     "output_type": "stream",
     "text": [
      "30\n",
      "200\n"
     ]
    }
   ],
   "source": [
    "def mul(a, b):\n",
    "    c = a * b\n",
    "    return c\n",
    "\n",
    "def add(a, b):\n",
    "    c = a + b\n",
    "    print(c)\n",
    "    d = mul(a, b)\n",
    "    print(d)\n",
    "    \n",
    "x = 10\n",
    "y = 20\n",
    "add(x, y)"
   ]
  },
  {
   "cell_type": "markdown",
   "id": "1f337554",
   "metadata": {},
   "source": [
    "## 29.3 Exercise: Function to find the quotient and the remainder\n",
    "\n",
    "Complete source code so that the quotient and the remainder are printed when x is divided by y.\n",
    "\n",
    "소스 코드를 완성하여 x를 y로 나누었을 때의 몫과 나머지가 출력되게 만드세요."
   ]
  },
  {
   "cell_type": "code",
   "execution_count": 20,
   "id": "046fe27c",
   "metadata": {},
   "outputs": [
    {
     "name": "stdout",
     "output_type": "stream",
     "text": [
      "quotient: 3, remainder: 1\n"
     ]
    }
   ],
   "source": [
    "x = 10\n",
    "y = 3\n",
    "\n",
    "def get_quotient_remainder(a, b):\n",
    "    return a // b, a % b\n",
    "\n",
    "\n",
    "quotient, remainder = get_quotient_remainder(x, y)\n",
    "print('quotient: {0}, remainder: {1}'.format(quotient, remainder))"
   ]
  },
  {
   "cell_type": "markdown",
   "id": "cb9e3b32",
   "metadata": {},
   "source": [
    "## 29.4 Problem: Four-principal operation function\n",
    "\n",
    "Complete source code so that the results of additiong, substraction, multiplication, and division of two numbers are printed. The result of division should be a float.\n",
    "\n",
    "표준 입력으로 숫자 두 개가 입력됩니다. 다음 소스 코드를 완성하여 두 숫자의 덧셈, 뺄셈, 곱셈, 나눗셈의 결과가 출력되게 만드세요. 이때 나눗셈의 결과는 실수라야 합니다."
   ]
  },
  {
   "cell_type": "code",
   "execution_count": 25,
   "id": "cb64958a",
   "metadata": {},
   "outputs": [
    {
     "name": "stdout",
     "output_type": "stream",
     "text": [
      "10 20\n",
      "Add: 30, Sub: -10, Mul: 200, Div: 0.5\n"
     ]
    }
   ],
   "source": [
    "x, y = map(int, input().split())\n",
    "\n",
    "def calc(a, b):\n",
    "    return a + b, a - b, a * b, a / b\n",
    "\n",
    "a, s, m, d = calc(x, y)\n",
    "print('Add: {0}, Sub: {1}, Mul: {2}, Div: {3}'.format(a, s, m, d))"
   ]
  },
  {
   "cell_type": "markdown",
   "id": "e2d0432d",
   "metadata": {},
   "source": [
    "## positional argument & list unpacking"
   ]
  },
  {
   "cell_type": "code",
   "execution_count": 26,
   "id": "6abddab8",
   "metadata": {},
   "outputs": [
    {
     "name": "stdout",
     "output_type": "stream",
     "text": [
      "10\n",
      "20\n",
      "30\n"
     ]
    }
   ],
   "source": [
    "def print_numbers(a, b, c):\n",
    "    print(a)\n",
    "    print(b)\n",
    "    print(c)\n",
    "    \n",
    "print_numbers(10, 20, 30)"
   ]
  },
  {
   "cell_type": "code",
   "execution_count": 27,
   "id": "6413a70b",
   "metadata": {},
   "outputs": [
    {
     "name": "stdout",
     "output_type": "stream",
     "text": [
      "10\n",
      "20\n",
      "30\n"
     ]
    }
   ],
   "source": [
    "print_numbers(*[10, 20, 30])"
   ]
  },
  {
   "cell_type": "markdown",
   "id": "d49321a9",
   "metadata": {},
   "source": [
    "### variable argument"
   ]
  },
  {
   "cell_type": "code",
   "execution_count": 29,
   "id": "60d6a30c",
   "metadata": {},
   "outputs": [
    {
     "name": "stdout",
     "output_type": "stream",
     "text": [
      "10\n",
      "20\n"
     ]
    }
   ],
   "source": [
    "def print_numbers(*args):\n",
    "    for arg in args:\n",
    "        print(arg)\n",
    "        \n",
    "print_numbers(10, 20)"
   ]
  },
  {
   "cell_type": "code",
   "execution_count": 30,
   "id": "06ca4a7d",
   "metadata": {},
   "outputs": [
    {
     "name": "stdout",
     "output_type": "stream",
     "text": [
      "1\n",
      "3\n",
      "5\n",
      "7\n",
      "9\n"
     ]
    }
   ],
   "source": [
    "print_numbers(1, 3, 5, 7, 9)"
   ]
  },
  {
   "cell_type": "code",
   "execution_count": 31,
   "id": "5fdc96d4",
   "metadata": {},
   "outputs": [
    {
     "name": "stdout",
     "output_type": "stream",
     "text": [
      "10\n",
      "11\n"
     ]
    }
   ],
   "source": [
    "x = [10, 11]\n",
    "print_numbers(*x)"
   ]
  },
  {
   "cell_type": "code",
   "execution_count": 32,
   "id": "0b5d25c2",
   "metadata": {},
   "outputs": [
    {
     "name": "stdout",
     "output_type": "stream",
     "text": [
      "1\n",
      "2\n",
      "3\n",
      "4\n",
      "5\n",
      "6\n"
     ]
    }
   ],
   "source": [
    "y = [1,2,3,4,5,6]\n",
    "print_numbers(*y)"
   ]
  },
  {
   "cell_type": "markdown",
   "id": "50d2d2d6",
   "metadata": {},
   "source": [
    "### `*args` must come last"
   ]
  },
  {
   "cell_type": "code",
   "execution_count": 37,
   "id": "b8384ea2",
   "metadata": {},
   "outputs": [
    {
     "ename": "TypeError",
     "evalue": "numbers() missing 1 required keyword-only argument: 'a'",
     "output_type": "error",
     "traceback": [
      "\u001b[1;31m---------------------------------------------------------------------------\u001b[0m",
      "\u001b[1;31mTypeError\u001b[0m                                 Traceback (most recent call last)",
      "\u001b[1;32m<ipython-input-37-ff5253e02a2d>\u001b[0m in \u001b[0;36m<module>\u001b[1;34m\u001b[0m\n\u001b[0;32m      3\u001b[0m     \u001b[0mprint\u001b[0m\u001b[1;33m(\u001b[0m\u001b[0margs\u001b[0m\u001b[1;33m)\u001b[0m\u001b[1;33m\u001b[0m\u001b[1;33m\u001b[0m\u001b[0m\n\u001b[0;32m      4\u001b[0m \u001b[1;33m\u001b[0m\u001b[0m\n\u001b[1;32m----> 5\u001b[1;33m \u001b[0mnumbers\u001b[0m\u001b[1;33m(\u001b[0m\u001b[1;36m1\u001b[0m\u001b[1;33m,\u001b[0m \u001b[1;36m2\u001b[0m\u001b[1;33m,\u001b[0m \u001b[1;36m4\u001b[0m\u001b[1;33m,\u001b[0m \u001b[1;36m5\u001b[0m\u001b[1;33m)\u001b[0m\u001b[1;33m\u001b[0m\u001b[1;33m\u001b[0m\u001b[0m\n\u001b[0m",
      "\u001b[1;31mTypeError\u001b[0m: numbers() missing 1 required keyword-only argument: 'a'"
     ]
    }
   ],
   "source": [
    "def numbers(*args, a):  \n",
    "    print(a)\n",
    "    print(args)\n",
    "\n",
    "numbers(1, 2, 4, 5)"
   ]
  },
  {
   "cell_type": "code",
   "execution_count": 33,
   "id": "411c328b",
   "metadata": {},
   "outputs": [
    {
     "name": "stdout",
     "output_type": "stream",
     "text": [
      "1\n",
      "()\n"
     ]
    }
   ],
   "source": [
    "def numbers(a, *args):  \n",
    "    print(a)\n",
    "    print(args)\n",
    "\n",
    "numbers(1)"
   ]
  },
  {
   "cell_type": "code",
   "execution_count": 34,
   "id": "8ed65536",
   "metadata": {},
   "outputs": [
    {
     "name": "stdout",
     "output_type": "stream",
     "text": [
      "1\n",
      "(10, 20)\n"
     ]
    }
   ],
   "source": [
    "numbers(1, 10, 20)"
   ]
  },
  {
   "cell_type": "code",
   "execution_count": 35,
   "id": "c48f4d04",
   "metadata": {},
   "outputs": [
    {
     "name": "stdout",
     "output_type": "stream",
     "text": [
      "10\n",
      "(20, 30, 40)\n"
     ]
    }
   ],
   "source": [
    "numbers(*[10, 20, 30, 40])"
   ]
  },
  {
   "cell_type": "markdown",
   "id": "a98ba265",
   "metadata": {},
   "source": [
    "## keyword argument"
   ]
  },
  {
   "cell_type": "code",
   "execution_count": 42,
   "id": "36c1a5a1",
   "metadata": {},
   "outputs": [
    {
     "name": "stdout",
     "output_type": "stream",
     "text": [
      "Name: James\n",
      "Age: 25\n",
      "Address: 123 street\n"
     ]
    }
   ],
   "source": [
    "def personal_info(name, age, address):\n",
    "    print('Name', name, sep=': ')\n",
    "    print('Age', age, sep=': ')\n",
    "    print('Address', address, sep=': ')\n",
    "\n",
    "personal_info(name='James', age=25, address='123 street')"
   ]
  },
  {
   "cell_type": "code",
   "execution_count": 43,
   "id": "b24d82cc",
   "metadata": {},
   "outputs": [
    {
     "name": "stdout",
     "output_type": "stream",
     "text": [
      "Name: James\n",
      "Age: 25\n",
      "Address: 123 street\n"
     ]
    }
   ],
   "source": [
    "# The order of the keywords doesn't matter.\n",
    "personal_info(age=25, address='123 street', name='James')"
   ]
  },
  {
   "cell_type": "markdown",
   "id": "3e746f0c",
   "metadata": {},
   "source": [
    "### dictionaries unpacking"
   ]
  },
  {
   "cell_type": "code",
   "execution_count": 44,
   "id": "7b96e570",
   "metadata": {},
   "outputs": [],
   "source": [
    "def personal_info(name, age, address):\n",
    "    print('Name', name, sep=': ')\n",
    "    print('Age', age, sep=': ')\n",
    "    print('Address', address, sep=': ')"
   ]
  },
  {
   "cell_type": "code",
   "execution_count": 45,
   "id": "2121a7de",
   "metadata": {},
   "outputs": [
    {
     "name": "stdout",
     "output_type": "stream",
     "text": [
      "Name: Mike\n",
      "Age: 30\n",
      "Address: 345 Valley Dr\n"
     ]
    }
   ],
   "source": [
    "x = {'name': 'Mike', 'age': 30, 'address': '345 Valley Dr'}\n",
    "personal_info(**x)"
   ]
  },
  {
   "cell_type": "markdown",
   "id": "0fdc4090",
   "metadata": {},
   "source": [
    "![](https://dojang.io/pluginfile.php/13790/mod_page/content/2/030002.png)"
   ]
  },
  {
   "cell_type": "code",
   "execution_count": 46,
   "id": "98ad3689",
   "metadata": {},
   "outputs": [
    {
     "name": "stdout",
     "output_type": "stream",
     "text": [
      "Name: name\n",
      "Age: age\n",
      "Address: address\n"
     ]
    }
   ],
   "source": [
    "x = {'name': 'Mike', 'age': 30, 'address': '345 Valley Dr'}\n",
    "personal_info(*x) # only use keywords"
   ]
  },
  {
   "cell_type": "code",
   "execution_count": 48,
   "id": "50a51f9e",
   "metadata": {},
   "outputs": [
    {
     "name": "stdout",
     "output_type": "stream",
     "text": [
      "Name: Mike\n",
      "Age: 30\n",
      "Address: 345 Valley Dr\n"
     ]
    }
   ],
   "source": [
    "x = {'name': 'Mike', 'age': 30, 'address': '345 Valley Dr'}\n",
    "personal_info(**x) # use values"
   ]
  },
  {
   "cell_type": "code",
   "execution_count": 49,
   "id": "261c7f53",
   "metadata": {},
   "outputs": [
    {
     "name": "stdout",
     "output_type": "stream",
     "text": [
      "name: Brown\n"
     ]
    }
   ],
   "source": [
    "def personal_infos(**kwargs):\n",
    "    for kw, arg in kwargs.items():\n",
    "        print(kw, ': ', arg, sep='')\n",
    "\n",
    "personal_infos(name='Brown')"
   ]
  },
  {
   "cell_type": "code",
   "execution_count": 50,
   "id": "9fe73f00",
   "metadata": {},
   "outputs": [
    {
     "name": "stdout",
     "output_type": "stream",
     "text": [
      "name: Brown\n",
      "age: 19\n",
      "address: 1010 Street\n"
     ]
    }
   ],
   "source": [
    "personal_infos(name='Brown', age='19', address='1010 Street')"
   ]
  },
  {
   "cell_type": "code",
   "execution_count": 52,
   "id": "834b3694",
   "metadata": {},
   "outputs": [
    {
     "name": "stdout",
     "output_type": "stream",
     "text": [
      "name: Brown\n",
      "age: 19\n",
      "address: 1010 Street\n"
     ]
    }
   ],
   "source": [
    "#or\n",
    "x = {'name': 'Brown', 'age': '19', 'address': '1010 Street'}\n",
    "personal_infos(**x)"
   ]
  },
  {
   "cell_type": "code",
   "execution_count": 53,
   "id": "184ef80e",
   "metadata": {},
   "outputs": [
    {
     "name": "stdout",
     "output_type": "stream",
     "text": [
      "Name: Brown\n",
      "Address: 1010 Street\n"
     ]
    }
   ],
   "source": [
    "# check if there is a specific keyword\n",
    "def personal_infomation(**kwargs):\n",
    "    if 'name' in kwargs:\n",
    "        print('Name', kwargs['name'], sep=': ')\n",
    "    if 'age' in kwargs:\n",
    "        print('Age', kwargs['age'], sep=': ')\n",
    "    if 'address' in kwargs:\n",
    "        print('Address', kwargs['address'], sep=': ')\n",
    "        \n",
    "y = {'name': 'Brown', 'address': '1010 Street'}\n",
    "personal_infomation(**y)"
   ]
  },
  {
   "cell_type": "markdown",
   "id": "c9986553",
   "metadata": {},
   "source": [
    "### `**kwargs` must come last"
   ]
  },
  {
   "cell_type": "code",
   "execution_count": 56,
   "id": "b0081007",
   "metadata": {},
   "outputs": [
    {
     "name": "stdout",
     "output_type": "stream",
     "text": [
      "1:2:3:4:5:6"
     ]
    }
   ],
   "source": [
    "def custom_print(a, *args, **kwargs):\n",
    "    print(a, *args, **kwargs)\n",
    "\n",
    "custom_print(1, 2, 3, 4, 5, 6, sep=':', end='')"
   ]
  },
  {
   "cell_type": "code",
   "execution_count": 60,
   "id": "5d7f93c8",
   "metadata": {},
   "outputs": [
    {
     "name": "stdout",
     "output_type": "stream",
     "text": [
      "Name:  John\n",
      "Age:  Private \n",
      "Address:  Private \n"
     ]
    }
   ],
   "source": [
    "def personal_info(name, age='Private ', address='Private '):\n",
    "    print('Name: ', name)\n",
    "    print('Age: ', age)\n",
    "    print('Address: ', address)\n",
    "\n",
    "personal_info('John')"
   ]
  },
  {
   "cell_type": "code",
   "execution_count": 61,
   "id": "373d4084",
   "metadata": {
    "scrolled": true
   },
   "outputs": [
    {
     "name": "stdout",
     "output_type": "stream",
     "text": [
      "Name:  Mike\n",
      "Age:  22\n",
      "Address:  Private \n"
     ]
    }
   ],
   "source": [
    "personal_info('Mike', 22)"
   ]
  },
  {
   "cell_type": "markdown",
   "id": "09a41d28",
   "metadata": {},
   "source": [
    "## 30.6 Exercise : Function to find the highest score"
   ]
  },
  {
   "cell_type": "code",
   "execution_count": 64,
   "id": "fefd7e36",
   "metadata": {},
   "outputs": [
    {
     "name": "stdout",
     "output_type": "stream",
     "text": [
      "Highest score: 100\n",
      "Highest score: 91\n"
     ]
    }
   ],
   "source": [
    "korean, english, mathematics, science = 100, 86, 81, 91\n",
    "\n",
    "def get_max_score(*args):\n",
    "    return(max(args))\n",
    "\n",
    "max_score = get_max_score(korean, english, mathematics, science)\n",
    "print('Highest score:', max_score)\n",
    " \n",
    "max_score = get_max_score(english, science)\n",
    "print('Highest score:', max_score)"
   ]
  },
  {
   "cell_type": "markdown",
   "id": "9de8b963",
   "metadata": {},
   "source": [
    "## 30.7 Problem : Function to find the highest, lowest, and average scores\n"
   ]
  },
  {
   "cell_type": "code",
   "execution_count": 69,
   "id": "113c5158",
   "metadata": {
    "scrolled": true
   },
   "outputs": [
    {
     "name": "stdout",
     "output_type": "stream",
     "text": [
      "76 82 89 84\n",
      "Lowest: 76.00, Higest: 89.00, Aversge: 82.75\n",
      "Lowest: 76.00, Higest: 89.00, Average: 82.50\n"
     ]
    }
   ],
   "source": [
    "english, mathematics, science, history = map(int, input().split())\n",
    "\n",
    "def get_min_max_score(*args):\n",
    "    return(min(args), max(args))\n",
    "\n",
    "def get_average(**kwargs):\n",
    "    return(sum(kwargs.values()) / len(kwargs))\n",
    "\n",
    "min_score, max_score = get_min_max_score(english, mathematics, science, history)\n",
    "average_score = get_average(english=english, mathematics=mathematics,\n",
    "                            science=science, history=history)\n",
    "\n",
    "print('Lowest: {0:.2f}, Higest: {1:.2f}, Aversge: {2:.2f}'\n",
    "      .format(min_score, max_score, average_score))\n",
    " \n",
    "min_score, max_score = get_min_max_score(english, science)\n",
    "average_score = get_average(english=english, science=science)\n",
    "print('Lowest: {0:.2f}, Higest: {1:.2f}, Average: {2:.2f}'\n",
    "      .format(min_score, max_score, average_score))"
   ]
  },
  {
   "cell_type": "markdown",
   "id": "f2ae729e",
   "metadata": {},
   "source": [
    "## recursive call"
   ]
  },
  {
   "cell_type": "code",
   "execution_count": 70,
   "id": "9b9182ec",
   "metadata": {},
   "outputs": [
    {
     "name": "stdout",
     "output_type": "stream",
     "text": [
      "Hello, Python! 5\n",
      "Hello, Python! 4\n",
      "Hello, Python! 3\n",
      "Hello, Python! 2\n",
      "Hello, Python! 1\n"
     ]
    }
   ],
   "source": [
    "def hello(count):\n",
    "    if count == 0:\n",
    "        return\n",
    "    print('Hello, Python!', count)\n",
    "    \n",
    "    count -= 1\n",
    "    hello(count)\n",
    "\n",
    "hello(5)"
   ]
  },
  {
   "cell_type": "markdown",
   "id": "27689baf",
   "metadata": {},
   "source": [
    "## factorial with recursive call"
   ]
  },
  {
   "cell_type": "code",
   "execution_count": 71,
   "id": "c0b96577",
   "metadata": {},
   "outputs": [
    {
     "name": "stdout",
     "output_type": "stream",
     "text": [
      "120\n"
     ]
    }
   ],
   "source": [
    "def factorial(n):\n",
    "    if n == 1:\n",
    "        return 1\n",
    "    return n * factorial(n - 1)\n",
    "\n",
    "print(factorial(5))"
   ]
  },
  {
   "cell_type": "markdown",
   "id": "901f5461",
   "metadata": {},
   "source": [
    "## 31.4 Exercise: recursive function to check palindrome\n",
    "\n"
   ]
  },
  {
   "cell_type": "code",
   "execution_count": 72,
   "id": "178695a2",
   "metadata": {},
   "outputs": [
    {
     "name": "stdout",
     "output_type": "stream",
     "text": [
      "False\n",
      "True\n"
     ]
    }
   ],
   "source": [
    "def is_palindrome(word):\n",
    "    if len(word) < 2:\n",
    "        return True\n",
    "    if word[0] != word[-1]:\n",
    "        return False\n",
    "    return is_palindrome(word[1:-1])\n",
    "\n",
    "print(is_palindrome('hello'))\n",
    "print(is_palindrome('level'))"
   ]
  },
  {
   "cell_type": "markdown",
   "id": "bc75e9b1",
   "metadata": {},
   "source": [
    "## 31.5 Problem: recursive function to find the Fibonacci numbers"
   ]
  },
  {
   "cell_type": "code",
   "execution_count": 3,
   "id": "f48e712c",
   "metadata": {},
   "outputs": [
    {
     "name": "stdout",
     "output_type": "stream",
     "text": [
      "10\n",
      "55\n"
     ]
    }
   ],
   "source": [
    "def fib(n):\n",
    "    if n == 0:\n",
    "        return 0\n",
    "    if n == 1 or n == 2:\n",
    "        return 1\n",
    "    else:\n",
    "        return fib(n - 1) + fib(n - 2)\n",
    "    \n",
    "n = int(input())\n",
    "print(fib(n))"
   ]
  },
  {
   "cell_type": "code",
   "execution_count": null,
   "id": "45a858bd",
   "metadata": {},
   "outputs": [],
   "source": []
  }
 ],
 "metadata": {
  "kernelspec": {
   "display_name": "Python 3",
   "language": "python",
   "name": "python3"
  },
  "language_info": {
   "codemirror_mode": {
    "name": "ipython",
    "version": 3
   },
   "file_extension": ".py",
   "mimetype": "text/x-python",
   "name": "python",
   "nbconvert_exporter": "python",
   "pygments_lexer": "ipython3",
   "version": "3.9.2"
  }
 },
 "nbformat": 4,
 "nbformat_minor": 5
}

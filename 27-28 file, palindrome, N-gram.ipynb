{
 "cells": [
  {
   "cell_type": "markdown",
   "id": "b2b2e2ea",
   "metadata": {},
   "source": [
    "## Write a file"
   ]
  },
  {
   "cell_type": "code",
   "execution_count": 1,
   "id": "cf25a5f8",
   "metadata": {},
   "outputs": [],
   "source": [
    "file = open('hello.txt', 'w')\n",
    "file.write('Hello, world!')\n",
    "file.close()"
   ]
  },
  {
   "cell_type": "markdown",
   "id": "93ea40bc",
   "metadata": {},
   "source": [
    "## Read a file"
   ]
  },
  {
   "cell_type": "code",
   "execution_count": 3,
   "id": "f32b43b9",
   "metadata": {},
   "outputs": [
    {
     "name": "stdout",
     "output_type": "stream",
     "text": [
      "Hello, world!\n"
     ]
    }
   ],
   "source": [
    "file = open('hello.txt', 'r')\n",
    "s = file.read()\n",
    "print(s)\n",
    "file.close()"
   ]
  },
  {
   "cell_type": "markdown",
   "id": "ebd5161c",
   "metadata": {},
   "source": [
    "## Close a file automatically"
   ]
  },
  {
   "cell_type": "code",
   "execution_count": 4,
   "id": "4b45f56c",
   "metadata": {},
   "outputs": [
    {
     "name": "stdout",
     "output_type": "stream",
     "text": [
      "Hello, world!\n"
     ]
    }
   ],
   "source": [
    "with open('hello.txt', 'r') as file:\n",
    "    s = file.read()\n",
    "    print(s)"
   ]
  },
  {
   "cell_type": "markdown",
   "id": "d521190f",
   "metadata": {},
   "source": []
  },
  {
   "cell_type": "code",
   "execution_count": 9,
   "id": "f10b7b56",
   "metadata": {},
   "outputs": [],
   "source": [
    "with open('hello_2.txt', 'w') as file:\n",
    "    for i in range(5):\n",
    "        file.write('Hello, world! {0}\\n'.format(i))"
   ]
  },
  {
   "cell_type": "code",
   "execution_count": 10,
   "id": "427b5fec",
   "metadata": {},
   "outputs": [
    {
     "name": "stdout",
     "output_type": "stream",
     "text": [
      "Hello, world! 0\n",
      "Hello, world! 1\n",
      "Hello, world! 2\n",
      "Hello, world! 3\n",
      "Hello, world! 4\n",
      "\n"
     ]
    }
   ],
   "source": [
    "with open('hello_2.txt', 'r') as file:\n",
    "    s1 = file.read()\n",
    "    print(s1)"
   ]
  },
  {
   "cell_type": "code",
   "execution_count": 13,
   "id": "f64aa246",
   "metadata": {},
   "outputs": [],
   "source": [
    "lines = ['Hello,\\n', 'This is\\n', 'Python.\\n']\n",
    "\n",
    "with open('hello_3.txt', 'w') as file:\n",
    "    file.writelines(lines)"
   ]
  },
  {
   "cell_type": "code",
   "execution_count": 14,
   "id": "97772203",
   "metadata": {},
   "outputs": [
    {
     "name": "stdout",
     "output_type": "stream",
     "text": [
      "Hello,\n",
      "This is\n",
      "Python.\n",
      "\n"
     ]
    }
   ],
   "source": [
    "with open('hello_3.txt', 'r') as file:\n",
    "    s1 = file.read()\n",
    "    print(s1)"
   ]
  },
  {
   "cell_type": "code",
   "execution_count": 15,
   "id": "52225027",
   "metadata": {},
   "outputs": [
    {
     "name": "stdout",
     "output_type": "stream",
     "text": [
      "['Hello,\\n', 'This is\\n', 'Python.\\n']\n"
     ]
    }
   ],
   "source": [
    "with open('hello_3.txt', 'r') as file:\n",
    "    lines = file.readlines()\n",
    "    print(lines)"
   ]
  },
  {
   "cell_type": "code",
   "execution_count": 19,
   "id": "b28dd402",
   "metadata": {},
   "outputs": [
    {
     "name": "stdout",
     "output_type": "stream",
     "text": [
      "Hello,\n",
      "This is\n",
      "Python.\n",
      "\n"
     ]
    }
   ],
   "source": [
    "with open('hello_3.txt', 'r') as file:\n",
    "    line = None\n",
    "    while line != '':\n",
    "        line = file.readline()\n",
    "        print(line.strip('\\n'))"
   ]
  },
  {
   "cell_type": "code",
   "execution_count": 20,
   "id": "e0a03000",
   "metadata": {},
   "outputs": [
    {
     "name": "stdout",
     "output_type": "stream",
     "text": [
      "Hello,\n",
      "This is\n",
      "Python.\n"
     ]
    }
   ],
   "source": [
    "with open('hello_3.txt', 'r') as file:\n",
    "    for line in file:\n",
    "        print(line.strip('\\n'))"
   ]
  },
  {
   "cell_type": "markdown",
   "id": "43ca92f6",
   "metadata": {},
   "source": [
    "## pickle"
   ]
  },
  {
   "cell_type": "code",
   "execution_count": 22,
   "id": "ea16d0c8",
   "metadata": {},
   "outputs": [],
   "source": [
    "import pickle\n",
    "\n",
    "name = 'James'\n",
    "age = 18\n",
    "address = 'ABC Valley Drive, City, Province, A1B2C3'\n",
    "scores = {'English': 90, 'Science': 74, 'Mathematics': 85, 'History': 81}\n",
    "\n",
    "with open('james.p', 'wb') as file:\n",
    "    pickle.dump(name, file)\n",
    "    pickle.dump(age, file)\n",
    "    pickle.dump(address, file)\n",
    "    pickle.dump(scores, file)"
   ]
  },
  {
   "cell_type": "code",
   "execution_count": 27,
   "id": "00183881",
   "metadata": {},
   "outputs": [
    {
     "name": "stdout",
     "output_type": "stream",
     "text": [
      "Name: James\n",
      "Age: 18\n",
      "Address: ABC Valley Drive, City, Province, A1B2C3\n",
      "Scores: {'English': 90, 'Science': 74, 'Mathematics': 85, 'History': 81}\n"
     ]
    }
   ],
   "source": [
    "import pickle\n",
    "\n",
    "with open('james.p', 'rb') as file:\n",
    "    name = pickle.load(file)\n",
    "    age = pickle.load(file)\n",
    "    address = pickle.load(file)\n",
    "    scores = pickle.load(file)\n",
    "    print('Name:', name)\n",
    "    print('Age:', age)\n",
    "    print('Address:', address)\n",
    "    print('Scores:', scores)"
   ]
  },
  {
   "cell_type": "markdown",
   "id": "b179228d",
   "metadata": {},
   "source": [
    "![](https://dojang.io/pluginfile.php/13766/mod_page/content/3/027004.png)"
   ]
  },
  {
   "cell_type": "markdown",
   "id": "d2d0cf76",
   "metadata": {},
   "source": [
    "## 27.5 Exercise: Counts words are less than 10 characters long in the file\n",
    "\n"
   ]
  },
  {
   "cell_type": "code",
   "execution_count": 30,
   "id": "1d3cb0d3",
   "metadata": {},
   "outputs": [
    {
     "name": "stdout",
     "output_type": "stream",
     "text": [
      "4\n"
     ]
    }
   ],
   "source": [
    "with open('words(27.5).txt', 'r') as file:\n",
    "    count = 0\n",
    "    words = file.readlines()\n",
    "    \n",
    "    for word in words:\n",
    "        if len(word.strip('\\n')) <= 10:\n",
    "            count+= 1\n",
    "    \n",
    "    print(count)"
   ]
  },
  {
   "cell_type": "markdown",
   "id": "b38b237e",
   "metadata": {},
   "source": [
    "## 27.6 Problem: Finds words with a specific character\n",
    "\n",
    "Create a program that prints words containing the letter 'c' on each line from the file. Words should be printed in the order in which they appear, and comma(,) and period(.) should not be printed.\n",
    "\n",
    "파일에서 문자 c가 포함된 단어를 각 줄에 출력하는 프로그램을 만드세요. 단어를 출력할 때는 등장한 순서대로 출력해야 하며 ,(콤마)와 .(점)은 출력하지 않아야 합니다."
   ]
  },
  {
   "cell_type": "code",
   "execution_count": 33,
   "id": "22ae54e7",
   "metadata": {},
   "outputs": [
    {
     "name": "stdout",
     "output_type": "stream",
     "text": [
      "dictator\n",
      "subjects\n",
      "change\n",
      "costume\n",
      "elegance\n",
      "accepted\n"
     ]
    }
   ],
   "source": [
    "with open('words(27.6).txt', 'r') as file:\n",
    "    text = file.read().split()\n",
    "    for word in text:\n",
    "        if 'c' in word:\n",
    "            print(word.strip(',.'))    "
   ]
  },
  {
   "cell_type": "markdown",
   "id": "701bcd97",
   "metadata": {},
   "source": [
    "## palindrome, N-gram\n",
    "\n",
    "- A **palindrome** is a word, number, phrase, or other sequence of characters which reads the same backward as forward, such as *madam* or *racecar*."
   ]
  },
  {
   "cell_type": "code",
   "execution_count": 36,
   "id": "ea3491fe",
   "metadata": {},
   "outputs": [
    {
     "name": "stdout",
     "output_type": "stream",
     "text": [
      "Type any words: level\n",
      "True\n"
     ]
    }
   ],
   "source": [
    "word = input('Type any words: ')\n",
    "\n",
    "is_palindrome = True\n",
    "\n",
    "for i in range(len(word) // 2):\n",
    "    if word[i] != word[-(1 + i)]:\n",
    "        is_palindrome = False\n",
    "        break\n",
    "        \n",
    "print(is_palindrome)"
   ]
  },
  {
   "cell_type": "code",
   "execution_count": 37,
   "id": "bd3572fe",
   "metadata": {},
   "outputs": [
    {
     "name": "stdout",
     "output_type": "stream",
     "text": [
      "Type any words: level\n",
      "True\n"
     ]
    }
   ],
   "source": [
    "word = input('Type any words: ')\n",
    "\n",
    "print(word == word[::-1])"
   ]
  },
  {
   "cell_type": "code",
   "execution_count": 39,
   "id": "4af94ba5",
   "metadata": {},
   "outputs": [
    {
     "name": "stdout",
     "output_type": "stream",
     "text": [
      "Type any words: level\n"
     ]
    },
    {
     "data": {
      "text/plain": [
       "True"
      ]
     },
     "execution_count": 39,
     "metadata": {},
     "output_type": "execute_result"
    }
   ],
   "source": [
    "word = input('Type any words: ')\n",
    "\n",
    "list(word) == list(reversed(word))"
   ]
  },
  {
   "cell_type": "code",
   "execution_count": 40,
   "id": "727b9f49",
   "metadata": {},
   "outputs": [
    {
     "name": "stdout",
     "output_type": "stream",
     "text": [
      "Type any words: level\n"
     ]
    },
    {
     "data": {
      "text/plain": [
       "True"
      ]
     },
     "execution_count": 40,
     "metadata": {},
     "output_type": "execute_result"
    }
   ],
   "source": [
    "word = input('Type any words: ')\n",
    "\n",
    "word == ''.join(reversed(word))"
   ]
  },
  {
   "cell_type": "markdown",
   "id": "b18ab559",
   "metadata": {},
   "source": [
    "- An **N-gram** is a contiguous sequence of *n* items from a given sample of text or speech. The items can be phonemes, syllables, letters, words or base pairs according to the application."
   ]
  },
  {
   "cell_type": "code",
   "execution_count": 44,
   "id": "7a96a570",
   "metadata": {},
   "outputs": [
    {
     "name": "stdout",
     "output_type": "stream",
     "text": [
      "He\n",
      "el\n",
      "ll\n",
      "lo\n"
     ]
    }
   ],
   "source": [
    "# 2-gram\n",
    "\n",
    "text = 'Hello'\n",
    "\n",
    "for i in range(len(text) - 1):\n",
    "    print(text[i], text[i + 1], sep='')"
   ]
  },
  {
   "cell_type": "code",
   "execution_count": 45,
   "id": "e6b1edd7",
   "metadata": {},
   "outputs": [
    {
     "name": "stdout",
     "output_type": "stream",
     "text": [
      "Hel\n",
      "ell\n",
      "llo\n"
     ]
    }
   ],
   "source": [
    "# 3-gram\n",
    "\n",
    "text = 'Hello'\n",
    "\n",
    "for i in range(len(text) - 2):\n",
    "    print(text[i], text[i + 1], text[i + 2], sep='')"
   ]
  },
  {
   "cell_type": "code",
   "execution_count": 47,
   "id": "78e41cdb",
   "metadata": {},
   "outputs": [
    {
     "name": "stdout",
     "output_type": "stream",
     "text": [
      "this is\n",
      "is python\n",
      "python script\n"
     ]
    }
   ],
   "source": [
    "# 2-gram word\n",
    "\n",
    "text = 'this is python script'\n",
    "words = text.split()\n",
    "\n",
    "for i in range(len(words) - 1):\n",
    "    print(words[i], words[i + 1], sep=' ')"
   ]
  },
  {
   "cell_type": "code",
   "execution_count": 50,
   "id": "d755557f",
   "metadata": {
    "scrolled": true
   },
   "outputs": [
    {
     "name": "stdout",
     "output_type": "stream",
     "text": [
      "he\n",
      "el\n",
      "ll\n",
      "lo\n"
     ]
    }
   ],
   "source": [
    "# 2-gram with zip\n",
    "\n",
    "text = 'hello'\n",
    "\n",
    "two_gram = zip(text, text[1:])\n",
    "\n",
    "for i in two_gram:\n",
    "    print(i[0], i[1], sep='')"
   ]
  },
  {
   "cell_type": "code",
   "execution_count": 52,
   "id": "672d7523",
   "metadata": {},
   "outputs": [
    {
     "name": "stdout",
     "output_type": "stream",
     "text": [
      "this is\n",
      "is python\n",
      "python script\n"
     ]
    }
   ],
   "source": [
    "# 2-gram with zip\n",
    "\n",
    "text = 'this is python script'\n",
    "\n",
    "words = text.split()\n",
    "\n",
    "two_gram_words = list(zip(words, words[1:]))\n",
    "\n",
    "for i in two_gram_words:\n",
    "    print(i[0], i[1], sep=' ')"
   ]
  },
  {
   "cell_type": "code",
   "execution_count": 54,
   "id": "d115bf6f",
   "metadata": {},
   "outputs": [
    {
     "data": {
      "text/plain": [
       "[('h', 'e', 'l'), ('e', 'l', 'l'), ('l', 'l', 'o')]"
      ]
     },
     "execution_count": 54,
     "metadata": {},
     "output_type": "execute_result"
    }
   ],
   "source": [
    "text = 'hello'\n",
    "\n",
    "list(zip(*[text[i:] for i in range(3)]))"
   ]
  },
  {
   "cell_type": "markdown",
   "id": "b9bff7f0",
   "metadata": {},
   "source": [
    "## 28.3 Exercose: N-gram words\n",
    "\n",
    "Creates a program that prints the N-gram of the word unit corresponding to the number entered as a tuple(using the list expression). If number of words in the input string is less than the input integer, print 'wrong'.\n",
    "\n",
    "소스 코드를 완성하여 입력된 숫자에 해당하는 단어 단위 N-gram을 튜플로 출력하세요(리스트 표현식 사용). 만약 입력된 문자열의 단어 개수가 입력된 정수 미만이라면 'wrong'을 출력하세요."
   ]
  },
  {
   "cell_type": "code",
   "execution_count": 57,
   "id": "8ef402c2",
   "metadata": {},
   "outputs": [
    {
     "name": "stdout",
     "output_type": "stream",
     "text": [
      "7\n",
      "Python is a programming language that lets you work quickly\n",
      "('Python', 'is', 'a', 'programming', 'language', 'that', 'lets')\n",
      "('is', 'a', 'programming', 'language', 'that', 'lets', 'you')\n",
      "('a', 'programming', 'language', 'that', 'lets', 'you', 'work')\n",
      "('programming', 'language', 'that', 'lets', 'you', 'work', 'quickly')\n"
     ]
    }
   ],
   "source": [
    "n = int(input())\n",
    "text = input()\n",
    "words = text.split()\n",
    "\n",
    "if (n > len(words)):\n",
    "    print('wrong')\n",
    "else:\n",
    "    n_gram = zip(*[words[i:] for i in range(n)])\n",
    "    for i in n_gram:\n",
    "        print(i)"
   ]
  },
  {
   "cell_type": "code",
   "execution_count": 58,
   "id": "2163c06d",
   "metadata": {},
   "outputs": [
    {
     "name": "stdout",
     "output_type": "stream",
     "text": [
      "7\n",
      "Python is good\n",
      "wrong\n"
     ]
    }
   ],
   "source": [
    "n = int(input())\n",
    "text = input()\n",
    "words = text.split()\n",
    "\n",
    "if (n > len(words)):\n",
    "    print('wrong')\n",
    "else:\n",
    "    n_gram = zip(*[words[i:] for i in range(n)])\n",
    "    for i in n_gram:\n",
    "        print(i)"
   ]
  },
  {
   "cell_type": "markdown",
   "id": "0946d277",
   "metadata": {},
   "source": [
    "## 28.4 Problem: Prints words that are palindromes from the file\n",
    "\n",
    "Create a program that prints words that are palindromes on each line from the file. When printing words, you must print them in the order in which they appear. And since the word you read from the file has `\\n` attached, you should exclude `\\n` and determine if it is a palindromic statement, and when you print the word, it should not be printed.\n",
    "\n",
    "파일에서 회문인 단어를 각 줄에 출력하는 프로그램을 만드세요. 단어를 출력할 때는 등장한 순서대로 출력해야 합니다. 그리고 파일에서 읽은 단어는 `\\n`이 붙어있으므로 `\\n`을 제외한 뒤 회문인지 판단해야 하며 단어를 출력할 때도 `\\n`이 출력되면 안 됩니다. (단어 사이에 줄바꿈이 두 번 일어나면 안 됨)."
   ]
  },
  {
   "cell_type": "code",
   "execution_count": 63,
   "id": "763a147f",
   "metadata": {},
   "outputs": [
    {
     "name": "stdout",
     "output_type": "stream",
     "text": [
      "did\n",
      "noon\n",
      "refer\n"
     ]
    }
   ],
   "source": [
    "with open('words(28.4).txt', 'r') as file:\n",
    "    words = file.readlines()    \n",
    "    for word in words:\n",
    "        word = word.strip('\\n')\n",
    "        if word == word[::-1]:\n",
    "            print(word)"
   ]
  },
  {
   "cell_type": "markdown",
   "id": "e8ae49e0",
   "metadata": {},
   "source": [
    "## Summary\n",
    "\n",
    "### File Modes\n",
    "\n",
    "Mode | Functon | Description\n",
    ":---|:---|:---\n",
    "`'r'` | Reading mode | Opens a file for reading, error if the file does not exist\n",
    "`'w'` | Writing mode | Opens a file for writing, creates the file if it does not exist\n",
    "`'a'` | Append mode | Opens a file for appending, creates the file if it does not exist\n",
    "`'x'` | Create mode | Creates the specified file, returns an error if the file exists\n",
    "`'r+'` | Reading mode + Writing mode | Reads and writes into files at the same time without having to use `'r'` and `'w'`\n",
    "`'w+'` | Writing and Reading mode | The exact same as `'r+'` but if the file does not exist, a new one is made. Otherwise, the file is overwritten\n",
    "`'a+'` | Appending and Reading mode | Similar to `'w+'` as it will create a new file if the file does not exist. Otherwise, the file pointer is at the end of the file if it exists.\n",
    "`'x+'` | Reading and Writing mode | Similar to `'w+'` as it will create a new file if the file does not exist. Otherwise, will raise `FileExistsError`.\n",
    "`t` | Text | Default value. Text mode\n",
    "`b` | Binary | Binary mode (e.g. images)\n",
    "\n",
    "\n",
    "Mode | `r` | `r+` | `w` | `w+` | `a` | `a+`\n",
    " :---|:---:|:---:|:---:|:---:|:---:|:---:\n",
    " Read | O | O | X | O | X | O\n",
    " Write | X | O | O | O | O | O\n",
    " Creates file | X | X | O | O | O | O\n",
    " Erase file | X | X | O | O | X | X\n",
    " Initial position | Start | Start | Start | Start | End | End\n",
    " \n",
    " Mode | `x` | `x+`\n",
    " :---|:---:|:---|\n",
    " Read | X | O\n",
    " Write | O | O\n",
    " Creates file | O | O\n",
    " Erases file | X | X\n",
    " Initial position | Start | Start\n",
    " \n",
    " ### File methods\n",
    " \n",
    "Method | Description\n",
    ":---|:---\n",
    "`read()` | Returns the file content\n",
    "`write(str)` | Writes the specified string to the file\n",
    "`readline()` | Returns one line from the file\n",
    "`readlines()` | Returns a list of lines from the file\n",
    "`writelines(sequence)` | Writes a list of strings to the file\n",
    "`pickle.load(file)` | Read the pickled representation of an object from the open file object file and return the reconstituted object hierarchy specified therein.\n",
    "`pickle.dump(object, file)` | Write the pickled representation of the object obj to the open file object file"
   ]
  },
  {
   "cell_type": "code",
   "execution_count": null,
   "id": "6a8d791e",
   "metadata": {},
   "outputs": [],
   "source": []
  }
 ],
 "metadata": {
  "kernelspec": {
   "display_name": "Python 3",
   "language": "python",
   "name": "python3"
  },
  "language_info": {
   "codemirror_mode": {
    "name": "ipython",
    "version": 3
   },
   "file_extension": ".py",
   "mimetype": "text/x-python",
   "name": "python",
   "nbconvert_exporter": "python",
   "pygments_lexer": "ipython3",
   "version": "3.9.2"
  }
 },
 "nbformat": 4,
 "nbformat_minor": 5
}

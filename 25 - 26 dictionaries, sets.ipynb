{
 "cells": [
  {
   "cell_type": "markdown",
   "id": "8688d3be",
   "metadata": {},
   "source": [
    "# Dictionaries"
   ]
  },
  {
   "cell_type": "markdown",
   "id": "4b5dfeb8",
   "metadata": {},
   "source": [
    "## `setdefault()`, `update()`"
   ]
  },
  {
   "cell_type": "code",
   "execution_count": 2,
   "id": "26c95895",
   "metadata": {},
   "outputs": [
    {
     "data": {
      "text/plain": [
       "{'a': 10, 'b': 20, 'c': 30, 'd': 40, 'e': None}"
      ]
     },
     "execution_count": 2,
     "metadata": {},
     "output_type": "execute_result"
    }
   ],
   "source": [
    "d1 = {'a': 10, 'b': 20, 'c': 30, 'd': 40}\n",
    "d1.setdefault('e')\n",
    "d1"
   ]
  },
  {
   "cell_type": "code",
   "execution_count": 4,
   "id": "a522c276",
   "metadata": {},
   "outputs": [
    {
     "data": {
      "text/plain": [
       "{'a': 10, 'b': 20, 'c': 30, 'd': 40, 'e': None, 'f': 50}"
      ]
     },
     "execution_count": 4,
     "metadata": {},
     "output_type": "execute_result"
    }
   ],
   "source": [
    "d1.setdefault('f', 50)\n",
    "d1"
   ]
  },
  {
   "cell_type": "code",
   "execution_count": 5,
   "id": "56342c03",
   "metadata": {},
   "outputs": [
    {
     "data": {
      "text/plain": [
       "{'a': 15, 'b': 20, 'c': 30, 'd': 40, 'e': None, 'f': 50}"
      ]
     },
     "execution_count": 5,
     "metadata": {},
     "output_type": "execute_result"
    }
   ],
   "source": [
    "d1.update(a=15)\n",
    "d1"
   ]
  },
  {
   "cell_type": "code",
   "execution_count": 6,
   "id": "e6408c40",
   "metadata": {},
   "outputs": [
    {
     "data": {
      "text/plain": [
       "{'a': 15, 'b': 20, 'c': 30, 'd': 40, 'e': 45, 'f': 50}"
      ]
     },
     "execution_count": 6,
     "metadata": {},
     "output_type": "execute_result"
    }
   ],
   "source": [
    "d1.update(e=45)\n",
    "d1"
   ]
  },
  {
   "cell_type": "code",
   "execution_count": 7,
   "id": "129d70cb",
   "metadata": {},
   "outputs": [
    {
     "data": {
      "text/plain": [
       "{'a': 15, 'b': 25, 'c': 35, 'd': 40, 'e': 45, 'f': 55}"
      ]
     },
     "execution_count": 7,
     "metadata": {},
     "output_type": "execute_result"
    }
   ],
   "source": [
    "d1.update(b=25, c=35, f=55)\n",
    "d1"
   ]
  },
  {
   "cell_type": "code",
   "execution_count": 11,
   "id": "4796d8ce",
   "metadata": {},
   "outputs": [],
   "source": [
    "# when key value is not string\n",
    "d2 = {1: 'one', 2: 'two'}"
   ]
  },
  {
   "cell_type": "code",
   "execution_count": 12,
   "id": "c688aa6a",
   "metadata": {},
   "outputs": [
    {
     "ename": "SyntaxError",
     "evalue": "expression cannot contain assignment, perhaps you meant \"==\"? (<ipython-input-12-acaa717c17df>, line 1)",
     "output_type": "error",
     "traceback": [
      "\u001b[1;36m  File \u001b[1;32m\"<ipython-input-12-acaa717c17df>\"\u001b[1;36m, line \u001b[1;32m1\u001b[0m\n\u001b[1;33m    d2.update(1='ONE')\u001b[0m\n\u001b[1;37m              ^\u001b[0m\n\u001b[1;31mSyntaxError\u001b[0m\u001b[1;31m:\u001b[0m expression cannot contain assignment, perhaps you meant \"==\"?\n"
     ]
    }
   ],
   "source": [
    "d2.update(1='ONE')\n",
    "d2"
   ]
  },
  {
   "cell_type": "code",
   "execution_count": 13,
   "id": "dfac4e0a",
   "metadata": {},
   "outputs": [
    {
     "data": {
      "text/plain": [
       "{1: 'ONE', 2: 'TWO', 3: 'THREE'}"
      ]
     },
     "execution_count": 13,
     "metadata": {},
     "output_type": "execute_result"
    }
   ],
   "source": [
    "d2.update({1: 'ONE' , 2: 'TWO', 3: 'THREE'})\n",
    "d2"
   ]
  },
  {
   "cell_type": "code",
   "execution_count": 14,
   "id": "379386d0",
   "metadata": {},
   "outputs": [
    {
     "data": {
      "text/plain": [
       "{1: 'ONE', 2: 'Two', 3: 'Three', 4: 'Four'}"
      ]
     },
     "execution_count": 14,
     "metadata": {},
     "output_type": "execute_result"
    }
   ],
   "source": [
    "# or\n",
    "d2.update([[2, 'Two'], [3, 'Three'], [4, 'Four']])\n",
    "d2"
   ]
  },
  {
   "cell_type": "code",
   "execution_count": 15,
   "id": "44e2493d",
   "metadata": {},
   "outputs": [
    {
     "data": {
      "text/plain": [
       "{1: 'One', 2: 'Two', 3: 'Three', 4: 'Four', 5: 'Five'}"
      ]
     },
     "execution_count": 15,
     "metadata": {},
     "output_type": "execute_result"
    }
   ],
   "source": [
    "#or\n",
    "d2.update(zip([1,5], ['One', 'Five']))\n",
    "d2"
   ]
  },
  {
   "cell_type": "code",
   "execution_count": 16,
   "id": "e75463ed",
   "metadata": {},
   "outputs": [
    {
     "data": {
      "text/plain": [
       "{1: 'One', 2: 'Two', 3: 'Three', 4: 'Four', 5: 'Five'}"
      ]
     },
     "execution_count": 16,
     "metadata": {},
     "output_type": "execute_result"
    }
   ],
   "source": [
    "# setdefault() cannot change the current value\n",
    "d2.setdefault(1, 'O N E')\n",
    "d2"
   ]
  },
  {
   "cell_type": "markdown",
   "id": "7d3aebad",
   "metadata": {},
   "source": [
    "`dict` + `dict` = ?"
   ]
  },
  {
   "cell_type": "code",
   "execution_count": 46,
   "id": "4abf3996",
   "metadata": {},
   "outputs": [
    {
     "data": {
      "text/plain": [
       "{'a': 10, 'b': 20, 'c': 30, 'd': 40}"
      ]
     },
     "execution_count": 46,
     "metadata": {},
     "output_type": "execute_result"
    }
   ],
   "source": [
    "aa = {'a': 10, 'b': 20}\n",
    "bb = {'c': 30, 'd': 40}\n",
    "aa.update(bb)\n",
    "aa"
   ]
  },
  {
   "cell_type": "markdown",
   "id": "941c08b8",
   "metadata": {},
   "source": [
    "## `pop()`"
   ]
  },
  {
   "cell_type": "code",
   "execution_count": 19,
   "id": "3b6bc788",
   "metadata": {},
   "outputs": [
    {
     "data": {
      "text/plain": [
       "{'b': 20, 'c': 30, 'd': 40}"
      ]
     },
     "execution_count": 19,
     "metadata": {},
     "output_type": "execute_result"
    }
   ],
   "source": [
    "d3 = {'a': 10, 'b': 20, 'c': 30, 'd': 40}\n",
    "d3.pop('a')\n",
    "d3"
   ]
  },
  {
   "cell_type": "code",
   "execution_count": 20,
   "id": "26933287",
   "metadata": {},
   "outputs": [
    {
     "data": {
      "text/plain": [
       "{'b': 20, 'c': 30, 'd': 40}"
      ]
     },
     "execution_count": 20,
     "metadata": {},
     "output_type": "execute_result"
    }
   ],
   "source": [
    "d3 = {'a': 10, 'b': 20, 'c': 30, 'd': 40}\n",
    "del d3['a']\n",
    "d3"
   ]
  },
  {
   "cell_type": "markdown",
   "id": "60cf8ef8",
   "metadata": {},
   "source": [
    "## `popitem()`"
   ]
  },
  {
   "cell_type": "code",
   "execution_count": 21,
   "id": "5d2aa49a",
   "metadata": {},
   "outputs": [
    {
     "data": {
      "text/plain": [
       "{'a': 10, 'b': 20, 'c': 30}"
      ]
     },
     "execution_count": 21,
     "metadata": {},
     "output_type": "execute_result"
    }
   ],
   "source": [
    "d3 = {'a': 10, 'b': 20, 'c': 30, 'd': 40}\n",
    "d3.popitem()\n",
    "d3"
   ]
  },
  {
   "cell_type": "markdown",
   "id": "5118bead",
   "metadata": {},
   "source": [
    "## `clear()`"
   ]
  },
  {
   "cell_type": "code",
   "execution_count": 22,
   "id": "a59a11fa",
   "metadata": {},
   "outputs": [
    {
     "data": {
      "text/plain": [
       "{}"
      ]
     },
     "execution_count": 22,
     "metadata": {},
     "output_type": "execute_result"
    }
   ],
   "source": [
    "d3 = {'a': 10, 'b': 20, 'c': 30, 'd': 40}\n",
    "d3.clear()\n",
    "d3"
   ]
  },
  {
   "cell_type": "markdown",
   "id": "af9b6d01",
   "metadata": {},
   "source": [
    "## `get()`"
   ]
  },
  {
   "cell_type": "code",
   "execution_count": 23,
   "id": "3a852633",
   "metadata": {},
   "outputs": [
    {
     "data": {
      "text/plain": [
       "10"
      ]
     },
     "execution_count": 23,
     "metadata": {},
     "output_type": "execute_result"
    }
   ],
   "source": [
    "d3 = {'a': 10, 'b': 20, 'c': 30, 'd': 40}\n",
    "d3.get('a')"
   ]
  },
  {
   "cell_type": "code",
   "execution_count": 24,
   "id": "f80bd714",
   "metadata": {},
   "outputs": [
    {
     "data": {
      "text/plain": [
       "110"
      ]
     },
     "execution_count": 24,
     "metadata": {},
     "output_type": "execute_result"
    }
   ],
   "source": [
    "d3.get('z', 110)"
   ]
  },
  {
   "cell_type": "markdown",
   "id": "7b396d44",
   "metadata": {},
   "source": [
    "## `items()`, `keys()`, `values()`"
   ]
  },
  {
   "cell_type": "code",
   "execution_count": 27,
   "id": "569febfa",
   "metadata": {},
   "outputs": [
    {
     "data": {
      "text/plain": [
       "dict_items([('a', 10), ('b', 20), ('c', 30), ('d', 40)])"
      ]
     },
     "execution_count": 27,
     "metadata": {},
     "output_type": "execute_result"
    }
   ],
   "source": [
    "d3 = {'a': 10, 'b': 20, 'c': 30, 'd': 40}\n",
    "d3.items()"
   ]
  },
  {
   "cell_type": "code",
   "execution_count": 28,
   "id": "a6ef80f2",
   "metadata": {},
   "outputs": [
    {
     "data": {
      "text/plain": [
       "dict_keys(['a', 'b', 'c', 'd'])"
      ]
     },
     "execution_count": 28,
     "metadata": {},
     "output_type": "execute_result"
    }
   ],
   "source": [
    "d3.keys()"
   ]
  },
  {
   "cell_type": "code",
   "execution_count": 29,
   "id": "48a0b20b",
   "metadata": {},
   "outputs": [
    {
     "data": {
      "text/plain": [
       "dict_values([10, 20, 30, 40])"
      ]
     },
     "execution_count": 29,
     "metadata": {},
     "output_type": "execute_result"
    }
   ],
   "source": [
    "d3.values()"
   ]
  },
  {
   "cell_type": "markdown",
   "id": "b9fd2a81",
   "metadata": {},
   "source": [
    "## `dict.fromkeys(keylist)`"
   ]
  },
  {
   "cell_type": "code",
   "execution_count": 30,
   "id": "43d3986a",
   "metadata": {},
   "outputs": [
    {
     "data": {
      "text/plain": [
       "{'a': None, 'b': None, 'c': None, 'd': None}"
      ]
     },
     "execution_count": 30,
     "metadata": {},
     "output_type": "execute_result"
    }
   ],
   "source": [
    "keys = ['a', 'b', 'c', 'd']\n",
    "d4 = dict.fromkeys(keys)\n",
    "d4"
   ]
  },
  {
   "cell_type": "code",
   "execution_count": 31,
   "id": "3bf2c23f",
   "metadata": {},
   "outputs": [
    {
     "data": {
      "text/plain": [
       "{'a': 100, 'b': 100, 'c': 100, 'd': 100}"
      ]
     },
     "execution_count": 31,
     "metadata": {},
     "output_type": "execute_result"
    }
   ],
   "source": [
    "d5 = dict.fromkeys(keys, 100)\n",
    "d5"
   ]
  },
  {
   "cell_type": "markdown",
   "id": "7642422e",
   "metadata": {},
   "source": [
    "## `defaultdict()`"
   ]
  },
  {
   "cell_type": "code",
   "execution_count": 35,
   "id": "7158b838",
   "metadata": {},
   "outputs": [
    {
     "data": {
      "text/plain": [
       "0"
      ]
     },
     "execution_count": 35,
     "metadata": {},
     "output_type": "execute_result"
    }
   ],
   "source": [
    "from collections import defaultdict\n",
    "d6 = defaultdict(int)\n",
    "d6['a']"
   ]
  },
  {
   "cell_type": "code",
   "execution_count": 34,
   "id": "d9a9b56a",
   "metadata": {},
   "outputs": [
    {
     "data": {
      "text/plain": [
       "'python'"
      ]
     },
     "execution_count": 34,
     "metadata": {},
     "output_type": "execute_result"
    }
   ],
   "source": [
    "d7 = defaultdict(lambda: 'python')\n",
    "d7['a']"
   ]
  },
  {
   "cell_type": "code",
   "execution_count": 36,
   "id": "2713d780",
   "metadata": {},
   "outputs": [
    {
     "data": {
      "text/plain": [
       "35"
      ]
     },
     "execution_count": 36,
     "metadata": {},
     "output_type": "execute_result"
    }
   ],
   "source": [
    "d7 = defaultdict(lambda: 35)\n",
    "d7['a']"
   ]
  },
  {
   "cell_type": "markdown",
   "id": "cd556882",
   "metadata": {},
   "source": [
    "## prints with `for`"
   ]
  },
  {
   "cell_type": "code",
   "execution_count": 37,
   "id": "27744948",
   "metadata": {},
   "outputs": [
    {
     "name": "stdout",
     "output_type": "stream",
     "text": [
      "a b c d "
     ]
    }
   ],
   "source": [
    "d8 = {'a': 10, 'b': 20, 'c': 30, 'd': 40}\n",
    "for i in d8:\n",
    "    print(i, end=' ')"
   ]
  },
  {
   "cell_type": "code",
   "execution_count": 39,
   "id": "922a2eaf",
   "metadata": {},
   "outputs": [
    {
     "name": "stdout",
     "output_type": "stream",
     "text": [
      "a 10 b 20 c 30 d 40 "
     ]
    }
   ],
   "source": [
    "for key, value in d8.items():\n",
    "    print(key, value, end= ' ')"
   ]
  },
  {
   "cell_type": "code",
   "execution_count": 40,
   "id": "22526822",
   "metadata": {},
   "outputs": [
    {
     "name": "stdout",
     "output_type": "stream",
     "text": [
      "a b c d "
     ]
    }
   ],
   "source": [
    "for key in d8.keys():\n",
    "    print(key, end= ' ')"
   ]
  },
  {
   "cell_type": "code",
   "execution_count": 41,
   "id": "d1de5e80",
   "metadata": {},
   "outputs": [
    {
     "name": "stdout",
     "output_type": "stream",
     "text": [
      "10 20 30 40 "
     ]
    }
   ],
   "source": [
    "for value in d8.values():\n",
    "    print(value, end=' ')"
   ]
  },
  {
   "cell_type": "code",
   "execution_count": 51,
   "id": "3936f640",
   "metadata": {},
   "outputs": [
    {
     "data": {
      "text/plain": [
       "{'a': None, 'b': None, 'c': None, 'd': None}"
      ]
     },
     "execution_count": 51,
     "metadata": {},
     "output_type": "execute_result"
    }
   ],
   "source": [
    "keys = ['a', 'b', 'c', 'd']\n",
    "\n",
    "{key: value for key, value in dict.fromkeys(keys).items()}"
   ]
  },
  {
   "cell_type": "code",
   "execution_count": 48,
   "id": "88d78dfe",
   "metadata": {},
   "outputs": [
    {
     "data": {
      "text/plain": [
       "{'a': 0, 'b': 0, 'c': 0, 'd': 0}"
      ]
     },
     "execution_count": 48,
     "metadata": {},
     "output_type": "execute_result"
    }
   ],
   "source": [
    "{key: 0 for key in dict.fromkeys(keys).keys()}"
   ]
  },
  {
   "cell_type": "code",
   "execution_count": 49,
   "id": "a36f5d23",
   "metadata": {},
   "outputs": [
    {
     "data": {
      "text/plain": [
       "{10: 0, 20: 0, 30: 0, 40: 0}"
      ]
     },
     "execution_count": 49,
     "metadata": {},
     "output_type": "execute_result"
    }
   ],
   "source": [
    "{value: 0 for value in {'a': 10, 'b': 20, 'c': 30, 'd': 40}.values()} "
   ]
  },
  {
   "cell_type": "code",
   "execution_count": 50,
   "id": "e9f46c47",
   "metadata": {},
   "outputs": [
    {
     "data": {
      "text/plain": [
       "{10: 'a', 20: 'b', 30: 'c', 40: 'd'}"
      ]
     },
     "execution_count": 50,
     "metadata": {},
     "output_type": "execute_result"
    }
   ],
   "source": [
    "{value: key for key, value in {'a': 10, 'b': 20, 'c': 30, 'd': 40}.items()}"
   ]
  },
  {
   "cell_type": "code",
   "execution_count": 53,
   "id": "306cc21e",
   "metadata": {},
   "outputs": [
    {
     "data": {
      "text/plain": [
       "{'a': 10, 'c': 30, 'd': 40}"
      ]
     },
     "execution_count": 53,
     "metadata": {},
     "output_type": "execute_result"
    }
   ],
   "source": [
    "# delete the key with a value of 20\n",
    "d9 = {'a': 10, 'b': 20, 'c': 30, 'd': 40}\n",
    "d9 = {key: value for key, value in d9.items() if value != 20}\n",
    "d9"
   ]
  },
  {
   "cell_type": "markdown",
   "id": "cce6f6cb",
   "metadata": {},
   "source": [
    "## dictionaries in dictionaries"
   ]
  },
  {
   "cell_type": "code",
   "execution_count": 54,
   "id": "211f007a",
   "metadata": {},
   "outputs": [
    {
     "name": "stdout",
     "output_type": "stream",
     "text": [
      "6051.8\n"
     ]
    }
   ],
   "source": [
    "terrestrial_planet = {\n",
    "    'Mercury': {\n",
    "        'mean_radius': 2439.7,\n",
    "        'mass': 3.3022E+23,\n",
    "        'orbital_period': 87.969\n",
    "    },\n",
    "    'Venus': {\n",
    "        'mean_radius': 6051.8,\n",
    "        'mass': 4.8676E+24,\n",
    "        'orbital_period': 224.70069,\n",
    "    },\n",
    "    'Earth': {\n",
    "        'mean_radius': 6371.0,\n",
    "        'mass': 5.97219E+24,\n",
    "        'orbital_period': 365.25641,\n",
    "    },\n",
    "    'Mars': {\n",
    "        'mean_radius': 3389.5,\n",
    "        'mass': 6.4185E+23,\n",
    "        'orbital_period': 686.9600,\n",
    "    }\n",
    "}\n",
    " \n",
    "print(terrestrial_planet['Venus']['mean_radius'])    # 6051.8"
   ]
  },
  {
   "cell_type": "markdown",
   "id": "2ed09fb1",
   "metadata": {},
   "source": [
    "## `copy()`, `copy.deepcopy()`"
   ]
  },
  {
   "cell_type": "code",
   "execution_count": 64,
   "id": "bbe8c63f",
   "metadata": {},
   "outputs": [
    {
     "name": "stdout",
     "output_type": "stream",
     "text": [
      "d11 is d10: True\n",
      "d10: {'a': 10, 'b': 0, 'c': 0, 'd': 0}\n",
      "d11: {'a': 10, 'b': 0, 'c': 0, 'd': 0}\n"
     ]
    }
   ],
   "source": [
    "d10 = {'a': 0, 'b': 0, 'c': 0, 'd': 0}\n",
    "d11 = d10\n",
    "\n",
    "print('d11 is d10:', d11 is d10)\n",
    "\n",
    "d11['a'] = 10\n",
    "print('d10:', d10)\n",
    "print('d11:', d11)"
   ]
  },
  {
   "cell_type": "code",
   "execution_count": 65,
   "id": "c1d294ab",
   "metadata": {},
   "outputs": [
    {
     "name": "stdout",
     "output_type": "stream",
     "text": [
      "d12 is d13: False\n",
      "d12 == d13: True\n",
      "d12: {'a': 0, 'b': 0, 'c': 0, 'd': 0}\n",
      "d13: {'a': 11, 'b': 0, 'c': 0, 'd': 0}\n"
     ]
    }
   ],
   "source": [
    "d12 = {'a': 0, 'b': 0, 'c': 0, 'd': 0}\n",
    "d13 = d12.copy()\n",
    "\n",
    "print('d12 is d13:', d12 is d13)\n",
    "print('d12 == d13:', d12 == d13)\n",
    "\n",
    "d13['a'] = 11\n",
    "print('d12:', d12)\n",
    "print('d13:', d13)"
   ]
  },
  {
   "cell_type": "code",
   "execution_count": 66,
   "id": "47659476",
   "metadata": {},
   "outputs": [
    {
     "name": "stdout",
     "output_type": "stream",
     "text": [
      "d14: {'a': {'python': '2.7.1'}, 'b': {'python': '3.6'}}\n",
      "d15: {'a': {'python': '2.7.1'}, 'b': {'python': '3.6'}}\n"
     ]
    }
   ],
   "source": [
    "d14 = {'a': {'python': '2.7'}, 'b': {'python': '3.6'}}\n",
    "d15 = d14.copy()\n",
    "\n",
    "d15['a']['python'] = '2.7.1'\n",
    "\n",
    "print('d14:', d14)\n",
    "print('d15:', d15)"
   ]
  },
  {
   "cell_type": "code",
   "execution_count": 67,
   "id": "3d84fde8",
   "metadata": {},
   "outputs": [
    {
     "name": "stdout",
     "output_type": "stream",
     "text": [
      "d16: {'a': {'python': '2.7'}, 'b': {'python': '3.6'}}\n",
      "d17: {'a': {'python': '2.7.1'}, 'b': {'python': '3.6'}}\n"
     ]
    }
   ],
   "source": [
    "d16 = {'a': {'python': '2.7'}, 'b': {'python': '3.6'}}\n",
    "import copy\n",
    "d17 = copy.deepcopy(d16)\n",
    "\n",
    "d17['a']['python'] = '2.7.1'\n",
    "\n",
    "print('d16:', d16)\n",
    "print('d17:', d17)"
   ]
  },
  {
   "cell_type": "markdown",
   "id": "0c8b3194",
   "metadata": {},
   "source": [
    "## 25.7 Exercise: Average Score\n",
    "\n",
    "`maria = {'korean': 94, 'english': 91, 'mathematics': 89, 'science': 83}`"
   ]
  },
  {
   "cell_type": "code",
   "execution_count": 68,
   "id": "e4654071",
   "metadata": {},
   "outputs": [
    {
     "name": "stdout",
     "output_type": "stream",
     "text": [
      "89.25\n"
     ]
    }
   ],
   "source": [
    "maria = {'korean': 94, 'english': 91, 'mathematics': 89, 'science': 83}\n",
    "\n",
    "average = sum(maria.values()) / len(maria)\n",
    "print(average)"
   ]
  },
  {
   "cell_type": "markdown",
   "id": "3615aebd",
   "metadata": {},
   "source": [
    "## 25.8 Problem: Delete specific values in the dict\n",
    "\n",
    "Create a program that deletes the data with a key of 'delta' or a value of '30' from the dict.\n",
    "\n",
    "표준 입력으로 문자열 여러 개와 숫자 여러 개가 두 줄로 입력되고, 첫 번째 줄은 키, 두 번째 줄은 값으로 하여 딕셔너리를 생성합니다. 코드를 완성하여 딕셔너리에서 키가 'delta'인 키-값 쌍과 값이 30인 키-값 쌍을 삭제하도록 만드세요."
   ]
  },
  {
   "cell_type": "code",
   "execution_count": 76,
   "id": "51f1b10d",
   "metadata": {},
   "outputs": [
    {
     "name": "stdout",
     "output_type": "stream",
     "text": [
      "alpha bravo charlie delta echo foxtrot golf\n",
      "30 40 50 60 70 80 90\n",
      "{'bravo': 40, 'charlie': 50, 'echo': 70, 'foxtrot': 80, 'golf': 90}\n"
     ]
    }
   ],
   "source": [
    "keys = input().split()\n",
    "values = map(int, input().split())\n",
    "\n",
    "x = dict(zip(keys, values))\n",
    "\n",
    "del x['delta'] #or x.pop('delta')\n",
    "x = {key: value for key, value in x.items() if value != 30}\n",
    "\n",
    "# or\n",
    "#x = {key: value for key, value in x.items() if key != 'delta' and value != 30}\n",
    "    \n",
    "print(x)"
   ]
  },
  {
   "cell_type": "markdown",
   "id": "3e987749",
   "metadata": {},
   "source": [
    "# Sets"
   ]
  },
  {
   "cell_type": "code",
   "execution_count": 84,
   "id": "a68f9d05",
   "metadata": {},
   "outputs": [
    {
     "data": {
      "text/plain": [
       "{'cherry', 'grape', 'orange', 'pineapple', 'strawberry'}"
      ]
     },
     "execution_count": 84,
     "metadata": {},
     "output_type": "execute_result"
    }
   ],
   "source": [
    "fruits_1 = {'strawberry', 'grape', 'orange', 'pineapple', 'cherry'}\n",
    "fruits_1"
   ]
  },
  {
   "cell_type": "code",
   "execution_count": 85,
   "id": "e6948cc7",
   "metadata": {},
   "outputs": [
    {
     "data": {
      "text/plain": [
       "{'cherry', 'orange'}"
      ]
     },
     "execution_count": 85,
     "metadata": {},
     "output_type": "execute_result"
    }
   ],
   "source": [
    "fruits_2 = {'orange', 'cherry', 'orange'}\n",
    "fruits_2"
   ]
  },
  {
   "cell_type": "code",
   "execution_count": 86,
   "id": "bcfe9cfa",
   "metadata": {},
   "outputs": [
    {
     "ename": "TypeError",
     "evalue": "'set' object is not subscriptable",
     "output_type": "error",
     "traceback": [
      "\u001b[1;31m---------------------------------------------------------------------------\u001b[0m",
      "\u001b[1;31mTypeError\u001b[0m                                 Traceback (most recent call last)",
      "\u001b[1;32m<ipython-input-86-6c2e05d3f76b>\u001b[0m in \u001b[0;36m<module>\u001b[1;34m\u001b[0m\n\u001b[1;32m----> 1\u001b[1;33m \u001b[0mfruits_1\u001b[0m\u001b[1;33m[\u001b[0m\u001b[1;36m0\u001b[0m\u001b[1;33m]\u001b[0m\u001b[1;33m\u001b[0m\u001b[1;33m\u001b[0m\u001b[0m\n\u001b[0m",
      "\u001b[1;31mTypeError\u001b[0m: 'set' object is not subscriptable"
     ]
    }
   ],
   "source": [
    "fruits_1[0]"
   ]
  },
  {
   "cell_type": "code",
   "execution_count": 90,
   "id": "c4149bf5",
   "metadata": {},
   "outputs": [
    {
     "data": {
      "text/plain": [
       "True"
      ]
     },
     "execution_count": 90,
     "metadata": {},
     "output_type": "execute_result"
    }
   ],
   "source": [
    "'grape' in fruits_1"
   ]
  },
  {
   "cell_type": "code",
   "execution_count": 91,
   "id": "d8c24937",
   "metadata": {},
   "outputs": [
    {
     "data": {
      "text/plain": [
       "False"
      ]
     },
     "execution_count": 91,
     "metadata": {},
     "output_type": "execute_result"
    }
   ],
   "source": [
    "'grape' in fruits_2"
   ]
  },
  {
   "cell_type": "code",
   "execution_count": 92,
   "id": "cd5256bf",
   "metadata": {},
   "outputs": [
    {
     "data": {
      "text/plain": [
       "{'a', 'e', 'l', 'p'}"
      ]
     },
     "execution_count": 92,
     "metadata": {},
     "output_type": "execute_result"
    }
   ],
   "source": [
    "s1 = set('apple')\n",
    "s1"
   ]
  },
  {
   "cell_type": "code",
   "execution_count": 93,
   "id": "1833b347",
   "metadata": {},
   "outputs": [
    {
     "data": {
      "text/plain": [
       "{0, 1, 2, 3, 4}"
      ]
     },
     "execution_count": 93,
     "metadata": {},
     "output_type": "execute_result"
    }
   ],
   "source": [
    "s2 = set(range(5))\n",
    "s2"
   ]
  },
  {
   "cell_type": "code",
   "execution_count": 95,
   "id": "ed821a93",
   "metadata": {},
   "outputs": [
    {
     "name": "stdout",
     "output_type": "stream",
     "text": [
      "<class 'dict'>\n",
      "<class 'set'>\n"
     ]
    }
   ],
   "source": [
    "print(type({}))\n",
    "print(type(set()))"
   ]
  },
  {
   "cell_type": "code",
   "execution_count": 100,
   "id": "06873a28",
   "metadata": {},
   "outputs": [
    {
     "name": "stdout",
     "output_type": "stream",
     "text": [
      "{'갑', '정', '습', '.', '만', '진', '니', '입', '말', ' ', '서', '로', '반', '심', '나', '다'}\n"
     ]
    }
   ],
   "source": [
    "print(set('만나서 정말로 반갑습니다. 진심입니다.'))"
   ]
  },
  {
   "cell_type": "code",
   "execution_count": 103,
   "id": "acf77762",
   "metadata": {},
   "outputs": [
    {
     "ename": "TypeError",
     "evalue": "unhashable type: 'set'",
     "output_type": "error",
     "traceback": [
      "\u001b[1;31m---------------------------------------------------------------------------\u001b[0m",
      "\u001b[1;31mTypeError\u001b[0m                                 Traceback (most recent call last)",
      "\u001b[1;32m<ipython-input-103-9b9e8a370c1c>\u001b[0m in \u001b[0;36m<module>\u001b[1;34m\u001b[0m\n\u001b[0;32m      1\u001b[0m \u001b[1;31m# sets in sets XXXXX\u001b[0m\u001b[1;33m\u001b[0m\u001b[1;33m\u001b[0m\u001b[1;33m\u001b[0m\u001b[0m\n\u001b[1;32m----> 2\u001b[1;33m \u001b[0ms3\u001b[0m \u001b[1;33m=\u001b[0m \u001b[1;33m{\u001b[0m\u001b[1;33m{\u001b[0m\u001b[1;36m1\u001b[0m\u001b[1;33m,\u001b[0m\u001b[1;36m2\u001b[0m\u001b[1;33m}\u001b[0m\u001b[1;33m,\u001b[0m \u001b[1;33m{\u001b[0m\u001b[1;36m3\u001b[0m\u001b[1;33m,\u001b[0m\u001b[1;36m4\u001b[0m\u001b[1;33m}\u001b[0m\u001b[1;33m}\u001b[0m\u001b[1;33m\u001b[0m\u001b[1;33m\u001b[0m\u001b[0m\n\u001b[0m\u001b[0;32m      3\u001b[0m \u001b[0ms3\u001b[0m\u001b[1;33m\u001b[0m\u001b[1;33m\u001b[0m\u001b[0m\n",
      "\u001b[1;31mTypeError\u001b[0m: unhashable type: 'set'"
     ]
    }
   ],
   "source": [
    "# sets in sets XXXXX\n",
    "s3 = {{1,2}, {3,4}}\n",
    "s3"
   ]
  },
  {
   "cell_type": "code",
   "execution_count": 104,
   "id": "39b33cfa",
   "metadata": {},
   "outputs": [
    {
     "name": "stdout",
     "output_type": "stream",
     "text": [
      "frozenset({frozenset({3, 4}), frozenset({1, 2})})\n"
     ]
    }
   ],
   "source": [
    "# frozensets in frozensets OOOOO\n",
    "s4 = frozenset({frozenset({1, 2}), frozenset({3, 4})})\n",
    "print(s4)"
   ]
  },
  {
   "cell_type": "markdown",
   "id": "042094f4",
   "metadata": {},
   "source": [
    "## Sets Operators"
   ]
  },
  {
   "cell_type": "markdown",
   "id": "d5c98082",
   "metadata": {},
   "source": [
    "## `set1 | set2`, `set.union(set1, set2)`"
   ]
  },
  {
   "cell_type": "code",
   "execution_count": 121,
   "id": "eb2f30e9",
   "metadata": {},
   "outputs": [
    {
     "data": {
      "text/plain": [
       "{1, 2, 3, 4, 5, 7, 9, 11}"
      ]
     },
     "execution_count": 121,
     "metadata": {},
     "output_type": "execute_result"
    }
   ],
   "source": [
    "s5 = {1, 2, 3, 4, 5}\n",
    "s6 = {3, 5, 7, 9, 11}\n",
    "\n",
    "s5 | s6"
   ]
  },
  {
   "cell_type": "code",
   "execution_count": 122,
   "id": "574ce871",
   "metadata": {},
   "outputs": [
    {
     "data": {
      "text/plain": [
       "{1, 2, 3, 4, 5, 7, 9, 11}"
      ]
     },
     "execution_count": 122,
     "metadata": {},
     "output_type": "execute_result"
    }
   ],
   "source": [
    "set.union(s5, s6)"
   ]
  },
  {
   "cell_type": "markdown",
   "id": "2b39af50",
   "metadata": {},
   "source": [
    "## `set1 & set2`, `set.intersection(set1, set2)`"
   ]
  },
  {
   "cell_type": "code",
   "execution_count": 123,
   "id": "8034eb9f",
   "metadata": {},
   "outputs": [
    {
     "data": {
      "text/plain": [
       "{3, 5}"
      ]
     },
     "execution_count": 123,
     "metadata": {},
     "output_type": "execute_result"
    }
   ],
   "source": [
    "s5 & s6"
   ]
  },
  {
   "cell_type": "code",
   "execution_count": 124,
   "id": "b70db2e5",
   "metadata": {
    "scrolled": false
   },
   "outputs": [
    {
     "data": {
      "text/plain": [
       "{3, 5}"
      ]
     },
     "execution_count": 124,
     "metadata": {},
     "output_type": "execute_result"
    }
   ],
   "source": [
    "set.intersection(s5, s6)"
   ]
  },
  {
   "cell_type": "markdown",
   "id": "d54c9cb2",
   "metadata": {},
   "source": [
    "## `set1 - set2`, `set.difference(set1, set2)`"
   ]
  },
  {
   "cell_type": "code",
   "execution_count": 125,
   "id": "bd6c27c1",
   "metadata": {},
   "outputs": [
    {
     "data": {
      "text/plain": [
       "{1, 2, 4}"
      ]
     },
     "execution_count": 125,
     "metadata": {},
     "output_type": "execute_result"
    }
   ],
   "source": [
    "s5 - s6"
   ]
  },
  {
   "cell_type": "code",
   "execution_count": 126,
   "id": "eda51cba",
   "metadata": {},
   "outputs": [
    {
     "data": {
      "text/plain": [
       "{1, 2, 4}"
      ]
     },
     "execution_count": 126,
     "metadata": {},
     "output_type": "execute_result"
    }
   ],
   "source": [
    "set.difference(s5, s6)"
   ]
  },
  {
   "cell_type": "markdown",
   "id": "3c472365",
   "metadata": {},
   "source": [
    "## `set1 ^ set2`, `set.symmetric_difference(set1, set2)`"
   ]
  },
  {
   "cell_type": "code",
   "execution_count": 127,
   "id": "627b055b",
   "metadata": {},
   "outputs": [
    {
     "data": {
      "text/plain": [
       "{1, 2, 4, 7, 9, 11}"
      ]
     },
     "execution_count": 127,
     "metadata": {},
     "output_type": "execute_result"
    }
   ],
   "source": [
    "s5 ^ s6"
   ]
  },
  {
   "cell_type": "code",
   "execution_count": 128,
   "id": "2edab9f9",
   "metadata": {},
   "outputs": [
    {
     "data": {
      "text/plain": [
       "{1, 2, 4, 7, 9, 11}"
      ]
     },
     "execution_count": 128,
     "metadata": {},
     "output_type": "execute_result"
    }
   ],
   "source": [
    "set.symmetric_difference(s5, s6)"
   ]
  },
  {
   "cell_type": "markdown",
   "id": "dce424a9",
   "metadata": {},
   "source": [
    "## `set |= set2`, `set1.update(set2)`"
   ]
  },
  {
   "cell_type": "code",
   "execution_count": 135,
   "id": "8802b778",
   "metadata": {},
   "outputs": [
    {
     "data": {
      "text/plain": [
       "{1, 2, 3, 4, 5, 10}"
      ]
     },
     "execution_count": 135,
     "metadata": {},
     "output_type": "execute_result"
    }
   ],
   "source": [
    "s5 = {1, 2, 3, 4, 5}\n",
    "\n",
    "s5 |= {10}\n",
    "s5"
   ]
  },
  {
   "cell_type": "code",
   "execution_count": 142,
   "id": "1444b04a",
   "metadata": {},
   "outputs": [
    {
     "data": {
      "text/plain": [
       "{1, 2, 3, 4, 5, 10}"
      ]
     },
     "execution_count": 142,
     "metadata": {},
     "output_type": "execute_result"
    }
   ],
   "source": [
    "s5 = {1, 2, 3, 4, 5}\n",
    "s5.update({10})\n",
    "s5"
   ]
  },
  {
   "cell_type": "markdown",
   "id": "696e94bc",
   "metadata": {},
   "source": [
    "## `set &= set2`, `set1.intersection_upate(set2)`"
   ]
  },
  {
   "cell_type": "code",
   "execution_count": 143,
   "id": "8c78377d",
   "metadata": {},
   "outputs": [
    {
     "data": {
      "text/plain": [
       "{1, 3, 5}"
      ]
     },
     "execution_count": 143,
     "metadata": {},
     "output_type": "execute_result"
    }
   ],
   "source": [
    "s5 = {1, 2, 3, 4, 5}\n",
    "\n",
    "s5 &= {1, 3, 5, 7}\n",
    "s5"
   ]
  },
  {
   "cell_type": "code",
   "execution_count": 144,
   "id": "12b0fc79",
   "metadata": {},
   "outputs": [
    {
     "data": {
      "text/plain": [
       "{1, 3, 5}"
      ]
     },
     "execution_count": 144,
     "metadata": {},
     "output_type": "execute_result"
    }
   ],
   "source": [
    "s5 = {1, 2, 3, 4, 5}\n",
    "\n",
    "s5.intersection_update({1, 3, 5, 7})\n",
    "s5"
   ]
  },
  {
   "cell_type": "markdown",
   "id": "82453794",
   "metadata": {},
   "source": [
    "## `set -= set2`, `set1.difference_upate(set2)`"
   ]
  },
  {
   "cell_type": "code",
   "execution_count": 141,
   "id": "1fef1ea3",
   "metadata": {},
   "outputs": [
    {
     "data": {
      "text/plain": [
       "{1, 2, 4, 5}"
      ]
     },
     "execution_count": 141,
     "metadata": {},
     "output_type": "execute_result"
    }
   ],
   "source": [
    "s5 = {1, 2, 3, 4, 5}\n",
    "s5 -= {3}\n",
    "s5"
   ]
  },
  {
   "cell_type": "code",
   "execution_count": 145,
   "id": "94cf0619",
   "metadata": {},
   "outputs": [
    {
     "data": {
      "text/plain": [
       "{1, 2, 4, 5}"
      ]
     },
     "execution_count": 145,
     "metadata": {},
     "output_type": "execute_result"
    }
   ],
   "source": [
    "s5 = {1, 2, 3, 4, 5}\n",
    "\n",
    "s5.difference_update({3})\n",
    "s5"
   ]
  },
  {
   "cell_type": "markdown",
   "id": "62ff3373",
   "metadata": {},
   "source": [
    "## `set ^= set2`, `set1.symmetric_difference_upate(set2)`"
   ]
  },
  {
   "cell_type": "code",
   "execution_count": 146,
   "id": "e5e46ec1",
   "metadata": {},
   "outputs": [
    {
     "data": {
      "text/plain": [
       "{1, 2, 4, 7, 9}"
      ]
     },
     "execution_count": 146,
     "metadata": {},
     "output_type": "execute_result"
    }
   ],
   "source": [
    "s5 = {1, 2, 3, 4, 5}\n",
    "\n",
    "s5 ^= {3, 5, 7, 9}\n",
    "s5"
   ]
  },
  {
   "cell_type": "code",
   "execution_count": 147,
   "id": "70bef272",
   "metadata": {},
   "outputs": [
    {
     "data": {
      "text/plain": [
       "{1, 2, 4, 7, 9}"
      ]
     },
     "execution_count": 147,
     "metadata": {},
     "output_type": "execute_result"
    }
   ],
   "source": [
    "s5 = {1, 2, 3, 4, 5}\n",
    "\n",
    "s5.symmetric_difference_update({3, 5, 7, 9})\n",
    "s5"
   ]
  },
  {
   "cell_type": "markdown",
   "id": "27b823af",
   "metadata": {},
   "source": [
    "## `set1 <= set2`, `set1.issubset(set2)`, `set1 < set2`"
   ]
  },
  {
   "cell_type": "code",
   "execution_count": 148,
   "id": "17bbf7fe",
   "metadata": {},
   "outputs": [
    {
     "data": {
      "text/plain": [
       "True"
      ]
     },
     "execution_count": 148,
     "metadata": {},
     "output_type": "execute_result"
    }
   ],
   "source": [
    "s5 = {1, 2, 3, 4, 5}\n",
    "s7 = {1, 2, 3, 4, 5, 6}\n",
    "\n",
    "s5 <= s7"
   ]
  },
  {
   "cell_type": "code",
   "execution_count": 149,
   "id": "f45a3b4d",
   "metadata": {},
   "outputs": [
    {
     "data": {
      "text/plain": [
       "True"
      ]
     },
     "execution_count": 149,
     "metadata": {},
     "output_type": "execute_result"
    }
   ],
   "source": [
    "s5.issubset(s7)"
   ]
  },
  {
   "cell_type": "code",
   "execution_count": 150,
   "id": "f7792979",
   "metadata": {},
   "outputs": [
    {
     "data": {
      "text/plain": [
       "True"
      ]
     },
     "execution_count": 150,
     "metadata": {},
     "output_type": "execute_result"
    }
   ],
   "source": [
    "s5 < s7"
   ]
  },
  {
   "cell_type": "code",
   "execution_count": 151,
   "id": "c00f406d",
   "metadata": {},
   "outputs": [
    {
     "data": {
      "text/plain": [
       "False"
      ]
     },
     "execution_count": 151,
     "metadata": {},
     "output_type": "execute_result"
    }
   ],
   "source": [
    "s5 < {1,2,3,4,5}"
   ]
  },
  {
   "cell_type": "markdown",
   "id": "c5f73b51",
   "metadata": {},
   "source": [
    "## `set1 >= set2`, `set1.issuperset(set2)`, `set1 > set2`"
   ]
  },
  {
   "cell_type": "code",
   "execution_count": 152,
   "id": "042dc2f8",
   "metadata": {},
   "outputs": [
    {
     "data": {
      "text/plain": [
       "True"
      ]
     },
     "execution_count": 152,
     "metadata": {},
     "output_type": "execute_result"
    }
   ],
   "source": [
    "s5 = {1, 2, 3, 4, 5}\n",
    "s8 = {1, 2, 3, 4}\n",
    "\n",
    "s5 >= s8"
   ]
  },
  {
   "cell_type": "code",
   "execution_count": 155,
   "id": "f3455070",
   "metadata": {},
   "outputs": [
    {
     "data": {
      "text/plain": [
       "True"
      ]
     },
     "execution_count": 155,
     "metadata": {},
     "output_type": "execute_result"
    }
   ],
   "source": [
    "s5.issuperset(s8)"
   ]
  },
  {
   "cell_type": "code",
   "execution_count": 156,
   "id": "342cfc82",
   "metadata": {
    "scrolled": true
   },
   "outputs": [
    {
     "data": {
      "text/plain": [
       "True"
      ]
     },
     "execution_count": 156,
     "metadata": {},
     "output_type": "execute_result"
    }
   ],
   "source": [
    "s5 > s8"
   ]
  },
  {
   "cell_type": "markdown",
   "id": "98b86e67",
   "metadata": {},
   "source": [
    "## `set1.isdisjoint(set2)`"
   ]
  },
  {
   "cell_type": "code",
   "execution_count": 157,
   "id": "f990d08c",
   "metadata": {},
   "outputs": [
    {
     "data": {
      "text/plain": [
       "False"
      ]
     },
     "execution_count": 157,
     "metadata": {},
     "output_type": "execute_result"
    }
   ],
   "source": [
    "s5.isdisjoint(s8)"
   ]
  },
  {
   "cell_type": "code",
   "execution_count": 158,
   "id": "67bfa049",
   "metadata": {},
   "outputs": [
    {
     "data": {
      "text/plain": [
       "True"
      ]
     },
     "execution_count": 158,
     "metadata": {},
     "output_type": "execute_result"
    }
   ],
   "source": [
    "s5.isdisjoint({6, 7, 8})"
   ]
  },
  {
   "cell_type": "markdown",
   "id": "bbf71cfa",
   "metadata": {},
   "source": [
    "## `add()`"
   ]
  },
  {
   "cell_type": "code",
   "execution_count": 9,
   "id": "d75238c2",
   "metadata": {},
   "outputs": [
    {
     "data": {
      "text/plain": [
       "{1, 2, 3, 4, 5}"
      ]
     },
     "execution_count": 9,
     "metadata": {},
     "output_type": "execute_result"
    }
   ],
   "source": [
    "s6 = {1, 2, 3, 4}\n",
    "s6.add(5)\n",
    "s6"
   ]
  },
  {
   "cell_type": "markdown",
   "id": "e9285843",
   "metadata": {},
   "source": [
    "## `remove()`, `discard()`"
   ]
  },
  {
   "cell_type": "code",
   "execution_count": 10,
   "id": "f3b72eef",
   "metadata": {},
   "outputs": [
    {
     "data": {
      "text/plain": [
       "{1, 2, 4, 5}"
      ]
     },
     "execution_count": 10,
     "metadata": {},
     "output_type": "execute_result"
    }
   ],
   "source": [
    "s6.remove(3)\n",
    "s6"
   ]
  },
  {
   "cell_type": "code",
   "execution_count": 11,
   "id": "90306c3c",
   "metadata": {},
   "outputs": [
    {
     "ename": "KeyError",
     "evalue": "3",
     "output_type": "error",
     "traceback": [
      "\u001b[1;31m---------------------------------------------------------------------------\u001b[0m",
      "\u001b[1;31mKeyError\u001b[0m                                  Traceback (most recent call last)",
      "\u001b[1;32m<ipython-input-11-8d79bfdbb31e>\u001b[0m in \u001b[0;36m<module>\u001b[1;34m\u001b[0m\n\u001b[1;32m----> 1\u001b[1;33m \u001b[0ms6\u001b[0m\u001b[1;33m.\u001b[0m\u001b[0mremove\u001b[0m\u001b[1;33m(\u001b[0m\u001b[1;36m3\u001b[0m\u001b[1;33m)\u001b[0m\u001b[1;33m\u001b[0m\u001b[1;33m\u001b[0m\u001b[0m\n\u001b[0m",
      "\u001b[1;31mKeyError\u001b[0m: 3"
     ]
    }
   ],
   "source": [
    "s6.remove(3)"
   ]
  },
  {
   "cell_type": "code",
   "execution_count": 12,
   "id": "87ef5013",
   "metadata": {},
   "outputs": [
    {
     "data": {
      "text/plain": [
       "{1, 2, 4, 5}"
      ]
     },
     "execution_count": 12,
     "metadata": {},
     "output_type": "execute_result"
    }
   ],
   "source": [
    "s6.discard(3)\n",
    "s6"
   ]
  },
  {
   "cell_type": "code",
   "execution_count": 13,
   "id": "3eca412a",
   "metadata": {},
   "outputs": [
    {
     "data": {
      "text/plain": [
       "{1, 4, 5}"
      ]
     },
     "execution_count": 13,
     "metadata": {},
     "output_type": "execute_result"
    }
   ],
   "source": [
    "s6.discard(2)\n",
    "s6"
   ]
  },
  {
   "cell_type": "markdown",
   "id": "2b2993a7",
   "metadata": {},
   "source": [
    "## `pop()`, `clear()`"
   ]
  },
  {
   "cell_type": "code",
   "execution_count": 14,
   "id": "4c836e1a",
   "metadata": {},
   "outputs": [
    {
     "data": {
      "text/plain": [
       "1"
      ]
     },
     "execution_count": 14,
     "metadata": {},
     "output_type": "execute_result"
    }
   ],
   "source": [
    "s7 = {1, 2, 3, 4}\n",
    "s7.pop()"
   ]
  },
  {
   "cell_type": "code",
   "execution_count": 15,
   "id": "b153ae78",
   "metadata": {},
   "outputs": [
    {
     "data": {
      "text/plain": [
       "{2, 3, 4}"
      ]
     },
     "execution_count": 15,
     "metadata": {},
     "output_type": "execute_result"
    }
   ],
   "source": [
    "s7"
   ]
  },
  {
   "cell_type": "code",
   "execution_count": 18,
   "id": "706c7dcd",
   "metadata": {},
   "outputs": [
    {
     "data": {
      "text/plain": [
       "set()"
      ]
     },
     "execution_count": 18,
     "metadata": {},
     "output_type": "execute_result"
    }
   ],
   "source": [
    "s8 = {1, 2, 3, 4}\n",
    "s8.clear()\n",
    "s8"
   ]
  },
  {
   "cell_type": "markdown",
   "id": "083744d1",
   "metadata": {},
   "source": [
    "## `copy()`"
   ]
  },
  {
   "cell_type": "code",
   "execution_count": 20,
   "id": "f3dfd5ac",
   "metadata": {},
   "outputs": [
    {
     "name": "stdout",
     "output_type": "stream",
     "text": [
      "{1, 2, 3, 4}\n",
      "{1, 2, 3, 4, 5}\n"
     ]
    }
   ],
   "source": [
    "s9 = {1, 2, 3, 4}\n",
    "s10 = s9.copy()\n",
    "s10.add(5)\n",
    "\n",
    "print(s9)\n",
    "print(s10)"
   ]
  },
  {
   "cell_type": "code",
   "execution_count": 22,
   "id": "b97b4581",
   "metadata": {},
   "outputs": [
    {
     "name": "stdout",
     "output_type": "stream",
     "text": [
      "1 2 3 4 5 "
     ]
    }
   ],
   "source": [
    "for i in s10:\n",
    "    print(i, end=' ')"
   ]
  },
  {
   "cell_type": "code",
   "execution_count": 23,
   "id": "c0fea920",
   "metadata": {},
   "outputs": [
    {
     "data": {
      "text/plain": [
       "{'a', 'e', 'l', 'p'}"
      ]
     },
     "execution_count": 23,
     "metadata": {},
     "output_type": "execute_result"
    }
   ],
   "source": [
    "s11 = {i for i in 'apple'}\n",
    "s11"
   ]
  },
  {
   "cell_type": "code",
   "execution_count": 24,
   "id": "bbd4efd5",
   "metadata": {},
   "outputs": [
    {
     "data": {
      "text/plain": [
       "{'e', 'i', 'n'}"
      ]
     },
     "execution_count": 24,
     "metadata": {},
     "output_type": "execute_result"
    }
   ],
   "source": [
    "s12 = {i for i in 'pineapple' if i not in 'apl'}\n",
    "s12"
   ]
  },
  {
   "cell_type": "code",
   "execution_count": 26,
   "id": "b4815a88",
   "metadata": {},
   "outputs": [
    {
     "name": "stdout",
     "output_type": "stream",
     "text": [
      "{1, 2, 3, 4, 5}\n",
      "{1, 2, 4, 5}\n",
      "{1, 2}\n",
      "{3}\n",
      "{4, 5}\n"
     ]
    }
   ],
   "source": [
    "a = {1, 2, 3}\n",
    "b = {3, 4, 5}\n",
    "\n",
    "print(set.union(a, b))\n",
    "print(a ^ b)\n",
    "print(a - b)\n",
    "print(a & b)\n",
    "print(set.difference(b, a))"
   ]
  },
  {
   "cell_type": "markdown",
   "id": "181f0ffb",
   "metadata": {},
   "source": [
    "## 28.6 Exercise: Find Common multiple\n",
    "\n",
    "Print the common multiple of 3 and 5 of the numbers from 1 to 100 in a set form.\n",
    "\n",
    "1부터 100까지 숫자 중 3과 5의 공배수를 세트 형태로 출력되게 만드세요."
   ]
  },
  {
   "cell_type": "code",
   "execution_count": 34,
   "id": "602c6b49",
   "metadata": {},
   "outputs": [
    {
     "name": "stdout",
     "output_type": "stream",
     "text": [
      "{75, 45, 15, 90, 60, 30}\n"
     ]
    }
   ],
   "source": [
    "a = {i for i in range(1, 101) if i % 3 == 0}\n",
    "b = {i for i in range(1, 101) if i % 5 == 0}\n",
    "\n",
    "print(a & b)"
   ]
  },
  {
   "cell_type": "code",
   "execution_count": 36,
   "id": "34e5939d",
   "metadata": {},
   "outputs": [
    {
     "data": {
      "text/plain": [
       "{15, 30, 45, 60, 75, 90}"
      ]
     },
     "execution_count": 36,
     "metadata": {},
     "output_type": "execute_result"
    }
   ],
   "source": [
    "{i for i in range(1, 101) if i % 3 == 0 and i % 5 == 0}"
   ]
  },
  {
   "cell_type": "code",
   "execution_count": 37,
   "id": "84c2ddb4",
   "metadata": {},
   "outputs": [
    {
     "data": {
      "text/plain": [
       "{15, 30, 45, 60, 75, 90}"
      ]
     },
     "execution_count": 37,
     "metadata": {},
     "output_type": "execute_result"
    }
   ],
   "source": [
    "{i for i in range(1, 101) if i % 15 == 0}"
   ]
  },
  {
   "cell_type": "markdown",
   "id": "25e86b96",
   "metadata": {},
   "source": [
    "## 26.9 Problem: Find Common divisor\n",
    "\n",
    "Complete the source code to get two numbers of common divisor in a set form, and print the sum of the common divisor.\n",
    "\n",
    "표준 입력으로 양의 정수 두 개가 입력됩니다. 소스 코드를 완성하여 두 숫자의 공약수를 세트 형태로 구하도록 만드세요. 단, 최종 결과는 공약수의 합으로 판단합니다."
   ]
  },
  {
   "cell_type": "code",
   "execution_count": 44,
   "id": "dc794d8a",
   "metadata": {},
   "outputs": [
    {
     "name": "stdout",
     "output_type": "stream",
     "text": [
      "100 200\n",
      "217\n"
     ]
    }
   ],
   "source": [
    "x, y = map(int, input().split())\n",
    "a = {i for i in range(1, x + 1) if x % i == 0}\n",
    "b = {i for i in range(1, y + 1) if y % i == 0}\n",
    "\n",
    "#print(a, b)\n",
    "\n",
    "divisor = a & b\n",
    "#print(divisor)\n",
    "\n",
    "result = 0\n",
    "if type(divisor) == set:\n",
    "    result = sum(divisor)\n",
    "    \n",
    "print(result)"
   ]
  },
  {
   "cell_type": "markdown",
   "id": "57d3fd61",
   "metadata": {},
   "source": [
    "## Summary\n",
    "\n",
    "### Set Methods\n",
    "\n",
    "Method | Operator | Description\n",
    ":---|:---|:---\n",
    "`set.union(set1, set2)` | `\\|` | Return a set containing the union of sets (합집합)\n",
    "`set.intersection(set1, set2)` | `&` | Returns a set, that is the intersection of two other sets (교집합)\n",
    "`set.difference(set1, set2)` | `-` | Returns a set containing the difference between two or more sets (차집합)\n",
    "`set.symmetric_difference(set1, set2)` | `^` | Returns a set with the symmetric differences of two sets (대칭차집합)\n",
    "`update(set)` | `\\|=` | \tUpdate the set with another set, or any other iterable\n",
    "`intersection_update(set)` | `&=` | Removes the items in this set that are not present in other, specified set(s)\n",
    "`difference_update(set)` | `-=` | \tRemoves the items in this set that are also included in another, specified set\n",
    "`symmetric_difference_update(set)` | `^=` | Inserts the symmetric differences from this set and another\n",
    "`issubset(set)` | `<=` | Returns whether another set contains this set or not\n",
    " | `<` |\n",
    " `issuperset(set)` | `>=` | Returns whether this set contains another set or not\n",
    "  | `>` |\n",
    " `isdisjoint(set)` | | Returns whether two sets have a intersection or not\n",
    " `add(element)` | | Adds an element to the set\n",
    " `remove(element)` | | \tRemoves the specified element\n",
    " `discard(element)` | | \tRemove the specified item\n",
    " `pop()` | | \tRemoves an element from the set\n",
    " `clear()` | | Removes all the elements from the set\n",
    " `copy()` | | \tReturns a copy of the set\n",
    " "
   ]
  },
  {
   "cell_type": "code",
   "execution_count": null,
   "id": "38355a8f",
   "metadata": {},
   "outputs": [],
   "source": []
  }
 ],
 "metadata": {
  "kernelspec": {
   "display_name": "Python 3",
   "language": "python",
   "name": "python3"
  },
  "language_info": {
   "codemirror_mode": {
    "name": "ipython",
    "version": 3
   },
   "file_extension": ".py",
   "mimetype": "text/x-python",
   "name": "python",
   "nbconvert_exporter": "python",
   "pygments_lexer": "ipython3",
   "version": "3.9.2"
  }
 },
 "nbformat": 4,
 "nbformat_minor": 5
}
